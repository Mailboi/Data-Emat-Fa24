{
 "cells": [
  {
   "cell_type": "markdown",
   "id": "36662f85-07fe-450c-8e4f-e7317a0b5534",
   "metadata": {},
   "source": [
    "# Systems Check\n",
    "## Jacob L. Nicholson\n",
    "### 8/22/2024\n",
    "In this class I want to learn how __Data__ works in the digital world and how it connects to things I use _everyday_ and will create in my career.\n",
    "\n",
    "I am:\n",
    "1. enjoying this class so far\n",
    "2. a VCD major who is getting a nice break from always designing\n",
    "3. working for the Digital Leadership Academy\n",
    "\n",
    "Here is an image of something cool:\n",
    "\n",
    "<img src=\"https://png.pngtree.com/background/20240114/original/pngtree-orangutan-in-sumatraindonesia-orangatang-female-face-photo-picture-image_7274023.jpg\" alt=\"Orangatang\" />\n",
    "\n"
   ]
  }
 ],
 "metadata": {
  "kernelspec": {
   "display_name": "Python 3 (ipykernel)",
   "language": "python",
   "name": "python3"
  },
  "language_info": {
   "codemirror_mode": {
    "name": "ipython",
    "version": 3
   },
   "file_extension": ".py",
   "mimetype": "text/x-python",
   "name": "python",
   "nbconvert_exporter": "python",
   "pygments_lexer": "ipython3",
   "version": "3.12.4"
  }
 },
 "nbformat": 4,
 "nbformat_minor": 5
}
