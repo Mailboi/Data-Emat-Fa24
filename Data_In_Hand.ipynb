{
 "cells": [
  {
   "cell_type": "code",
   "execution_count": 8,
   "id": "7c0033ed-8e43-49df-b63d-b4e9ced110a8",
   "metadata": {},
   "outputs": [],
   "source": [
    "import urllib\n",
    "import requests\n",
    "import pandas as pd\n",
    "import json\n",
    "import matplotlib.pyplot as plt\n",
    "import base64\n",
    "from IPython.display import GeoJSON\n",
    "with open('export.geojson') as fo:\n",
    "    data_str = fo.read()\n",
    "    data = json.loads(data_str) \n",
    "df = pd.DataFrame(data)"
   ]
  },
  {
   "cell_type": "code",
   "execution_count": 9,
   "id": "cc73fc15-6a9f-4bdf-80a5-9897640c6281",
   "metadata": {},
   "outputs": [],
   "source": [
    "geojson_file = 'export.geojson'\n",
    "# Load the GeoJSON file\n",
    "with open(geojson_file, 'r') as f:\n",
    "    geojson_data = json.load(f)\n",
    "\n",
    "# Render the GeoJSON\n",
    "#GeoJSON(data=geojson_data)"
   ]
  },
  {
   "cell_type": "code",
   "execution_count": 10,
   "id": "f6f7d815-5847-4940-b9e6-258ccf059524",
   "metadata": {},
   "outputs": [],
   "source": [
    "ONDRgeojson_file = 'query.geojson'\n",
    "# Load the GeoJSON file\n",
    "with open(ONDRgeojson_file, 'r') as f:\n",
    "    geojson_data = json.load(f)\n",
    "\n",
    "# Render the GeoJSON\n",
    "#GeoJSON(data=geojson_data)"
   ]
  }
 ],
 "metadata": {
  "kernelspec": {
   "display_name": "Python 3 (ipykernel)",
   "language": "python",
   "name": "python3"
  },
  "language_info": {
   "codemirror_mode": {
    "name": "ipython",
    "version": 3
   },
   "file_extension": ".py",
   "mimetype": "text/x-python",
   "name": "python",
   "nbconvert_exporter": "python",
   "pygments_lexer": "ipython3",
   "version": "3.12.4"
  }
 },
 "nbformat": 4,
 "nbformat_minor": 5
}
