{
 "cells": [
  {
   "cell_type": "markdown",
   "id": "0e1452a4-27a9-47ee-84fe-c75dc1357413",
   "metadata": {},
   "source": [
    "<h2>API Data Report: What makes tik tok sounds so popular?</h2>\n",
    "<h4>Jacob Nicholson</h4>\n",
    "<h4>10/11/24</h4>\n",
    "<p><b>Theoretical Hypothesis:</b> The sections of songs popular on tik tok share similar audiofeatures.</p>\n",
    "<p><b>Statistical Hypothesis:</b> Of the top 5 songs found on a spotify playlist of the most popular tik tok songs of the past 5 years, more than 50% of them have the same audio analysis features within their sections</p>"
   ]
  },
  {
   "cell_type": "code",
   "execution_count": 124,
   "id": "4dc6496e-8ba6-4b0b-898c-3ddd07bd56e5",
   "metadata": {},
   "outputs": [],
   "source": [
    "import urllib\n",
    "import requests\n",
    "import pandas as pd\n",
    "import json\n",
    "import base64"
   ]
  },
  {
   "cell_type": "code",
   "execution_count": 125,
   "id": "d07347ab-2065-41d0-b8be-6bc65f386a09",
   "metadata": {},
   "outputs": [],
   "source": [
    "def get_session_token(SessionID, SessionKey):\n",
    "    url= 'https://accounts.spotify.com/api/token'\n",
    "    data= {'grant_type': 'client_credentials'}\n",
    "    encoded_key = base64.b64encode(str(SessionID + \":\" + SessionKey).\\\n",
    "                                   encode(\"ascii\"))\n",
    "    header = {'Authorization' : 'Basic {}'.format(encoded_key.decode(\"ascii\"))}\n",
    "    response = requests.post(url, \n",
    "                            data = data, \n",
    "                            headers = header)\n",
    "    print (response.status_code)\n",
    "    return response.json()['access_token']"
   ]
  },
  {
   "cell_type": "code",
   "execution_count": 126,
   "id": "53646a22-965c-407f-b221-0db725abaffb",
   "metadata": {},
   "outputs": [],
   "source": [
    "keys = pd.read_csv(\"/Users/jacobnicholson/DataInEmergingMediaAndTech/SpotifyAPIClientID.txt\")"
   ]
  },
  {
   "cell_type": "code",
   "execution_count": 127,
   "id": "5d9bc2de-7e90-4670-9e9a-46e54a26bbd7",
   "metadata": {},
   "outputs": [],
   "source": [
    "#keys"
   ]
  },
  {
   "cell_type": "code",
   "execution_count": 128,
   "id": "c78a5f79-214e-49d5-8784-43814f3c3671",
   "metadata": {},
   "outputs": [
    {
     "name": "stdout",
     "output_type": "stream",
     "text": [
      "200\n"
     ]
    }
   ],
   "source": [
    "access_token = get_session_token(keys['Client_ID'].iloc[0],keys['Client_Secret'].iloc[0])"
   ]
  },
  {
   "cell_type": "markdown",
   "id": "c73ee657-5ddd-4774-9844-1a596b08d4d7",
   "metadata": {},
   "source": [
    "I'm using these endpoints to call in the playlist, call in the tracks from those playlists, and analyze each of those tracks. I will be using the reponse items, get playlist items, get track id, and get track audio anaylisis from which i will extract the sections of the track. The possibility of this data being innacurate comes from the human in error in whoever made this playlist, the varying confidence in which the spotify API is able to label the audio analysis features, the length of the spotify sections not mathcing up with the length of their respective tik tok sounds, and the unfortunately small sample size in the end."
   ]
  },
  {
   "cell_type": "code",
   "execution_count": 129,
   "id": "07e96a8e-17e2-459a-9a91-077e053176d4",
   "metadata": {},
   "outputs": [],
   "source": [
    "playlist_items_ep = 'https://api.spotify.com/v1/playlists/{}/tracks'\n",
    "tracks_ep = 'https://api.spotify.com/v1/tracks'\n",
    "tracks_AA_ep = 'https://api.spotify.com/v1/audio-analysis/{}'"
   ]
  },
  {
   "cell_type": "code",
   "execution_count": 130,
   "id": "4508c4c2-d507-4aa5-8328-9b6bc675ba61",
   "metadata": {},
   "outputs": [],{
 "cells": [
  {
   "cell_type": "markdown",
   "id": "0e1452a4-27a9-47ee-84fe-c75dc1357413",
   "metadata": {},
   "source": [
    "<h2>API Data Report: What makes tik tok sounds so popular?</h2>\n",
    "<h4>Jacob Nicholson</h4>\n",
    "<h4>10/11/24</h4>\n",
    "<p><b>Intro:</b> The emergence of the short-form video platform Tik Tok has re-shaped the way musical artists become popular. Musicians and executives are now looking to create a viral \"sound\" that can played in background of other creators videos. In this report, I will be using the Spotify API to anaylize a playlist of the top songs on Tik Tok of the past 5 years and try to find out what similarities they may share which allow them that secret touch of virality.</p>\n",
    "<p><b>Theoretical Hypothesis:</b> The sections of songs popular on Tik Tok share similar audiofeatures.</p>\n",
    "<p><b>Statistical Hypothesis:</b> Of the top 5 songs found on a Spotify playlist of the most popular Tik Tok songs of the past 5 years, more than 50% of them have the same audio analysis features within their sections.</p>"
   ]
  },
  {
   "cell_type": "code",
   "execution_count": 242,
   "id": "4dc6496e-8ba6-4b0b-898c-3ddd07bd56e5",
   "metadata": {},
   "outputs": [],
   "source": [
    "import urllib\n",
    "import requests\n",
    "import pandas as pd\n",
    "import json\n",
    "import matplotlib.pyplot as plt\n",
    "import base64"
   ]
  },
  {
   "cell_type": "code",
   "execution_count": 243,
   "id": "d07347ab-2065-41d0-b8be-6bc65f386a09",
   "metadata": {},
   "outputs": [],
   "source": [
    "def get_session_token(SessionID, SessionKey):\n",
    "    url= 'https://accounts.spotify.com/api/token'\n",
    "    data= {'grant_type': 'client_credentials'}\n",
    "    encoded_key = base64.b64encode(str(SessionID + \":\" + SessionKey).\\\n",
    "                                   encode(\"ascii\"))\n",
    "    header = {'Authorization' : 'Basic {}'.format(encoded_key.decode(\"ascii\"))}\n",
    "    response = requests.post(url, \n",
    "                            data = data, \n",
    "                            headers = header)\n",
    "    print (response.status_code)\n",
    "    return response.json()['access_token']"
   ]
  },
  {
   "cell_type": "code",
   "execution_count": 244,
   "id": "53646a22-965c-407f-b221-0db725abaffb",
   "metadata": {},
   "outputs": [],
   "source": [
    "keys = pd.read_csv(\"/Users/jacobnicholson/DataInEmergingMediaAndTech/SpotifyAPIClientID.txt\")"
   ]
  },
  {
   "cell_type": "code",
   "execution_count": 245,
   "id": "5d9bc2de-7e90-4670-9e9a-46e54a26bbd7",
   "metadata": {},
   "outputs": [],
   "source": [
    "#keys"
   ]
  },
  {
   "cell_type": "code",
   "execution_count": 246,
   "id": "c78a5f79-214e-49d5-8784-43814f3c3671",
   "metadata": {},
   "outputs": [
    {
     "name": "stdout",
     "output_type": "stream",
     "text": [
      "200\n"
     ]
    }
   ],
   "source": [
    "access_token = get_session_token(keys['Client_ID'].iloc[0],keys['Client_Secret'].iloc[0])"
   ]
  },
  {
   "cell_type": "markdown",
   "id": "c73ee657-5ddd-4774-9844-1a596b08d4d7",
   "metadata": {},
   "source": [
    "I'm using these endpoints to call in the playlist, call in the tracks from those playlists, and analyze each of those tracks. I will be using the reponse items, get playlist items, get track id, and get track audio anaylisis from which I will extract the sections of the track. The possibility of this data being innacurate comes from the human error in whoever made this playlist, the varying confidence in which the Spotify API is able to label the audio analysis features, the length of the spotify sections not mathcing up with the length of their respective tik tok sounds, and the unfortunately small sample size in the end."
   ]
  },
  {
   "cell_type": "code",
   "execution_count": 247,
   "id": "07e96a8e-17e2-459a-9a91-077e053176d4",
   "metadata": {},
   "outputs": [],
   "source": [
    "playlist_items_ep = 'https://api.spotify.com/v1/playlists/{}/tracks'\n",
    "tracks_ep = 'https://api.spotify.com/v1/tracks'\n",
    "tracks_AA_ep = 'https://api.spotify.com/v1/audio-analysis/{}'"
   ]
  },
  {
   "cell_type": "code",
   "execution_count": 248,
   "id": "4508c4c2-d507-4aa5-8328-9b6bc675ba61",
   "metadata": {},
   "outputs": [],
   "source": [
    "def api_call(endpoint_url, api_header):\n",
    "    response = requests.get(endpoint_url, headers = api_header)\n",
    "    print(response.status_code)\n",
    "    return response.json()"
   ]
  },
  {
   "cell_type": "code",
   "execution_count": 249,
   "id": "37b4e01e-4c1a-4c6f-9ded-54f474ae891d",
   "metadata": {},
   "outputs": [],
   "source": [
    "session_header = {'Authorization' : 'Bearer {}'.format(access_token)}"
   ]
  },
  {
   "cell_type": "markdown",
   "id": "c12a17b2-ea82-4cdd-bce4-91ddf682c8be",
   "metadata": {},
   "source": [
    "<h5>The songs analyzed in this report will be found in this playlist, titled \"Best Tik Tok Songs 2019-2024\" by \"The Vibe Guide\":</h5>"
   ]
  },
  {
   "cell_type": "code",
   "execution_count": 250,
   "id": "e7b48195-8d4d-4795-9d39-b27086d63236",
   "metadata": {},
   "outputs": [],
   "source": [
    "playlist_id = '1H3AmBXPtLgPOwwf1WvUYb'"
   ]
  },
  {
   "cell_type": "code",
   "execution_count": 251,
   "id": "18b594e6-ffa5-4a2a-8dea-ed2031e53527",
   "metadata": {},
   "outputs": [
    {
     "data": {
      "text/plain": [
       "'https://api.spotify.com/v1/playlists/1H3AmBXPtLgPOwwf1WvUYb/tracks'"
      ]
     },
     "execution_count": 251,
     "metadata": {},
     "output_type": "execute_result"
    }
   ],
   "source": [
    "playlist_items_ep.format(playlist_id)"
   ]
  },
  {
   "cell_type": "code",
   "execution_count": 252,
   "id": "d70120eb-aaef-4eb1-bd71-fd72ccde6659",
   "metadata": {},
   "outputs": [
    {
     "name": "stdout",
     "output_type": "stream",
     "text": [
      "200\n"
     ]
    }
   ],
   "source": [
    "playlist_response = api_call(playlist_items_ep.format(playlist_id), session_header)"
   ]
  },
  {
   "cell_type": "code",
   "execution_count": 253,
   "id": "2b2d6a27-3bf1-4e55-84d8-f2651aa84a41",
   "metadata": {},
   "outputs": [
    {
     "name": "stdout",
     "output_type": "stream",
     "text": [
      "dict_keys(['href', 'items', 'limit', 'next', 'offset', 'previous', 'total'])\n"
     ]
    }
   ],
   "source": [
    "print(playlist_response.keys())"
   ]
  },
  {
   "cell_type": "code",
   "execution_count": 254,
   "id": "cbcbe5b6-077e-4de1-8189-d36ae7337d12",
   "metadata": {},
   "outputs": [],
   "source": [
    "playlist_df= pd.DataFrame(playlist_response['items'])\n",
    "#playlist_df.head()"
   ]
  },
  {
   "cell_type": "code",
   "execution_count": 255,
   "id": "f096cb7a-555e-4dc5-b707-dd41fd97193f",
   "metadata": {},
   "outputs": [
    {
     "data": {
      "text/html": [
       "<div>\n",
       "<style scoped>\n",
       "    .dataframe tbody tr th:only-of-type {\n",
       "        vertical-align: middle;\n",
       "    }\n",
       "\n",
       "    .dataframe tbody tr th {\n",
       "        vertical-align: top;\n",
       "    }\n",
       "\n",
       "    .dataframe thead th {\n",
       "        text-align: right;\n",
       "    }\n",
       "</style>\n",
       "<table border=\"1\" class=\"dataframe\">\n",
       "  <thead>\n",
       "    <tr style=\"text-align: right;\">\n",
       "      <th></th>\n",
       "      <th>track</th>\n",
       "    </tr>\n",
       "  </thead>\n",
       "  <tbody>\n",
       "    <tr>\n",
       "      <th>0</th>\n",
       "      <td>{'preview_url': 'https://p.scdn.co/mp3-preview...</td>\n",
       "    </tr>\n",
       "    <tr>\n",
       "      <th>1</th>\n",
       "      <td>{'preview_url': 'https://p.scdn.co/mp3-preview...</td>\n",
       "    </tr>\n",
       "    <tr>\n",
       "      <th>2</th>\n",
       "      <td>{'preview_url': None, 'available_markets': ['A...</td>\n",
       "    </tr>\n",
       "    <tr>\n",
       "      <th>3</th>\n",
       "      <td>{'preview_url': 'https://p.scdn.co/mp3-preview...</td>\n",
       "    </tr>\n",
       "    <tr>\n",
       "      <th>4</th>\n",
       "      <td>{'preview_url': 'https://p.scdn.co/mp3-preview...</td>\n",
       "    </tr>\n",
       "  </tbody>\n",
       "</table>\n",
       "</div>"
      ],
      "text/plain": [
       "                                               track\n",
       "0  {'preview_url': 'https://p.scdn.co/mp3-preview...\n",
       "1  {'preview_url': 'https://p.scdn.co/mp3-preview...\n",
       "2  {'preview_url': None, 'available_markets': ['A...\n",
       "3  {'preview_url': 'https://p.scdn.co/mp3-preview...\n",
       "4  {'preview_url': 'https://p.scdn.co/mp3-preview..."
      ]
     },
     "execution_count": 255,
     "metadata": {},
     "output_type": "execute_result"
    }
   ],
   "source": [
    "playlist_df2 = pd.DataFrame(playlist_response['items']).drop(columns = ['added_at', 'added_by', 'is_local', 'primary_color', 'video_thumbnail'])\n",
    "playlist_df2.head()"
   ]
  },
  {
   "cell_type": "code",
   "execution_count": 256,
   "id": "83055a96-fb99-4b9e-ac6a-61c56fb8f73e",
   "metadata": {},
   "outputs": [],
   "source": [
    "#playlist_df2.columns"
   ]
  },
  {
   "cell_type": "code",
   "execution_count": 257,
   "id": "504daac1-b753-4fa3-beb3-d8b67f9f2c7c",
   "metadata": {},
   "outputs": [],
   "source": [
    "songs_ids_df = pd.DataFrame({\n",
    "    'Song Title': [track['name'] for track in playlist_df2['track']],\n",
    "    'Song ID': [track['id'] for track in playlist_df2['track']],\n",
    "    'Popularity': [track['popularity'] for track in playlist_df2['track']],\n",
    "    'Song Artist': [', '.join([artist['name'] for artist in track['artists']]) for track in playlist_df2['track']],\n",
    "})"
   ]
  },
  {
   "cell_type": "markdown",
   "id": "b594d907-8c03-4a24-bebb-bdf26f76d02d",
   "metadata": {},
   "source": [
    "<h4>I then sorted the songs by their popularityand collected the Id's of every song from that list</h4>"
   ]
  },
  {
   "cell_type": "code",
   "execution_count": 258,
   "id": "ebfcba21-f070-4e8b-a194-593895e4537b",
   "metadata": {},
   "outputs": [],
   "source": [
    "song_ids = songs_ids_df['Song ID'].tolist()\n",
    "limited_song_ids = song_ids[:50]\n",
    "ids_string = ','.join(limited_song_ids)\n",
    "#ids_string"
   ]
  },
  {
   "cell_type": "code",
   "execution_count": 259,
   "id": "158033c2-71a3-4a60-a662-f4590080a08e",
   "metadata": {},
   "outputs": [],
   "source": [
    "song_ids = songs_ids_df['Song ID'].tolist()\n",
    "limited_song_ids = song_ids[:50]\n",
    "ids_string = ','.join(limited_song_ids)"
   ]
  },
  {
   "cell_type": "code",
   "execution_count": 260,
   "id": "c513764a-9469-4a81-96b1-c53e8d296fc9",
   "metadata": {},
   "outputs": [],
   "source": [
    "song_ids_df2 = pd.DataFrame({'Song ID': limited_song_ids})"
   ]
  },
  {
   "cell_type": "code",
   "execution_count": 261,
   "id": "c208a4ab-3fb1-459f-8b21-5fc7cb3911a9",
   "metadata": {},
   "outputs": [
    {
     "data": {
      "text/html": [
       "<div>\n",
       "<style scoped>\n",
       "    .dataframe tbody tr th:only-of-type {\n",
       "        vertical-align: middle;\n",
       "    }\n",
       "\n",
       "    .dataframe tbody tr th {\n",
       "        vertical-align: top;\n",
       "    }\n",
       "\n",
       "    .dataframe thead th {\n",
       "        text-align: right;\n",
       "    }\n",
       "</style>\n",
       "<table border=\"1\" class=\"dataframe\">\n",
       "  <thead>\n",
       "    <tr style=\"text-align: right;\">\n",
       "      <th></th>\n",
       "      <th>Song Title</th>\n",
       "      <th>Song ID</th>\n",
       "      <th>Popularity</th>\n",
       "      <th>Song Artist</th>\n",
       "    </tr>\n",
       "  </thead>\n",
       "  <tbody>\n",
       "    <tr>\n",
       "      <th>0</th>\n",
       "      <td>Alibi (with Pabllo Vittar &amp; Yseult)</td>\n",
       "      <td>5496lks6V3fh1mZAB6IAap</td>\n",
       "      <td>86</td>\n",
       "      <td>Sevdaliza, Pabllo Vittar, Yseult</td>\n",
       "    </tr>\n",
       "    <tr>\n",
       "      <th>14</th>\n",
       "      <td>greedy</td>\n",
       "      <td>3rUGC1vUpkDG9CZFHMur1t</td>\n",
       "      <td>86</td>\n",
       "      <td>Tate McRae</td>\n",
       "    </tr>\n",
       "    <tr>\n",
       "      <th>1</th>\n",
       "      <td>Move</td>\n",
       "      <td>1BJJbSX6muJVF2AK7uH1x4</td>\n",
       "      <td>86</td>\n",
       "      <td>Adam Port, Stryv, Keinemusik, Orso, Malachiii</td>\n",
       "    </tr>\n",
       "    <tr>\n",
       "      <th>34</th>\n",
       "      <td>Kill Bill</td>\n",
       "      <td>1Qrg8KqiBpW07V7PNxwwwL</td>\n",
       "      <td>86</td>\n",
       "      <td>SZA</td>\n",
       "    </tr>\n",
       "    <tr>\n",
       "      <th>5</th>\n",
       "      <td>Beautiful Things</td>\n",
       "      <td>6tNQ70jh4OwmPGpYy6R2o9</td>\n",
       "      <td>85</td>\n",
       "      <td>Benson Boone</td>\n",
       "    </tr>\n",
       "  </tbody>\n",
       "</table>\n",
       "</div>"
      ],
      "text/plain": [
       "                             Song Title                 Song ID  Popularity  \\\n",
       "0   Alibi (with Pabllo Vittar & Yseult)  5496lks6V3fh1mZAB6IAap          86   \n",
       "14                               greedy  3rUGC1vUpkDG9CZFHMur1t          86   \n",
       "1                                  Move  1BJJbSX6muJVF2AK7uH1x4          86   \n",
       "34                            Kill Bill  1Qrg8KqiBpW07V7PNxwwwL          86   \n",
       "5                      Beautiful Things  6tNQ70jh4OwmPGpYy6R2o9          85   \n",
       "\n",
       "                                      Song Artist  \n",
       "0                Sevdaliza, Pabllo Vittar, Yseult  \n",
       "14                                     Tate McRae  \n",
       "1   Adam Port, Stryv, Keinemusik, Orso, Malachiii  \n",
       "34                                            SZA  \n",
       "5                                    Benson Boone  "
      ]
     },
     "execution_count": 261,
     "metadata": {},
     "output_type": "execute_result"
    }
   ],
   "source": [
    "sorted_songs_ids_df = songs_ids_df.sort_values(by='Popularity', ascending=False)\n",
    "sorted_songs_ids_df.head()"
   ]
  },
  {
   "cell_type": "code",
   "execution_count": 262,
   "id": "6e3d2187-045b-4bba-8c55-c378b7707f01",
   "metadata": {},
   "outputs": [
    {
     "name": "stdout",
     "output_type": "stream",
     "text": [
      "200\n",
      "200\n",
      "200\n",
      "200\n",
      "200\n",
      "200\n",
      "200\n",
      "200\n",
      "200\n",
      "200\n",
      "200\n",
      "200\n",
      "200\n",
      "200\n",
      "200\n",
      "200\n",
      "200\n",
      "200\n",
      "200\n",
      "200\n",
      "200\n",
      "200\n",
      "200\n",
      "200\n",
      "200\n",
      "200\n",
      "200\n",
      "200\n",
      "200\n",
      "200\n",
      "200\n",
      "200\n",
      "200\n",
      "200\n",
      "200\n",
      "200\n",
      "200\n",
      "200\n",
      "200\n",
      "200\n",
      "200\n",
      "200\n",
      "200\n",
      "200\n",
      "200\n",
      "200\n",
      "200\n",
      "200\n",
      "200\n",
      "200\n",
      "200\n",
      "200\n",
      "200\n",
      "200\n",
      "200\n",
      "200\n",
      "200\n",
      "200\n",
      "200\n",
      "200\n",
      "200\n",
      "200\n",
      "200\n",
      "200\n",
      "200\n",
      "200\n",
      "200\n",
      "200\n",
      "200\n",
      "200\n",
      "200\n",
      "200\n",
      "200\n",
      "200\n",
      "200\n",
      "200\n",
      "200\n",
      "200\n",
      "200\n",
      "200\n",
      "200\n",
      "200\n",
      "200\n",
      "200\n",
      "200\n",
      "200\n",
      "200\n",
      "200\n",
      "200\n",
      "200\n",
      "200\n",
      "200\n",
      "200\n",
      "200\n",
      "200\n",
      "200\n",
      "200\n",
      "200\n",
      "200\n",
      "200\n"
     ]
    }
   ],
   "source": [
    "# Extract all Song IDs from the DataFrame\n",
    "song_ids = sorted_songs_ids_df['Song ID'].tolist()\n",
    "\n",
    "# Initialize a dictionary to store DataFrames for each Song ID\n",
    "song_dataframes = {}\n",
    "\n",
    "# Loop through each Song ID\n",
    "for song_id in song_ids:\n",
    "    # Make the API call using the current Song ID\n",
    "    tracks_AA_response = api_call(tracks_AA_ep.format(song_id), session_header)\n",
    "    \n",
    "    # Convert the 'sections' part of the response into a DataFrame\n",
    "    song_df = pd.DataFrame(tracks_AA_response['sections'])\n",
    "    \n",
    "    # Store the DataFrame in the dictionary with the Song ID as the key\n",
    "    song_dataframes[song_id] = song_df\n",
    "\n",
    "# Example: Accessing a specific DataFrame\n",
    "tracks1_df = song_dataframes[song_ids[0]]  # Replace song_ids[0] with the desired Song ID\n",
    "#song_dataframes"
   ]
  },
  {
   "cell_type": "markdown",
   "id": "2e1928fc-7c67-4cbb-b03a-573136fc70cc",
   "metadata": {},
   "source": [
    "<h4>Below is the audio analysis of every segment of every song in that playlist</h4>"
   ]
  },
  {
   "cell_type": "code",
   "execution_count": 263,
   "id": "a9c5f5db-3644-43e3-a836-1eb963be7ad2",
   "metadata": {},
   "outputs": [
    {
     "data": {
      "text/html": [
       "<div>\n",
       "<style scoped>\n",
       "    .dataframe tbody tr th:only-of-type {\n",
       "        vertical-align: middle;\n",
       "    }\n",
       "\n",
       "    .dataframe tbody tr th {\n",
       "        vertical-align: top;\n",
       "    }\n",
       "\n",
       "    .dataframe thead th {\n",
       "        text-align: right;\n",
       "    }\n",
       "</style>\n",
       "<table border=\"1\" class=\"dataframe\">\n",
       "  <thead>\n",
       "    <tr style=\"text-align: right;\">\n",
       "      <th></th>\n",
       "      <th>start</th>\n",
       "      <th>duration</th>\n",
       "      <th>confidence</th>\n",
       "      <th>loudness</th>\n",
       "      <th>tempo</th>\n",
       "      <th>tempo_confidence</th>\n",
       "      <th>key</th>\n",
       "      <th>key_confidence</th>\n",
       "      <th>mode</th>\n",
       "      <th>mode_confidence</th>\n",
       "      <th>time_signature</th>\n",
       "      <th>time_signature_confidence</th>\n",
       "      <th>Song ID</th>\n",
       "    </tr>\n",
       "  </thead>\n",
       "  <tbody>\n",
       "    <tr>\n",
       "      <th>0</th>\n",
       "      <td>0.00000</td>\n",
       "      <td>13.80644</td>\n",
       "      <td>1.000</td>\n",
       "      <td>-11.107</td>\n",
       "      <td>127.141</td>\n",
       "      <td>0.607</td>\n",
       "      <td>2</td>\n",
       "      <td>0.000</td>\n",
       "      <td>1</td>\n",
       "      <td>0.000</td>\n",
       "      <td>4</td>\n",
       "      <td>1.000</td>\n",
       "      <td>5496lks6V3fh1mZAB6IAap</td>\n",
       "    </tr>\n",
       "    <tr>\n",
       "      <th>1</th>\n",
       "      <td>13.80644</td>\n",
       "      <td>17.00820</td>\n",
       "      <td>1.000</td>\n",
       "      <td>-5.526</td>\n",
       "      <td>127.236</td>\n",
       "      <td>0.737</td>\n",
       "      <td>11</td>\n",
       "      <td>0.678</td>\n",
       "      <td>0</td>\n",
       "      <td>0.676</td>\n",
       "      <td>4</td>\n",
       "      <td>1.000</td>\n",
       "      <td>5496lks6V3fh1mZAB6IAap</td>\n",
       "    </tr>\n",
       "    <tr>\n",
       "      <th>2</th>\n",
       "      <td>30.81464</td>\n",
       "      <td>13.21864</td>\n",
       "      <td>0.629</td>\n",
       "      <td>-7.306</td>\n",
       "      <td>126.817</td>\n",
       "      <td>0.444</td>\n",
       "      <td>11</td>\n",
       "      <td>0.818</td>\n",
       "      <td>0</td>\n",
       "      <td>0.709</td>\n",
       "      <td>4</td>\n",
       "      <td>1.000</td>\n",
       "      <td>5496lks6V3fh1mZAB6IAap</td>\n",
       "    </tr>\n",
       "    <tr>\n",
       "      <th>3</th>\n",
       "      <td>44.03328</td>\n",
       "      <td>13.22499</td>\n",
       "      <td>0.356</td>\n",
       "      <td>-4.701</td>\n",
       "      <td>126.996</td>\n",
       "      <td>0.528</td>\n",
       "      <td>4</td>\n",
       "      <td>0.294</td>\n",
       "      <td>0</td>\n",
       "      <td>0.379</td>\n",
       "      <td>4</td>\n",
       "      <td>1.000</td>\n",
       "      <td>5496lks6V3fh1mZAB6IAap</td>\n",
       "    </tr>\n",
       "    <tr>\n",
       "      <th>4</th>\n",
       "      <td>57.25827</td>\n",
       "      <td>19.38321</td>\n",
       "      <td>0.148</td>\n",
       "      <td>-5.471</td>\n",
       "      <td>126.978</td>\n",
       "      <td>0.730</td>\n",
       "      <td>11</td>\n",
       "      <td>0.036</td>\n",
       "      <td>0</td>\n",
       "      <td>0.380</td>\n",
       "      <td>4</td>\n",
       "      <td>1.000</td>\n",
       "      <td>5496lks6V3fh1mZAB6IAap</td>\n",
       "    </tr>\n",
       "    <tr>\n",
       "      <th>...</th>\n",
       "      <td>...</td>\n",
       "      <td>...</td>\n",
       "      <td>...</td>\n",
       "      <td>...</td>\n",
       "      <td>...</td>\n",
       "      <td>...</td>\n",
       "      <td>...</td>\n",
       "      <td>...</td>\n",
       "      <td>...</td>\n",
       "      <td>...</td>\n",
       "      <td>...</td>\n",
       "      <td>...</td>\n",
       "      <td>...</td>\n",
       "    </tr>\n",
       "    <tr>\n",
       "      <th>95</th>\n",
       "      <td>61.81648</td>\n",
       "      <td>22.18991</td>\n",
       "      <td>0.482</td>\n",
       "      <td>-7.178</td>\n",
       "      <td>142.408</td>\n",
       "      <td>0.425</td>\n",
       "      <td>5</td>\n",
       "      <td>0.159</td>\n",
       "      <td>0</td>\n",
       "      <td>0.379</td>\n",
       "      <td>4</td>\n",
       "      <td>1.000</td>\n",
       "      <td>59NraMJsLaMCVtwXTSia8i</td>\n",
       "    </tr>\n",
       "    <tr>\n",
       "      <th>96</th>\n",
       "      <td>84.00639</td>\n",
       "      <td>30.12824</td>\n",
       "      <td>0.812</td>\n",
       "      <td>-4.736</td>\n",
       "      <td>142.338</td>\n",
       "      <td>0.458</td>\n",
       "      <td>8</td>\n",
       "      <td>0.462</td>\n",
       "      <td>1</td>\n",
       "      <td>0.577</td>\n",
       "      <td>4</td>\n",
       "      <td>1.000</td>\n",
       "      <td>59NraMJsLaMCVtwXTSia8i</td>\n",
       "    </tr>\n",
       "    <tr>\n",
       "      <th>97</th>\n",
       "      <td>114.13463</td>\n",
       "      <td>18.22450</td>\n",
       "      <td>0.661</td>\n",
       "      <td>-5.879</td>\n",
       "      <td>141.901</td>\n",
       "      <td>0.376</td>\n",
       "      <td>10</td>\n",
       "      <td>0.265</td>\n",
       "      <td>0</td>\n",
       "      <td>0.233</td>\n",
       "      <td>4</td>\n",
       "      <td>1.000</td>\n",
       "      <td>59NraMJsLaMCVtwXTSia8i</td>\n",
       "    </tr>\n",
       "    <tr>\n",
       "      <th>98</th>\n",
       "      <td>0.00000</td>\n",
       "      <td>18.06083</td>\n",
       "      <td>1.000</td>\n",
       "      <td>-17.915</td>\n",
       "      <td>116.928</td>\n",
       "      <td>0.485</td>\n",
       "      <td>0</td>\n",
       "      <td>0.679</td>\n",
       "      <td>1</td>\n",
       "      <td>0.827</td>\n",
       "      <td>4</td>\n",
       "      <td>1.000</td>\n",
       "      <td>5IgjP7X4th6nMNDh4akUHb</td>\n",
       "    </tr>\n",
       "    <tr>\n",
       "      <th>99</th>\n",
       "      <td>18.06083</td>\n",
       "      <td>47.40764</td>\n",
       "      <td>1.000</td>\n",
       "      <td>-7.817</td>\n",
       "      <td>116.899</td>\n",
       "      <td>0.490</td>\n",
       "      <td>9</td>\n",
       "      <td>0.696</td>\n",
       "      <td>0</td>\n",
       "      <td>0.586</td>\n",
       "      <td>4</td>\n",
       "      <td>0.989</td>\n",
       "      <td>5IgjP7X4th6nMNDh4akUHb</td>\n",
       "    </tr>\n",
       "  </tbody>\n",
       "</table>\n",
       "<p>100 rows × 13 columns</p>\n",
       "</div>"
      ],
      "text/plain": [
       "        start  duration  confidence  loudness    tempo  tempo_confidence  key  \\\n",
       "0     0.00000  13.80644       1.000   -11.107  127.141             0.607    2   \n",
       "1    13.80644  17.00820       1.000    -5.526  127.236             0.737   11   \n",
       "2    30.81464  13.21864       0.629    -7.306  126.817             0.444   11   \n",
       "3    44.03328  13.22499       0.356    -4.701  126.996             0.528    4   \n",
       "4    57.25827  19.38321       0.148    -5.471  126.978             0.730   11   \n",
       "..        ...       ...         ...       ...      ...               ...  ...   \n",
       "95   61.81648  22.18991       0.482    -7.178  142.408             0.425    5   \n",
       "96   84.00639  30.12824       0.812    -4.736  142.338             0.458    8   \n",
       "97  114.13463  18.22450       0.661    -5.879  141.901             0.376   10   \n",
       "98    0.00000  18.06083       1.000   -17.915  116.928             0.485    0   \n",
       "99   18.06083  47.40764       1.000    -7.817  116.899             0.490    9   \n",
       "\n",
       "    key_confidence  mode  mode_confidence  time_signature  \\\n",
       "0            0.000     1            0.000               4   \n",
       "1            0.678     0            0.676               4   \n",
       "2            0.818     0            0.709               4   \n",
       "3            0.294     0            0.379               4   \n",
       "4            0.036     0            0.380               4   \n",
       "..             ...   ...              ...             ...   \n",
       "95           0.159     0            0.379               4   \n",
       "96           0.462     1            0.577               4   \n",
       "97           0.265     0            0.233               4   \n",
       "98           0.679     1            0.827               4   \n",
       "99           0.696     0            0.586               4   \n",
       "\n",
       "    time_signature_confidence                 Song ID  \n",
       "0                       1.000  5496lks6V3fh1mZAB6IAap  \n",
       "1                       1.000  5496lks6V3fh1mZAB6IAap  \n",
       "2                       1.000  5496lks6V3fh1mZAB6IAap  \n",
       "3                       1.000  5496lks6V3fh1mZAB6IAap  \n",
       "4                       1.000  5496lks6V3fh1mZAB6IAap  \n",
       "..                        ...                     ...  \n",
       "95                      1.000  59NraMJsLaMCVtwXTSia8i  \n",
       "96                      1.000  59NraMJsLaMCVtwXTSia8i  \n",
       "97                      1.000  59NraMJsLaMCVtwXTSia8i  \n",
       "98                      1.000  5IgjP7X4th6nMNDh4akUHb  \n",
       "99                      0.989  5IgjP7X4th6nMNDh4akUHb  \n",
       "\n",
       "[100 rows x 13 columns]"
      ]
     },
     "execution_count": 263,
     "metadata": {},
     "output_type": "execute_result"
    }
   ],
   "source": [
    "# Initialize an empty list to hold all DataFrames with an added Song ID column\n",
    "dataframes_with_ids = []\n",
    "\n",
    "# Loop through each Song ID and its corresponding DataFrame in the dictionary\n",
    "for song_id, song_df in song_dataframes.items():\n",
    "    # Add a new column for Song ID to the current DataFrame\n",
    "    song_df['Song ID'] = song_id\n",
    "    \n",
    "    # Append the updated DataFrame to the list\n",
    "    dataframes_with_ids.append(song_df)\n",
    "\n",
    "# Concatenate all the DataFrames into a single DataFrame\n",
    "all_songs_df = pd.concat(dataframes_with_ids, ignore_index=True)\n",
    "\n",
    "all_songs_df.head(100)"
   ]
  },
  {
   "cell_type": "markdown",
   "id": "22655d96-78a9-4d08-8d60-f1894a4da7d8",
   "metadata": {},
   "source": [
    "<h4>I then counted the frequncy of specifc columns</h4>"
   ]
  },
  {
   "cell_type": "code",
   "execution_count": 264,
   "id": "c8e2de39-b086-482f-9826-59b6bb9fbc89",
   "metadata": {},
   "outputs": [],
   "source": [
    "#all_songs_df.groupby('key')['key'].count()"
   ]
  },
  {
   "cell_type": "code",
   "execution_count": 265,
   "id": "a26db88c-cbd0-453f-9fd6-48378f2a4ba1",
   "metadata": {},
   "outputs": [],
   "source": [
    "#all_songs_df.groupby('time_signature')['time_signature'].count()"
   ]
  },
  {
   "cell_type": "code",
   "execution_count": 266,
   "id": "0908bf86-9e54-4f84-9dac-112afdb4c229",
   "metadata": {},
   "outputs": [],
   "source": [
    "#all_songs_df.groupby('tempo')['tempo'].count()"
   ]
  },
  {
   "cell_type": "code",
   "execution_count": 267,
   "id": "d3baf377-43a8-47a7-ab0f-3d7e10a036d0",
   "metadata": {},
   "outputs": [
    {
     "name": "stderr",
     "output_type": "stream",
     "text": [
      "/var/folders/1t/wl_zl1c517g8g4_j2_b73jrm0000gn/T/ipykernel_80805/2603626449.py:10: FutureWarning: The default of observed=False is deprecated and will be changed to True in a future version of pandas. Pass observed=False to retain current behavior or observed=True to adopt the future default and silence this warning.\n",
      "  tempo_group_counts = all_songs_df.groupby('tempo_bin')['tempo'].count()\n"
     ]
    }
   ],
   "source": [
    "# Define the bin size\n",
    "bin_size = 5\n",
    "\n",
    "# Create bins for the 'tempo' column with step size of 5\n",
    "all_songs_df['tempo_bin'] = pd.cut(all_songs_df['tempo'], \n",
    "                                   bins=range(0, int(all_songs_df['tempo'].max()) + bin_size, bin_size), \n",
    "                                   right=False)\n",
    "\n",
    "# Group by the bins and count the occurrences in each bin\n",
    "tempo_group_counts = all_songs_df.groupby('tempo_bin')['tempo'].count()\n",
    "\n",
    "tempo_df = pd.DataFrame(tempo_group_counts)\n",
    "\n",
    "# Display the result\n",
    "#print(tempo_group_counts)\n",
    "#tempo_df.head(100)\n"
   ]
  },
  {
   "cell_type": "markdown",
   "id": "add92d09-2214-453a-b7cd-f7ca99482c74",
   "metadata": {},
   "source": [
    "<h4>Supporting with specific segements:</h4>\n",
    "<P>Since I am trying to find trends between the specific segments that become popular on Tik Tok, I listened to the top 5 most popular \n",
    "tracks and selected the segments that became Tik Tok sounds by hand, to support the findings of the data from the playlist, ideally this\n",
    "could be done with Tik Tok's API for all the songs in the playlist.</P>"
   ]
  },
  {
   "cell_type": "code",
   "execution_count": 268,
   "id": "9052b05d-d3b9-4618-9b8d-04c24f8bff33",
   "metadata": {},
   "outputs": [],
   "source": [
    "track1_id = '5496lks6V3fh1mZAB6IAap'\n",
    "track2_id = '1BJJbSX6muJVF2AK7uH1x4'\n",
    "track3_id = '3rUGC1vUpkDG9CZFHMur1t'\n",
    "track4_id = '6tNQ70jh4OwmPGpYy6R'\n",
    "track5_id = '4uUG5RXrOk84mYEfFvj3cK'"
   ]
  },
  {
   "cell_type": "markdown",
   "id": "6de12e86-f2bd-4f09-bf9a-770e6845b9eb",
   "metadata": {},
   "source": [
    "<P>With these songs, I will find the segments for each of them and comapare </P>"
   ]
  },
  {
   "cell_type": "code",
   "execution_count": 269,
   "id": "f36a1cae-f59e-42a1-8fff-0ece95edb163",
   "metadata": {},
   "outputs": [
    {
     "name": "stdout",
     "output_type": "stream",
     "text": [
      "200\n"
     ]
    }
   ],
   "source": [
    "tracks_AA_response = api_call(tracks_AA_ep.format(track1_id), session_header)\n",
    "tracks1_df = pd.DataFrame(tracks_AA_response['sections'])\n",
    "#tracks1_df.head(100)"
   ]
  },
  {
   "cell_type": "code",
   "execution_count": 270,
   "id": "cadb18a5-6abd-43d4-a055-e4ef4deb2737",
   "metadata": {},
   "outputs": [
    {
     "name": "stdout",
     "output_type": "stream",
     "text": [
      "200\n"
     ]
    }
   ],
   "source": [
    "tracks_AA_response2 = api_call(tracks_AA_ep.format(track2_id), session_header)\n",
    "tracks2_df = pd.DataFrame(tracks_AA_response2['sections'])\n",
    "#tracks2_df.head(100)"
   ]
  },
  {
   "cell_type": "code",
   "execution_count": 271,
   "id": "a5ecdeae-759c-4674-b41a-27f750912b42",
   "metadata": {},
   "outputs": [
    {
     "name": "stdout",
     "output_type": "stream",
     "text": [
      "200\n"
     ]
    }
   ],
   "source": [
    "tracks_AA_response3 = api_call(tracks_AA_ep.format(track3_id), session_header)\n",
    "tracks3_df = pd.DataFrame(tracks_AA_response3['sections'])\n",
    "#tracks3_df.head(100)"
   ]
  },
  {
   "cell_type": "code",
   "execution_count": 272,
   "id": "8e29860c-0d83-451e-a65f-6b694df7b744",
   "metadata": {},
   "outputs": [
    {
     "name": "stdout",
     "output_type": "stream",
     "text": [
      "400\n"
     ]
    }
   ],
   "source": [
    "tracks_AA_response4 = api_call(tracks_AA_ep.format(track4_id), session_header)\n",
    "tracks4_df = pd.DataFrame(tracks_AA_response3['sections'])\n",
    "#tracks4_df.head(100)"
   ]
  },
  {
   "cell_type": "code",
   "execution_count": 273,
   "id": "bd9763ef-a53c-4eaa-83b8-afbeefe94c78",
   "metadata": {},
   "outputs": [
    {
     "name": "stdout",
     "output_type": "stream",
     "text": [
      "200\n"
     ]
    }
   ],
   "source": [
    "tracks_AA_response5 = api_call(tracks_AA_ep.format(track5_id), session_header)\n",
    "tracks5_df = pd.DataFrame(tracks_AA_response5['sections'])\n",
    "#tracks5_df.head(100)"
   ]
  },
  {
   "cell_type": "markdown",
   "id": "d99c3fbf-94ee-42a5-9ee8-7881c3db231c",
   "metadata": {},
   "source": [
    "<H3>After listening to these songs I can connect them to the parts on Tik Tok that are popular by the start seconds</H3>"
   ]
  },
  {
   "cell_type": "code",
   "execution_count": 274,
   "id": "b9dfc50f-44e5-40c5-99f0-dd12e604ca96",
   "metadata": {},
   "outputs": [],
   "source": [
    "track1_tt_section = tracks1_df.iloc[8]\n",
    "track2_tt_section = tracks2_df.iloc[2]\n",
    "track3_tt_section = tracks3_df.iloc[2]\n",
    "track4_tt_section = tracks4_df.iloc[5]\n",
    "track5_tt_section = tracks5_df.iloc[2]"
   ]
  },
  {
   "cell_type": "code",
   "execution_count": 275,
   "id": "90aa0c1d-1254-4eb6-b4e6-7a590b2b879b",
   "metadata": {},
   "outputs": [
    {
     "data": {
      "text/html": [
       "<div>\n",
       "<style scoped>\n",
       "    .dataframe tbody tr th:only-of-type {\n",
       "        vertical-align: middle;\n",
       "    }\n",
       "\n",
       "    .dataframe tbody tr th {\n",
       "        vertical-align: top;\n",
       "    }\n",
       "\n",
       "    .dataframe thead th {\n",
       "        text-align: right;\n",
       "    }\n",
       "</style>\n",
       "<table border=\"1\" class=\"dataframe\">\n",
       "  <thead>\n",
       "    <tr style=\"text-align: right;\">\n",
       "      <th></th>\n",
       "      <th>start</th>\n",
       "      <th>duration</th>\n",
       "      <th>confidence</th>\n",
       "      <th>loudness</th>\n",
       "      <th>tempo</th>\n",
       "      <th>tempo_confidence</th>\n",
       "      <th>key</th>\n",
       "      <th>key_confidence</th>\n",
       "      <th>mode</th>\n",
       "      <th>mode_confidence</th>\n",
       "      <th>time_signature</th>\n",
       "      <th>time_signature_confidence</th>\n",
       "    </tr>\n",
       "  </thead>\n",
       "  <tbody>\n",
       "    <tr>\n",
       "      <th>8</th>\n",
       "      <td>129.07400</td>\n",
       "      <td>32.58195</td>\n",
       "      <td>0.315</td>\n",
       "      <td>-4.602</td>\n",
       "      <td>127.062</td>\n",
       "      <td>0.503</td>\n",
       "      <td>11.0</td>\n",
       "      <td>0.730</td>\n",
       "      <td>0.0</td>\n",
       "      <td>0.743</td>\n",
       "      <td>4.0</td>\n",
       "      <td>1.000</td>\n",
       "    </tr>\n",
       "    <tr>\n",
       "      <th>2</th>\n",
       "      <td>56.59783</td>\n",
       "      <td>53.99167</td>\n",
       "      <td>0.423</td>\n",
       "      <td>-8.720</td>\n",
       "      <td>119.997</td>\n",
       "      <td>0.766</td>\n",
       "      <td>8.0</td>\n",
       "      <td>0.591</td>\n",
       "      <td>0.0</td>\n",
       "      <td>0.587</td>\n",
       "      <td>4.0</td>\n",
       "      <td>1.000</td>\n",
       "    </tr>\n",
       "    <tr>\n",
       "      <th>2</th>\n",
       "      <td>21.64304</td>\n",
       "      <td>17.29808</td>\n",
       "      <td>0.474</td>\n",
       "      <td>-2.547</td>\n",
       "      <td>110.881</td>\n",
       "      <td>0.396</td>\n",
       "      <td>6.0</td>\n",
       "      <td>0.407</td>\n",
       "      <td>0.0</td>\n",
       "      <td>0.539</td>\n",
       "      <td>1.0</td>\n",
       "      <td>0.857</td>\n",
       "    </tr>\n",
       "    <tr>\n",
       "      <th>5</th>\n",
       "      <td>76.24325</td>\n",
       "      <td>15.66488</td>\n",
       "      <td>0.828</td>\n",
       "      <td>-5.430</td>\n",
       "      <td>111.064</td>\n",
       "      <td>0.743</td>\n",
       "      <td>11.0</td>\n",
       "      <td>0.549</td>\n",
       "      <td>0.0</td>\n",
       "      <td>0.551</td>\n",
       "      <td>4.0</td>\n",
       "      <td>1.000</td>\n",
       "    </tr>\n",
       "    <tr>\n",
       "      <th>2</th>\n",
       "      <td>31.51323</td>\n",
       "      <td>14.53210</td>\n",
       "      <td>0.863</td>\n",
       "      <td>-2.721</td>\n",
       "      <td>128.093</td>\n",
       "      <td>0.341</td>\n",
       "      <td>7.0</td>\n",
       "      <td>0.166</td>\n",
       "      <td>0.0</td>\n",
       "      <td>0.516</td>\n",
       "      <td>4.0</td>\n",
       "      <td>1.000</td>\n",
       "    </tr>\n",
       "  </tbody>\n",
       "</table>\n",
       "</div>"
      ],
      "text/plain": [
       "       start  duration  confidence  loudness    tempo  tempo_confidence   key  \\\n",
       "8  129.07400  32.58195       0.315    -4.602  127.062             0.503  11.0   \n",
       "2   56.59783  53.99167       0.423    -8.720  119.997             0.766   8.0   \n",
       "2   21.64304  17.29808       0.474    -2.547  110.881             0.396   6.0   \n",
       "5   76.24325  15.66488       0.828    -5.430  111.064             0.743  11.0   \n",
       "2   31.51323  14.53210       0.863    -2.721  128.093             0.341   7.0   \n",
       "\n",
       "   key_confidence  mode  mode_confidence  time_signature  \\\n",
       "8           0.730   0.0            0.743             4.0   \n",
       "2           0.591   0.0            0.587             4.0   \n",
       "2           0.407   0.0            0.539             1.0   \n",
       "5           0.549   0.0            0.551             4.0   \n",
       "2           0.166   0.0            0.516             4.0   \n",
       "\n",
       "   time_signature_confidence  \n",
       "8                      1.000  \n",
       "2                      1.000  \n",
       "2                      0.857  \n",
       "5                      1.000  \n",
       "2                      1.000  "
      ]
     },
     "execution_count": 275,
     "metadata": {},
     "output_type": "execute_result"
    }
   ],
   "source": [
    "combined_tt_sections = pd.DataFrame([track1_tt_section, track2_tt_section, track3_tt_section, track4_tt_section, track5_tt_section,])\n",
    "combined_tt_sections.head(5)"
   ]
  },
  {
   "cell_type": "markdown",
   "id": "1ff8c771-d2ee-4ea3-9715-b1909b802718",
   "metadata": {},
   "source": [
    "<h4>Below are a series of Graphs displaying audio anaylsis columns from the whole playlist and the selected Tik Tok sounds</h4>"
   ]
  },
  {
   "cell_type": "code",
   "execution_count": 276,
   "id": "f7a493c1-943e-40bb-91d0-0da20fa19957",
   "metadata": {},
   "outputs": [
    {
     "data": {
      "image/png": "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",
      "text/plain": [
       "<Figure size 1200x600 with 2 Axes>"
      ]
     },
     "metadata": {},
     "output_type": "display_data"
    }
   ],
   "source": [
    "# Data for the first chart\n",
    "tt_sections_plot1 = pd.DataFrame({\n",
    "    'keys': ['0', '1', '2', '3', '4', '5', '6', '7', '8', '9', '10', '11'],\n",
    "    'val': [93, 88, 83, 25, 66, 54, 55, 66, 62, 61, 47, 123]\n",
    "})\n",
    "\n",
    "# Data for the second chart\n",
    "tt_sections_plot2 = pd.DataFrame({\n",
    "    'keys': ['6', '7', '8', '11'],\n",
    "    'val': [1, 1, 1, 2]\n",
    "})\n",
    "\n",
    "# Create subplots\n",
    "fig, axes = plt.subplots(1, 2, figsize=(12, 6))\n",
    "\n",
    "# First bar chart\n",
    "axes[0].bar(tt_sections_plot1['keys'], tt_sections_plot1['val'], color='blue', edgecolor='black')\n",
    "axes[0].set_title(\"Keys of All Segments in the Playlist\")\n",
    "axes[0].set_xlabel(\"Keys\")\n",
    "axes[0].set_ylabel(\"Frequency\")\n",
    "axes[0].tick_params(axis='x', rotation=0)\n",
    "\n",
    "# Second bar chart\n",
    "axes[1].bar(tt_sections_plot2['keys'], tt_sections_plot2['val'], color='lightblue', edgecolor='black')\n",
    "axes[1].set_title(\"Keys of Selected TikTok Segments\")\n",
    "axes[1].set_xlabel(\"Keys\")\n",
    "axes[1].set_ylabel(\"Frequency\")\n",
    "axes[1].tick_params(axis='x', rotation=0)\n",
    "\n",
    "# Adjust layout and show plot\n",
    "plt.tight_layout()\n",
    "plt.show()"
   ]
  },
  {
   "cell_type": "markdown",
   "id": "9a4cfd92-12de-43e5-a591-3db0a08452d0",
   "metadata": {},
   "source": [
    "According to the Spotify API, a tracks key's are mapped with intergers using standad pitch class notation. The interger \"11\" represents the key of \"B\"."
   ]
  },
  {
   "cell_type": "code",
   "execution_count": 277,
   "id": "64095e61-0442-423d-a2e8-ff0ad201fad6",
   "metadata": {},
   "outputs": [
    {
     "data": {
      "image/png": "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",
      "text/plain": [
       "<Figure size 1200x600 with 2 Axes>"
      ]
     },
     "metadata": {},
     "output_type": "display_data"
    }
   ],
   "source": [
    "# Data for the first chart\n",
    "tt_sections_plot1 = pd.DataFrame({\n",
    "    'keys': [ '1', '3', '4', '5'],\n",
    "    'val': [14, 59, 759, 1]\n",
    "})\n",
    "\n",
    "# Data for the second chart\n",
    "tt_sections_plot2 = pd.DataFrame({\n",
    "    'keys': ['1', '3', '4', '5'],\n",
    "    'val': [1, 0, 4, 0]\n",
    "})\n",
    "\n",
    "# Create subplots\n",
    "fig, axes = plt.subplots(1, 2, figsize=(12, 6))\n",
    "\n",
    "# First bar chart\n",
    "axes[0].bar(tt_sections_plot1['keys'], tt_sections_plot1['val'], color='blue', edgecolor='black')\n",
    "axes[0].set_title(\"Time Signature of All Segments in the Playlist\")\n",
    "axes[0].set_xlabel(\"Time Signature\")\n",
    "axes[0].set_ylabel(\"Frequency\")\n",
    "axes[0].tick_params(axis='x', rotation=0)\n",
    "\n",
    "# Second bar chart\n",
    "axes[1].bar(tt_sections_plot2['keys'], tt_sections_plot2['val'], color='lightblue', edgecolor='black')\n",
    "axes[1].set_title(\"Time Signature of Selected TikTok Segments\")\n",
    "axes[1].set_xlabel(\"Time Signature\")\n",
    "axes[1].set_ylabel(\"Frequency\")\n",
    "axes[1].tick_params(axis='x', rotation=0)\n",
    "\n",
    "# Adjust layout and show plot\n",
    "plt.tight_layout()\n",
    "plt.show()"
   ]
  },
  {
   "cell_type": "code",
   "execution_count": 278,
   "id": "cbdec1bc-d6a5-49a3-b95e-290764ddb3d1",
   "metadata": {},
   "outputs": [
    {
     "data": {
      "image/png": "iVBORw0KGgoAAAANSUhEUgAABKUAAASmCAYAAAD/KRjlAAAAOXRFWHRTb2Z0d2FyZQBNYXRwbG90bGliIHZlcnNpb24zLjkuMiwgaHR0cHM6Ly9tYXRwbG90bGliLm9yZy8hTgPZAAAACXBIWXMAAA9hAAAPYQGoP6dpAAD6pklEQVR4nOzdd3gU9fbH8bMQDAkdAgkQQuiE3rv03kGUIojYUERBr+JFFAIiCF4RlSYWwIKIKKggCCKC/gAFvIhSYgNCi7AI6Qkp5/cH7tzdNLLZ3Uk2vF/Pw6OZnczne3ZnJrtnp1hUVQUAAAAAAAAwUZH8HgAAAAAAAABuPjSlAAAAAAAAYDqaUgAAAAAAADAdTSkAAAAAAACYjqYUAAAAAAAATEdTCgAAAAAAAKajKQUAAAAAAADT0ZQCAAAAAACA6WhKAQAAAAAAwHQ0pQAABY7FYsnVv2+++Sa/h+o24eHhDrX5+/tLcHCw9OnTR1577TWJjY3N9Dt33323hIaGOpVz/vx5CQ8Pl8OHDzv1e1llWSwWmTx5slPLuZFly5bJ6tWrM00/deqUWCyWLB/ztLvvvltKlizp8ZyuXbtK165dPZ5T2Kxdu1YWL16cL9l///23jBo1SipVqiQWi0WGDh2a7bx33313lvux+vXr5yorNDRU7r77bvcMXERWr17tMA4fHx8JDg6WCRMmyLlz54z5vvnmG4/vb21jOXXqlDHNzP0bACD/+OT3AAAAyGjfvn0OPz/33HOya9cu+frrrx2mN2jQwMxhmWLbtm1SpkwZuXbtmpw/f1527twp06ZNkxdffFE+//xzadq0qTHvs88+K1OmTHFq+efPn5fZs2dLaGioNGvWLNe/l5esvFi2bJkEBARk+vBduXJl2bdvn9SqVcvjY8gvy5Yty+8heKW1a9fKL7/8IlOnTjU9+7nnnpONGzfK22+/LbVq1ZLy5cvnOL+fn1+m/Zifn1+usjZu3CilS5fO81izs2rVKqlfv74kJibKnj17ZP78+bJ79275+eefpUSJEm7Pyy0z928AgPxDUwoAUOC0a9fO4eeKFStKkSJFMk0vjFq2bCkBAQHGz6NGjZLJkydLly5dZPDgwfLrr7+Kr6+viIgpDZqEhATx9/fP92aQr69voX/986PJant9kTe//PKL1KpVS+68885cze/Kfqx58+Z5+r0badSokbRq1UpERLp16yZpaWny3HPPyaZNm3Jdlyfk9z4HAGAOTt8DAHila9euydy5c6V+/fri6+srFStWlAkTJsilS5cc5gsNDZWBAwfK5s2bpXnz5uLn5ydhYWGyefNmEbl+2khYWJiUKFFC2rRpIwcPHnT4fdupW0ePHpUePXpIiRIlpGLFijJ58mRJSEhwmDcpKUmmT58uNWrUkFtuuUWqVq0qDz/8sFy9etWlWps2bSozZsyQyMhI+fDDDx3GlvH0lo8++kjatm0rZcqUEX9/f6lZs6bcc889InL9NJzWrVuLiMiECROM03bCw8Mdav3555+ld+/eUqpUKenRo0e2WTavv/661K1bV3x9faVBgwaybt06h8dtpyZmlPGUndDQUDl69Kjs3r3bGJstM7vT97777jvp0aOHlCpVSvz9/aVDhw6yZcuWLHN27dolDz30kAQEBEiFChVk+PDhcv78+SxrysqN1oEePXpI/fr1RVUdfk9VpXbt2jJgwIAcl5/x9D1bzf/5z39k0aJFUqNGDSlZsqS0b99e9u/fn+n3v//+exk0aJBUqFBBihcvLrVq1XI4esj2Ovz4448yYsQIKVeunPHBX1Vl2bJl0qxZM/Hz85Ny5crJiBEj5M8//8w0xkaNGsm+ffukQ4cO4ufnJ6GhobJq1SoREdmyZYu0aNFC/P39pXHjxrJt27ZM4/ztt99kzJgxUqlSJfH19ZWwsDBZunSpwzy2U8Y++OADmTFjhlSpUkVKly4tPXv2lIiICIfxbNmyRU6fPu1wKprN8uXLpWnTplKyZEkpVaqU1K9fX55++ukcXweR66flTZo0SapWrSq33HKL1KxZU2bMmCHJyckOr81XX30lx48fN+WU4oyn7+X2OXKWrWl2+vTpbOc5ePCgjBo1SkJDQ411YPTo0Q6/c+rUKfHx8ZH58+dn+v09e/aIxWKRjz76KNsMd+/fAAAFE00pAIDXSU9PlyFDhsgLL7wgY8aMkS1btsgLL7wgO3bskK5du0piYqLD/D/99JNMnz5dnnrqKfnkk0+kTJkyMnz4cJk1a5a8+eabMm/ePHn//fclOjpaBg4cmOn3U1JSpH///tKjRw/ZtGmTTJ48WV5//XUZOXKkMY+qytChQ+U///mPjBs3TrZs2SKPP/64rFmzRrp37258mM2rwYMHi8j1D3PZ2bdvn4wcOVJq1qwp69atky1btsjMmTMlNTVVRERatGhhNA+eeeYZ2bdvn+zbt0/uu+8+YxnXrl2TwYMHS/fu3eXTTz+V2bNn5ziuzz77TF599VWZM2eObNiwQapXry6jR4+WDRs2OF3jxo0bpWbNmtK8eXNjbBs3bsx2/t27d0v37t0lOjpa3nrrLfnggw+kVKlSMmjQIIfmnc19990nxYoVk7Vr18rChQvlm2++kbFjx+ZqbLlZB6ZMmSIRERGyc+dOh9/dunWr/PHHH/Lwww/n8plwtHTpUtmxY4csXrxY3n//fYmPj5f+/ftLdHS0Mc+XX34pt956q0RGRsqiRYtk69at8swzz8hff/2VaXnDhw+X2rVry0cffSQrVqwQEZGJEyfK1KlTpWfPnrJp0yZZtmyZHD16VDp06JBpGVFRUTJhwgS577775NNPP5XGjRvLPffcI3PmzJHp06fLtGnT5OOPP5aSJUvK0KFDHRp/x44dk9atW8svv/wiL730kmzevFkGDBggjz76aJbr2tNPPy2nT5+WN998U1auXCm//fabDBo0SNLS0kTk+imPHTt2lKCgIGOdsZ3+u27dOpk0aZJ06dJFNm7cKJs2bZLHHntM4uPjc3y+k5KSpFu3bvLOO+/I448/Llu2bJGxY8fKwoULZfjw4SLyv9NJmzdvLjVr1jRyW7RokeOyExMTJSgoSIoWLSrBwcEyefJk+fvvv3P8nRu50XPkrN9//11Erh+hmp1Tp05JvXr1ZPHixfLll1/KggUL5MKFC9K6dWuxWq0icr2JNnjwYFmxYkWmsSxZskSqVKkiw4YNy/W43LF/AwAUQAoAQAE3fvx4LVGihPHzBx98oCKiH3/8scN8Bw4cUBHRZcuWGdOqV6+ufn5+evbsWWPa4cOHVUS0cuXKGh8fb0zftGmTioh+9tlnDtkioq+88opD1vPPP68iot99952qqm7btk1FRBcuXOgw34cffqgioitXrsyxxlmzZqmI6KVLl7J8PDExUUVE+/Xr5zC26tWrGz//5z//URHRq1evZptje45WrVqV6TFbrW+//XaWj9lnqaqKiPr5+WlUVJQxLTU1VevXr6+1a9fOVFtGq1atUhHRkydPGtMaNmyoXbp0yTTvyZMnM427Xbt2WqlSJY2NjXXIb9SokQYHB2t6erpDzqRJkxyWuXDhQhURvXDhQqa8jLXnZh1IS0vTmjVr6pAhQxzm69evn9aqVcsYT3a6dOniULut5saNG2tqaqox/YcfflAR0Q8++MCYVqtWLa1Vq5YmJiZmu3zb6zBz5kyH6fv27VMR0Zdeeslh+pkzZ9TPz0+nTZvmMEYR0YMHDxrTLl++rEWLFlU/Pz89d+6cMd22nb366qvGtD59+mhwcLBGR0c7ZE2ePFmLFy+uf//9t6qq7tq1S0VE+/fv7zDf+vXrVUR03759xrQBAwZkWjdtyyxbtmy2z0d2VqxYoSKi69evd5i+YMECFRHdvn27Ma1Lly7asGHDXC130aJFumjRIt2+fbtu375dZ8yYof7+/lq/fn2HdTg71atX1/Hjxxs/O/McZcW2Xezfv19TUlI0NjZWN2/erBUrVtRSpUoZ27UtZ9euXdkuKzU1VePi4rREiRIO24ntdzdu3GhMO3funPr4+Ojs2bMzjcV+X+Du/RsAoGDiSCkAgNfZvHmzlC1bVgYNGiSpqanGv2bNmklQUFCmU2iaNWsmVatWNX4OCwsTkeun/thfT8c2PavTVjJeW2XMmDEiIrJr1y4REePixRkv0H377bdLiRIlMh094yzNcEpYVmynrtxxxx2yfv16hztoOeO2227L9bw9evSQwMBA4+eiRYvKyJEj5ffff5ezZ8/mKT834uPj5fvvv5cRI0Y43BmvaNGiMm7cODl79mymU5hsR5vZNGnSRERyPk3J3o3WgSJFisjkyZNl8+bNEhkZKSIif/zxh2zbtk0mTZqU5SmMuTFgwAApWrRotuP+9ddf5Y8//pB7771XihcvfsPlZXx9N2/eLBaLRcaOHeuwPQUFBUnTpk0zbU+VK1eWli1bGj+XL19eKlWqJM2aNZMqVaoY0zNuT0lJSbJz504ZNmyY+Pv7O2T1799fkpKSMp2W6Mpr1qZNG7l69aqMHj1aPv30U+MInhv5+uuvpUSJEjJixAiH6bZtO6/b8mOPPSaPPfaY9OrVS3r16iVz586Vd955R06cOCFvvPFGnpYp4vp63a5dOylWrJiUKlVKBg4cKEFBQbJ161aH7TqjuLg4eeqpp6R27dri4+MjPj4+UrJkSYmPj5fjx48b83Xt2lWaNm3qcHrmihUrxGKxyAMPPOBMmW7bvwEAChaaUgAAr/PXX3/J1atX5ZZbbpFixYo5/IuKisr04TPjHbFuueWWHKcnJSU5TPfx8ZEKFSo4TAsKChIRkcuXLxv/9fHxyXTKi8VikaCgIGO+vLJ9wLT/0J9R586dZdOmTZKamip33XWXBAcHS6NGjeSDDz7IdY6/v79Td/iyPQ9ZTXO15pxcuXJFVFUqV66c6THbc5QxP+NraLtgfMbTNbOSm3VAROSee+4RPz8/47S4pUuXip+fn3Hdm7y40bht11ELDg7O1fIyPmd//fWXqKoEBgZm2p72799/w+1J5Pq2c6Pt6fLly5KamiqvvfZappz+/fuLiGTKcuU1GzdunLz99tty+vRpue2226RSpUrStm1b2bFjR46/d/nyZQkKCsrURKxUqZL4+Pi4db0eNmyYlChRIstrhOWWK8+RiMg777wjBw4ckP/+979y/vx5OXLkiHTs2DHH3xkzZowsWbJE7rvvPvnyyy/lhx9+kAMHDkjFihUz5T766KOyc+dOiYiIkJSUFHnjjTdkxIgRWe47cuKO/RsAoODh7nsAAK9ju1B1VhdRFhEpVaqUW/NSU1Pl8uXLDh/+oqKiROR/HwgrVKggqampcunSJYfGlKpKVFSU8S1/Xn322WciIg4Xws7KkCFDZMiQIZKcnCz79++X+fPny5gxYyQ0NFTat29/wxxnj+axPQ9ZTbM9N7ajd5KTk40PzCKZGxDOKFeunBQpUkQuXLiQ6THbNYzs72LoqtysAyIiZcqUkfHjx8ubb74pTzzxhKxatUrGjBkjZcuWddtYMrKtb7k9Mi3jaxwQECAWi0W+/fZbh9fHJqtpeVGuXDnjSLbsrq9Vo0YNt2TZTJgwQSZMmCDx8fGyZ88emTVrlgwcOFB+/fVXqV69epa/U6FCBfn+++9FVR2eq4sXL0pqaqpb1yuR6/uIIkXy73visLAw4+57uREdHS2bN2+WWbNmyb///W9jenJycpbXxxozZow89dRTsnTpUmnXrp1ERUXl+fpqru7fAAAFD0dKAQC8zsCBA+Xy5cuSlpYmrVq1yvSvXr16bs98//33HX5eu3atiPyvSWS7S917773nMN/HH38s8fHxxuN58dNPP8m8efMkNDRU7rjjjlz9jq+vr3Tp0kUWLFggIiL//e9/jekiuT+K4kZ27tzpcCHstLQ0+fDDD6VWrVrGkTu2O2gdOXLE4Xc///zzLMedm7GVKFFC2rZtK5988onD/Onp6fLee+9JcHCw1K1bNy8lZetG64DNo48+KlarVUaMGCFXr16VyZMnu3UcGdWtW1dq1aolb7/9dp4uqD9w4EBRVTl37lyW21Pjxo3dMk5/f3/p1q2b/Pe//5UmTZpkmZXxqJ/cyM06U6JECenXr5/MmDFDrl27JkePHs123h49ekhcXJxs2rTJYfo777xjPO4uGzZskISEBOOOd97AYrGIqmZqVr755ptZXly9ePHi8sADD8iaNWtk0aJF0qxZsxseiXUjZu3fAACex5FSAACvM2rUKHn//felf//+MmXKFGnTpo0UK1ZMzp49K7t27ZIhQ4Y4dVenG7nlllvkpZdekri4OGndurXs3btX5s6dK/369ZNOnTqJiEivXr2kT58+8tRTT0lMTIx07NhRjhw5IrNmzZLmzZvLuHHjcpV16NAhKVOmjKSkpMj58+dl586d8u6770qlSpXk888/N06JysrMmTPl7Nmz0qNHDwkODparV6/KK6+8IsWKFZMuXbqIiEitWrXEz89P3n//fQkLC5OSJUtKlSpVcjwtMCcBAQHSvXt3efbZZ6VEiRKybNkyOXHihKxbt86Yp3///lK+fHm59957Zc6cOeLj4yOrV6+WM2fOZFpe48aNZd26dfLhhx9KzZo1pXjx4tk2RebPny+9evWSbt26yRNPPCG33HKLLFu2TH755Rf54IMP8nwNp6zkZh2wqVu3rvTt21e2bt0qnTp1kqZNm7ptHNlZunSpDBo0SNq1ayePPfaYhISESGRkpHz55ZeZmmkZdezYUR544AGZMGGCHDx4UDp37iwlSpSQCxcuyHfffSeNGzeWhx56yC3jfOWVV6RTp05y6623ykMPPSShoaESGxsrv//+u3z++efGtdmc0bhxY/nkk09k+fLl0rJlSylSpIi0atVK7r//fvHz85OOHTtK5cqVJSoqSubPny9lypTJ8cjFu+66S5YuXSrjx4+XU6dOSePGjeW7776TefPmSf/+/aVnz55Oj/H06dMyZswYGTVqlNSuXVssFovs3r1bFi9eLA0bNvSqO8SVLl1aOnfuLC+++KIEBARIaGio7N69W956661sjwicNGmSLFy4UA4dOiRvvvlmnnLzY/8GAPA8mlIAAK9TtGhR+eyzz+SVV16Rd999V+bPny8+Pj4SHBwsXbp0cduRHTbFihWTzZs3y6OPPipz584VPz8/uf/+++XFF1805rFYLLJp0yYJDw+XVatWyfPPPy8BAQEybtw4mTdvXq5Pgerbt6+IXP/Gv3z58tK4cWNZsGCBTJgw4YanJbZt21YOHjwoTz31lFy6dEnKli0rrVq1kq+//loaNmwoItePVnn77bdl9uzZ0rt3b0lJSZFZs2ZJeHh4np6bwYMHS8OGDeWZZ56RyMhIqVWrlrz//vsycuRIY57SpUvLtm3bZOrUqTJ27FgpW7as3HfffdKvX79MH8Znz54tFy5ckPvvv19iY2OlevXqcurUqSyzu3TpIl9//bXMmjVL7r77bklPT5emTZvKZ599JgMHDsxTPdnJzTpgb+TIkbJ161aPHyVl06dPH9mzZ4/MmTNHHn30UUlKSpLg4OBMF8HOzuuvvy7t2rWT119/XZYtWybp6elSpUoV6dixo7Rp08Zt42zQoIH8+OOP8txzz8kzzzwjFy9elLJly0qdOnWM60o5a8qUKXL06FF5+umnJTo6WlRVVFVuvfVWWb16taxfv16uXLkiAQEB0qlTJ3nnnXcyXfvNXvHixWXXrl0yY8YMefHFF+XSpUtStWpVeeKJJ2TWrFl5GmPp0qUlMDBQFi1aJH/99ZekpaVJ9erV5dFHH5Wnn35aSpQokafl5pe1a9fKlClTZNq0aZKamiodO3aUHTt2yIABA7Kcv2rVqtKpUyc5cuSIcYMAZ+XH/g0A4HkWzc3tfAAAuEndfffdsmHDBomLi8vvocCL3HbbbbJ//345deqUFCtWLL+HA+SrixcvSvXq1eWRRx6RhQsX5vdwAAAFCEdKAQAAuEFycrL8+OOP8sMPP8jGjRtl0aJFNKRwUzt79qz8+eef8uKLL0qRIkVkypQp+T0kAEABQ1MKAADADS5cuCAdOnSQ0qVLy8SJE+WRRx7J7yEB+erNN9+UOXPmSGhoqLz//vtStWrV/B4SAKCA4fQ9AAAAAAAAmK5Ifg8AAAAAAAAANx+aUgAAAAAAADAdTSkAAAAAAACYjgudZyE9PV3Onz8vpUqVEovFkt/DAQAAAAAA8BqqKrGxsVKlShUpUiT746FoSmXh/PnzUq1atfweBgAAAAAAgNc6c+aMBAcHZ/s4TakslCpVSkSuP3mlS5fO59EAAAAAAAB4j5iYGKlWrZrRX8kOTaks2E7ZK126NE0pAAAAAACAPLjRJZG40DkAAAAAAABMR1MKAAAAAAAApqMpBQAAAAAAANPRlAIAAAAAAIDpaEoBAAAAAADAdDSlAAAAAAAAYDqaUgAAAAAAADAdTSkAAAAAAACYjqYUAAAAAAAATEdTCgAAAAAAAKajKQUAAAAAAADT0ZQCAAAAAACA6WhKAQAAAAAAwHQ0pQAAAAAAAGA6mlIAAAAAAAAwHU0pAAAAAAAAmI6mFAAAAAAAAExHUwoAAAAAAACmoykFAAAAAAAA09GUAgAAAAAAgOl88nsAAAAAzoiMjBSr1er25QYEBEhISIjblwsAAICs0ZQCAABeIzIyUurVC5OkpAS3L7t4cX+JiDhOYwoAAMAkNKUAAIDXsFqt/zSk3hORMDcu+bgkJY0Vq9VKUwoAAMAkNKUAAIAXChORFvk9CAAAALiAC50DAAAAAADAdDSlAAAAAAAAYDqaUgAAAAAAADAdTSkAAAAAAACYjqYUAAAAAAAATEdTCgAAAAAAAKajKQUAAAAAAADT0ZQCAAAAAACA6WhKAQAAAAAAwHQ0pQAAAAAAAGA6mlIAAAAAAAAwndc1pUJDQ8VisWT69/DDD4uIiKpKeHi4VKlSRfz8/KRr165y9OjRfB41AAAAAAAA7HldU+rAgQNy4cIF49+OHTtEROT2228XEZGFCxfKokWLZMmSJXLgwAEJCgqSXr16SWxsbH4OGwAAAAAAAHa8rilVsWJFCQoKMv5t3rxZatWqJV26dBFVlcWLF8uMGTNk+PDh0qhRI1mzZo0kJCTI2rVr83voAAAAAAAA+IfXNaXsXbt2Td577z255557xGKxyMmTJyUqKkp69+5tzOPr6ytdunSRvXv35uNIAQAAAAAAYM8nvwfgik2bNsnVq1fl7rvvFhGRqKgoEREJDAx0mC8wMFBOnz6d7XKSk5MlOTnZ+DkmJsb9gwUAAAAAAIDBq4+Ueuutt6Rfv35SpUoVh+kWi8XhZ1XNNM3e/PnzpUyZMsa/atWqeWS8AAAAAAAAuM5rm1KnT5+Wr776Su677z5jWlBQkIj874gpm4sXL2Y6esre9OnTJTo62vh35swZzwwaAAAAAAAAIuLFTalVq1ZJpUqVZMCAAca0GjVqSFBQkHFHPpHr153avXu3dOjQIdtl+fr6SunSpR3+AQAAAAAAwHO88ppS6enpsmrVKhk/frz4+PyvBIvFIlOnTpV58+ZJnTp1pE6dOjJv3jzx9/eXMWPG5OOIAQAAAAAAYM8rm1JfffWVREZGyj333JPpsWnTpkliYqJMmjRJrly5Im3btpXt27dLqVKl8mGkAAAAAAAAyIpXNqV69+4tqprlYxaLRcLDwyU8PNzcQQEAAHiZyMhIsVqtbl9uQECAhISEuH25AACgcPHKphQAAABcExkZKfXqhUlSUoLbl128uL9ERBynMQUAAHJEUwoAAOAmZLVa/2lIvSciYW5c8nFJShorVquVphQAAMgRTSkAAICbWpiItMjvQQAAgJtQkfweAAAAAAAAAG4+NKUAAAAAAABgOppSAAAAAAAAMB1NKQAAAAAAAJiOphQAAAAAAABMR1MKAAAAAAAApqMpBQAAAAAAANPRlAIAAAAAAIDpaEoBAAAAAADAdDSlAAAAAAAAYDqaUgAAAAAAADAdTSkAAAAAAACYjqYUAAAAAAAATEdTCgAAAAAAAKajKQUAAAAAAADT0ZQCAAAAAACA6WhKAQAAAAAAwHQ0pQAAAAAAAGA6mlIAAAAAAAAwHU0pAAAAAAAAmI6mFAAAAAAAAExHUwoAAAAAAACmoykFAAAAAAAA09GUAgAAAAAAgOloSgEAAAAAAMB0NKUAAAAAAABgOppSAAAAAAAAMB1NKQAAAAAAAJjOJ78HAAAAACB3IiMjxWq1un25AQEBEhIS4vblAgCQE5pSAAAAgBeIjIyUevXCJCkpwe3LLl7cXyIijtOYAgCYiqYUAAAA4AWsVus/Dan3RCTMjUs+LklJY8VqtdKUAgCYiqYUAAAA4FXCRKRFfg8CAACXcaFzAAAAAAAAmI6mFAAAAAAAAExHUwoAAAAAAACmoykFAAAAAAAA09GUAgAAAAAAgOloSgEAAAAAAMB0NKUAAAAAAABgOppSAAAAAAAAMB1NKQAAAAAAAJiOphQAAAAAAABMR1MKAAAAAAAApqMpBQAAAAAAANPRlAIAAAAAAIDpaEoBAAAAAADAdDSlAAAAAAAAYDqaUgAAAAAAADAdTSkAAAAAAACYjqYUAAAAAAAATOeVTalz587J2LFjpUKFCuLv7y/NmjWTQ4cOGY+rqoSHh0uVKlXEz89PunbtKkePHs3HEQMAAAAAAMCe1zWlrly5Ih07dpRixYrJ1q1b5dixY/LSSy9J2bJljXkWLlwoixYtkiVLlsiBAwckKChIevXqJbGxsfk3cAAAAAAAABh88nsAzlqwYIFUq1ZNVq1aZUwLDQ01/l9VZfHixTJjxgwZPny4iIisWbNGAgMDZe3atTJx4kSzhwwAAAAAAIAMvO5Iqc8++0xatWolt99+u1SqVEmaN28ub7zxhvH4yZMnJSoqSnr37m1M8/X1lS5dusjevXvzY8gAAAAAAADIwOuaUn/++acsX75c6tSpI19++aU8+OCD8uijj8o777wjIiJRUVEiIhIYGOjwe4GBgcZjGSUnJ0tMTIzDPwAAAAAAAHiO152+l56eLq1atZJ58+aJiEjz5s3l6NGjsnz5crnrrruM+SwWi8PvqWqmaTbz58+X2bNne27QAAAAAAAAcOB1R0pVrlxZGjRo4DAtLCxMIiMjRUQkKChIRCTTUVEXL17MdPSUzfTp0yU6Otr4d+bMGQ+MHAAAAAAAADZe15Tq2LGjREREOEz79ddfpXr16iIiUqNGDQkKCpIdO3YYj1+7dk12794tHTp0yHKZvr6+Urp0aYd/AAAAAAAA8ByvO33vsccekw4dOsi8efPkjjvukB9++EFWrlwpK1euFJHrp+1NnTpV5s2bJ3Xq1JE6derIvHnzxN/fX8aMGZPPowcAAAAAAICIFzalWrduLRs3bpTp06fLnDlzpEaNGrJ48WK58847jXmmTZsmiYmJMmnSJLly5Yq0bdtWtm/fLqVKlcrHkQMAAAAAAMDG65pSIiIDBw6UgQMHZvu4xWKR8PBwCQ8PN29QAAAAAAAAyDWvu6YUAAAAAAAAvB9NKQAAAAAAAJiOphQAAAAAAABMR1MKAAAAAAAApqMpBQAAAAAAANPRlAIAAAAAAIDpaEoBAAAAAADAdDSlAAAAAAAAYDqaUgAAAAAAADAdTSkAAAAAAACYjqYUAAAAAAAATEdTCgAAAAAAAKajKQUAAAAAAADT0ZQCAAAAAACA6WhKAQAAAAAAwHQ0pQAAAAAAAGA6mlIAAAAAAAAwHU0pAAAAAAAAmI6mFAAAAAAAAExHUwoAAAAAAACmoykFAAAAAAAA09GUAgAAAAAAgOloSgEAAAAAAMB0NKUAAAAAAABgOppSAAAAAAAAMJ1Pfg8AAAAA8GaRkZFitVrdvtyAgAAJCQlx+3IBACgoaEoBAAAAeRQZGSn16oVJUlKC25ddvLi/REQcpzEFACi0aEoBAAAAeWS1Wv9pSL0nImFuXPJxSUoaK1arlaYUAKDQoikFAAAAuCxMRFrk9yAAAPAqXOgcAAAAAAAApqMpBQAAAAAAANPRlAIAAAAAAIDpaEoBAAAAAADAdDSlAAAAAAAAYDqaUgAAAAAAADAdTSkAAAAAAACYjqYUAAAAAAAATEdTCgAAAAAAAKajKQUAAAAAAADT0ZQCAAAAAACA6WhKAQAAAAAAwHQ0pQAAAAAAAGA6mlIAAAAAAAAwHU0pAAAAAAAAmI6mFAAAAAAAAExHUwoAAAAAAACmoykFAAAAAAAA09GUAgAAAAAAgOloSgEAAAAAAMB0NKUAAAAAAABgOp/8HgAAAAAAREZGitVqdftyAwICJCQkxO3LBQC4jqYUAAAAgHwVGRkp9eqFSVJSgtuXXby4v0REHKcxBQAFEE0pAAAAAPnKarX+05B6T0TC3Ljk45KUNFasVitNKQAogLzumlLh4eFisVgc/gUFBRmPq6qEh4dLlSpVxM/PT7p27SpHjx7NxxEDAAAAyJ0wEWnhxn/ubHABANzN65pSIiINGzaUCxcuGP9+/vln47GFCxfKokWLZMmSJXLgwAEJCgqSXr16SWxsbD6OGAAAAAAAAPa8sinl4+MjQUFBxr+KFSuKyPWjpBYvXiwzZsyQ4cOHS6NGjWTNmjWSkJAga9euzedRAwAAAAAAwMYrm1K//fabVKlSRWrUqCGjRo2SP//8U0RETp48KVFRUdK7d29jXl9fX+nSpYvs3bs3v4YLAAAAAACADLzuQudt27aVd955R+rWrSt//fWXzJ07Vzp06CBHjx6VqKgoEREJDAx0+J3AwEA5ffp0tstMTk6W5ORk4+eYmBjPDB4AAAAAgHwUGRkpVqvV7csNCAjghgJwmtc1pfr162f8f+PGjaV9+/ZSq1YtWbNmjbRr105ERCwWi8PvqGqmafbmz58vs2fP9syAAQAAAAAoACIjI6VevbB/7nbpXsWL+0tExHEaU3CK1zWlMipRooQ0btxYfvvtNxk6dKiIiERFRUnlypWNeS5evJjp6Cl706dPl8cff9z4OSYmRqpVq+axMQMAAAAAYDar1fpPQ+o9ce/dKY9LUtJYsVqtNKXgFK9vSiUnJ8vx48fl1ltvlRo1akhQUJDs2LFDmjdvLiIi165dk927d8uCBQuyXYavr6/4+vqaNWQAAAAAAPJRmIi0yO9BAN7XlHriiSdk0KBBEhISIhcvXpS5c+dKTEyMjB8/XiwWi0ydOlXmzZsnderUkTp16si8efPE399fxowZk99DBwAAAAAAwD+8ril19uxZGT16tFitVqlYsaK0a9dO9u/fL9WrVxcRkWnTpkliYqJMmjRJrly5Im3btpXt27dLqVKl8nnkAAAAAAAAsPG6ptS6detyfNxisUh4eLiEh4ebMyAAAAAAAAA4rUh+DwAAAAAAAAA3H5pSAAAAAAAAMB1NKQAAAAAAAJiOphQAAAAAAABMR1MKAAAAAAAApqMpBQAAAAAAANP55PcAAAAAAMBMkZGRYrVa3b7cgIAACQkJcftyAaCwoikFAAAA4KYRGRkp9eqFSVJSgtuXXby4v0REHKcxBQC5RFMKAAAAwE3DarX+05B6T0TC3Ljk45KUNFasVitNKQDIJZpSAAAAAG5CYSLSIr8HAQA3NS50DgAAAAAAANPRlAIAAAAAAIDpOH0PAAAAHsfdzrwTrxsAwJNoSgEAAMCjuNuZd+J1AwB4Gk0pAAAAeBR3O/NOvG4AAE+jKQUAAACTcLcz78TrBgDwDC50DgAAAAAAANPRlAIAAAAAAIDpOH0PAACggOBOZ+7B8wgAgHegKQUAAFAAcKcz9+B5BADAe9CUAgAAKAC405l78DwCAOA9aEoBAAAUKNzpzD14HgEAKOi40DkAAAAAAABMR1MKAAAAAAAApqMpBQAAAAAAANPRlAIAAAAAAIDpaEoBAAAAAADAdDSlAAAAAAAAYDqaUgAAAAAAADAdTSkAAAAAAACYjqYUAAAAAAAATEdTCgAAAAAAAKajKQUAAAAAAADT0ZQCAAAAAACA6WhKAQAAAAAAwHQ0pQAAAAAAAGA6mlIAAAAAAAAwHU0pAAAAAAAAmI6mFAAAAAAAAExHUwoAAAAAAACmoykFAAAAAAAA09GUAgAAAAAAgOloSgEAAAAAAMB0NKUAAAAAAABgOppSAAAAAAAAMB1NKQAAAAAAAJiOphQAAAAAAABMR1MKAAAAAAAApqMpBQAAAAAAANPRlAIAAAAAAIDpTGtK1axZUy5fvpxp+tWrV6VmzZpmDQMAAAAAAAAFgGlNqVOnTklaWlqm6cnJyXLu3DmzhgEAAAAAAIACwMfTAZ999pnx/19++aWUKVPG+DktLU127twpoaGhnh4GAAAAAAAAChCPN6WGDh0qIiIWi0XGjx/v8FixYsUkNDRUXnrppTwte/78+fL000/LlClTZPHixSIioqoye/ZsWblypVy5ckXatm0rS5culYYNG7pSBgAAAAAAANzI46fvpaenS3p6uoSEhMjFixeNn9PT0yU5OVkiIiJk4MCBTi/3wIEDsnLlSmnSpInD9IULF8qiRYtkyZIlcuDAAQkKCpJevXpJbGysu0oCAAAAAACAi0y7ptTJkyclICDALcuKi4uTO++8U9544w0pV66cMV1VZfHixTJjxgwZPny4NGrUSNasWSMJCQmydu1at2QDAAAAAADAdR4/fc/ezp07ZefOncYRU/befvvtXC/n4YcflgEDBkjPnj1l7ty5xvSTJ09KVFSU9O7d25jm6+srXbp0kb1798rEiRNdLwIAAAAAAAAuM60pNXv2bJkzZ460atVKKleuLBaLJU/LWbdunfz4449y4MCBTI9FRUWJiEhgYKDD9MDAQDl9+nS2y0xOTpbk5GTj55iYmDyNDQAAAAAAALljWlNqxYoVsnr1ahk3blyel3HmzBmZMmWKbN++XYoXL57tfBkbXqqaYxNs/vz5Mnv27DyPCwAAAAAAAM4x7ZpS165dkw4dOri0jEOHDsnFixelZcuW4uPjIz4+PrJ792559dVXxcfHxzhCynbElM3FixczHT1lb/r06RIdHW38O3PmjEvjBAAAAAAAQM5Ma0rdd999Ll9svEePHvLzzz/L4cOHjX+tWrWSO++8Uw4fPiw1a9aUoKAg2bFjh/E7165dk927d+fYEPP19ZXSpUs7/AMAAAAAAIDnmHb6XlJSkqxcuVK++uoradKkiRQrVszh8UWLFt1wGaVKlZJGjRo5TCtRooRUqFDBmD516lSZN2+e1KlTR+rUqSPz5s0Tf39/GTNmjPuKAQAAAAAAgEtMa0odOXJEmjVrJiIiv/zyi8Njeb3oeVamTZsmiYmJMmnSJLly5Yq0bdtWtm/fLqVKlXJbBgAAAAAAAFxjWlNq165dHlnuN9984/CzxWKR8PBwCQ8P90geAAAAABRUkZGRYrVa3b7cgIAACQkJcftyAdzcTGtKAQAAAAA8JzIyUurVC5OkpAS3L7t4cX+JiDhOYwqAW5nWlOrWrVuOp+l9/fXXZg0FAAAAAAodq9X6T0PqPREJc+OSj0tS0lixWq00pQC4lWlNKdv1pGxSUlLk8OHD8ssvv8j48ePNGgYAAAAAFHJhItIivwcBADdkWlPq5ZdfznJ6eHi4xMXFmTUMAAAAAAAAFABF8nsAY8eOlbfffju/hwEAAAAAAAAT5XtTat++fVK8ePH8HgYAAAAAAABMZNrpe8OHD3f4WVXlwoULcvDgQXn22WfNGgYAAAAAAAAKANOaUmXKlHH4uUiRIlKvXj2ZM2eO9O7d26xhAAAAAAAAoAAwrSm1atUqs6IAAAAAAABQwJnWlLI5dOiQHD9+XCwWizRo0ECaN29u9hAAAAAAAACQz0xrSl28eFFGjRol33zzjZQtW1ZUVaKjo6Vbt26ybt06qVixollDAQAAAAAAQD4z7e57jzzyiMTExMjRo0fl77//litXrsgvv/wiMTEx8uijj5o1DAAAAAAAABQAph0ptW3bNvnqq68kLCzMmNagQQNZunQpFzoHAAAAAAC4yZh2pFR6eroUK1Ys0/RixYpJenq6WcMAAAAAAABAAWBaU6p79+4yZcoUOX/+vDHt3Llz8thjj0mPHj3MGgYAAAAAAAAKANOaUkuWLJHY2FgJDQ2VWrVqSe3ataVGjRoSGxsrr732mlnDAAAAAAAAQAFg2jWlqlWrJj/++KPs2LFDTpw4IaoqDRo0kJ49e5o1BAAAAAAAABQQHj9S6uuvv5YGDRpITEyMiIj06tVLHnnkEXn00UeldevW0rBhQ/n22289PQwAAAAAAAAUIB5vSi1evFjuv/9+KV26dKbHypQpIxMnTpRFixZ5ehgAAAAAAAAoQDzelPrpp5+kb9++2T7eu3dvOXTokKeHAQAAAAAAgALE402pv/76S4oVK5bt4z4+PnLp0iVPDwMAAAAAAAAFiMebUlWrVpWff/4528ePHDkilStX9vQwAAAAAAAAUIB4vCnVv39/mTlzpiQlJWV6LDExUWbNmiUDBw709DAAAAAAAABQgPh4OuCZZ56RTz75ROrWrSuTJ0+WevXqicVikePHj8vSpUslLS1NZsyY4elhAAAAAAAAoADxeFMqMDBQ9u7dKw899JBMnz5dVFVERCwWi/Tp00eWLVsmgYGBnh4GAAAAAAAAChCPN6VERKpXry5ffPGFXLlyRX7//XdRValTp46UK1fOjHgAAAAAAAAUMKY0pWzKlSsnrVu3NjMSAAAAAAAABZDHL3QOAAAAAAAAZERTCgAAAAAAAKajKQUAAAAAAADT0ZQCAAAAAACA6WhKAQAAAAAAwHQ0pQAAAAAAAGA6mlIAAAAAAAAwHU0pAAAAAAAAmI6mFAAAAAAAAExHUwoAAAAAAACm88nvAQAAAAAAcCORkZFitVrdvtyAgAAJCQlx+3IB3BhNKQAAAABAgRYZGSn16oVJUlKC25ddvLi/REQcpzEF5AOaUgAAAACAAs1qtf7TkHpPRMLcuOTjkpQ0VqxWK00pIB/QlAIAAAAAeIkwEWmR34MA4CZc6BwAAAAAAACmoykFAAAAAAAA09GUAgAAAAAAgOm4phQAAAAAeFBkZKRYrVa3LzcgIICLcwPwajSlAAAAAMBDIiMjpV69sH/uHOdexYv7S0TEcRpTALwWTSkAAAAA8BCr1fpPQ+o9uX7nOHc5LklJY8VqtdKUAuC1aEoBAAAAgMeFiUiL/B4EABQoXOgcAAAAAAAApqMpBQAAAAAAANPRlAIAAAAAAIDpaEoBAAAAAADAdDSlAAAAAAAAYDqva0otX75cmjRpIqVLl5bSpUtL+/btZevWrcbjqirh4eFSpUoV8fPzk65du8rRo0fzccQAAAAAAADIyOuaUsHBwfLCCy/IwYMH5eDBg9K9e3cZMmSI0XhauHChLFq0SJYsWSIHDhyQoKAg6dWrl8TGxubzyAEAAAAAAGDjdU2pQYMGSf/+/aVu3bpSt25def7556VkyZKyf/9+UVVZvHixzJgxQ4YPHy6NGjWSNWvWSEJCgqxduza/hw4AAAAAAIB/eF1Tyl5aWpqsW7dO4uPjpX379nLy5EmJioqS3r17G/P4+vpKly5dZO/evfk4UgAAAAAAANjzye8B5MXPP/8s7du3l6SkJClZsqRs3LhRGjRoYDSeAgMDHeYPDAyU06dPZ7u85ORkSU5ONn6OiYnxzMABAAAAAAAgIl56pFS9evXk8OHDsn//fnnooYdk/PjxcuzYMeNxi8XiML+qZppmb/78+VKmTBnjX7Vq1Tw2dgAAAAAAAHhpU+qWW26R2rVrS6tWrWT+/PnStGlTeeWVVyQoKEhERKKiohzmv3jxYqajp+xNnz5doqOjjX9nzpzx6PgBAAAAAABudl7ZlMpIVSU5OVlq1KghQUFBsmPHDuOxa9euye7du6VDhw7Z/r6vr6+ULl3a4R8AAAAAAAA8x+uuKfX0009Lv379pFq1ahIbGyvr1q2Tb775RrZt2yYWi0WmTp0q8+bNkzp16kidOnVk3rx54u/vL2PGjMnvoQMAAAAAAOAfXteU+uuvv2TcuHFy4cIFKVOmjDRp0kS2bdsmvXr1EhGRadOmSWJiokyaNEmuXLkibdu2le3bt0upUqXyeeQAAAAAAACw8bqm1FtvvZXj4xaLRcLDwyU8PNycAQEAAAAAAMBpheKaUgAAAAAAAPAuNKUAAAAAAABgOppSAAAAAAAAMB1NKQAAAAAAAJiOphQAAAAAAABMR1MKAAAAAAAApqMpBQAAAAAAANPRlAIAAAAAAIDpaEoBAAAAAADAdDSlAAAAAAAAYDqaUgAAAAAAADAdTSkAAAAAAACYzie/BwAAAAAAAAqnyMhIsVqtbl9uQECAhISEuH25MBdNKQAAAAAA4HaRkZFSr16YJCUluH3ZxYv7S0TEcRpTXo6mFAAAAAAAcDur1fpPQ+o9EQlz45KPS1LSWLFarTSlvBxNKQAAAAAA4EFhItIivweBAogLnQMAAAAAAMB0NKUAAAAAAABgOppSAAAAAAAAMB1NKQAAAAAAAJiOphQAAAAAAABMR1MKAAAAAAAApqMpBQAAAAAAANPRlAIAAAAAAIDpaEoBAAAAAADAdDSlAAAAAAAAYDqaUgAAAAAAADAdTSkAAAAAAACYjqYUAAAAAAAATEdTCgAAAAAAAKajKQUAAAAAAADT+eT3AAAAAAqyyMhIsVqtbl9uQECAhISEuH25AAAA3oKmFAAAQDYiIyOlXr0wSUpKcPuyixf3l4iI4zSmAADATYumFAAAQDasVus/Dan3RCTMjUs+LklJY8VqtdKUAgAANy2aUgAAADcUJiIt8nsQAAAAhQoXOgcAAAAAAIDpaEoBAAAAAADAdDSlAAAAAAAAYDqaUgAAAAAAADAdTSkAAAAAAACYjqYUAAAAAAAATEdTCgAAAAAAAKajKQUAAAAAAADT0ZQCAAAAAACA6WhKAQAAAAAAwHQ0pQAAAAAAAGA6mlIAAAAAAAAwHU0pAAAAAAAAmI6mFAAAAAAAAExHUwoAAAAAAACmoykFAAAAAAAA09GUAgAAAAAAgOloSgEAAAAAAMB0XteUmj9/vrRu3VpKlSollSpVkqFDh0pERITDPKoq4eHhUqVKFfHz85OuXbvK0aNH82nEAAAAAAAAyMjrmlK7d++Whx9+WPbv3y87duyQ1NRU6d27t8THxxvzLFy4UBYtWiRLliyRAwcOSFBQkPTq1UtiY2PzceQAAAAAAACw8cnvAThr27ZtDj+vWrVKKlWqJIcOHZLOnTuLqsrixYtlxowZMnz4cBERWbNmjQQGBsratWtl4sSJ+TFsAAAAAAAA2PG6I6Uyio6OFhGR8uXLi4jIyZMnJSoqSnr37m3M4+vrK126dJG9e/fmyxgBAAAAAADgyOuOlLKnqvL4449Lp06dpFGjRiIiEhUVJSIigYGBDvMGBgbK6dOns1xOcnKyJCcnGz/HxMR4aMQAAAAAAAAQ8fIjpSZPnixHjhyRDz74INNjFovF4WdVzTTNZv78+VKmTBnjX7Vq1TwyXgAAAAAAAFzntU2pRx55RD777DPZtWuXBAcHG9ODgoJE5H9HTNlcvHgx09FTNtOnT5fo6Gjj35kzZzw3cAAAAAAAAHhfU0pVZfLkyfLJJ5/I119/LTVq1HB4vEaNGhIUFCQ7duwwpl27dk12794tHTp0yHKZvr6+Urp0aYd/AAAAAAAA8Byvu6bUww8/LGvXrpVPP/1USpUqZRwRVaZMGfHz8xOLxSJTp06VefPmSZ06daROnToyb9488ff3lzFjxuTz6AEAAAAAACDihU2p5cuXi4hI165dHaavWrVK7r77bhERmTZtmiQmJsqkSZPkypUr0rZtW9m+fbuUKlXK5NECAAAAAAAgK17XlFLVG85jsVgkPDxcwsPDPT8gAAAAAAAAOM3rrikFAAAAAAAA70dTCgAAAAAAAKajKQUAAAAAAADT0ZQCAAAAAACA6WhKAQAAAAAAwHRed/c9AAAAAEDBEBkZKVar1e3LDQgIkJCQELcvF0DBQlMKAAAAAOC0yMhIqVcvTJKSEty+7OLF/SUi4jiNKaCQoykFAAAAAHCa1Wr9pyH1noiEuXHJxyUpaaxYrVaaUkAhR1MKAAAAAOCCMBFpkd+DAOCFuNA5AAAAAAAATEdTCgAAAAAAAKajKQUAAAAAAADTcU0pAADgMm4JDgAAAGfRlAIAAC7hluAAAADIC5pSAADAJdwSHAAAAHlBUwoAALgJtwQHAABA7nGhcwAAAAAAAJiOphQAAAAAAABMR1MKAAAAAAAApqMpBQAAAAAAANPRlAIAAAAAAIDpaEoBAAAAAADAdDSlAAAAAAAAYDqaUgAAAAAAADAdTSkAAAAAAACYjqYUAAAAAAAATEdTCgAAAAAAAKajKQUAAAAAAADT0ZQCAAAAAACA6WhKAQAAAAAAwHQ0pQAAAAAAAGA6mlIAAAAAAAAwHU0pAAAAAAAAmI6mFAAAAAAAAExHUwoAAAAAAACmoykFAAAAAAAA09GUAgAAAAAAgOloSgEAAAAAAMB0NKUAAAAAAABgOppSAAAAAAAAMB1NKQAAAAAAAJiOphQAAAAAAABMR1MKAAAAAAAApqMpBQAAAAAAANPRlAIAAAAAAIDpaEoBAAAAAADAdDSlAAAAAAAAYDqaUgAAAAAAADAdTSkAAAAAAACYjqYUAAAAAAAATEdTCgAAAAAAAKajKQUAAAAAAADT0ZQCAAAAAACA6byuKbVnzx4ZNGiQVKlSRSwWi2zatMnhcVWV8PBwqVKlivj5+UnXrl3l6NGj+TNYAAAAAAAAZMnrmlLx8fHStGlTWbJkSZaPL1y4UBYtWiRLliyRAwcOSFBQkPTq1UtiY2NNHikAAAAAAACy45PfA3BWv379pF+/flk+pqqyePFimTFjhgwfPlxERNasWSOBgYGydu1amThxoplDBQAAAAAAQDa87kipnJw8eVKioqKkd+/exjRfX1/p0qWL7N27Nx9HBgAAAAAAAHted6RUTqKiokREJDAw0GF6YGCgnD59OtvfS05OluTkZOPnmJgYzwwwn0RGRorVanX7cgMCAiQkJMTtywUAAAAAAIVfoWpK2VgsFoefVTXTNHvz58+X2bNne3pY+SIyMlLq1QuTpKQEty+7eHF/iYg4TmMKAAAAAAA4rVA1pYKCgkTk+hFTlStXNqZfvHgx09FT9qZPny6PP/648XNMTIxUq1bNcwM1kdVq/ach9Z6IhLlxycclKWmsWK1WmlIAAAAAAMBphaopVaNGDQkKCpIdO3ZI8+bNRUTk2rVrsnv3blmwYEG2v+fr6yu+vr5mDTOfhIlIi/weBAAAAAAAgIh4YVMqLi5Ofv/9d+PnkydPyuHDh6V8+fISEhIiU6dOlXnz5kmdOnWkTp06Mm/ePPH395cxY8bk46gBAAAAAABgz+uaUgcPHpRu3boZP9tOuxs/frysXr1apk2bJomJiTJp0iS5cuWKtG3bVrZv3y6lSpXKryEDAAAAAAAgA69rSnXt2lVUNdvHLRaLhIeHS3h4uHmDAgAAAAAA+Yo7z3sfr2tKAQAAAAAA2OPO896JphQAAAAAAPBq3HneO9GUAgAAAAAAhQR3nvcmRfJ7AAAAAAAAALj50JQCAAAAAACA6WhKAQAAAAAAwHQ0pQAAAAAAAGA6mlIAAAAAAAAwHU0pAAAAAAAAmI6mFAAAAAAAAExHUwoAAAAAAACmoykFAAAAAAAA09GUAgAAAAAAgOloSgEAAAAAAMB0NKUAAAAAAABgOppSAAAAAAAAMB1NKQAAAAAAAJiOphQAAAAAAABM55PfAwAAAJ4RGRkpVqvVrcsMCAiQkJAQty4TAADAG3nivZbIzfV+i6YUAACFUGRkpNSrFyZJSQluXW7x4v4SEXH8pnmjBAAAkBVPvdcSubneb9GUAgCgELJarf+8SXpPRMLctNTjkpQ0VqxW603xJgkAACA7nnmvJXKzvd+iKQUAQKEWJiIt8nsQAAAAhRTvtVzBhc4BAAAAAABgOppSAAAAAAAAMB1NKQAAAAAAAJiOphQAAAAAAABMR1MKAAAAAAAApqMpBQAAAAAAANPRlAIAAAAAAIDpaEoBAAAAAADAdDSlAAAAAAAAYDqf/B4AAAAAAAA3s8jISLFarW5fbkBAgISEhLh9uYC70JQCAAAAACCfREZGSr16YZKUlOD2ZRcv7i8REcdpTKHAoikFAAAAAEA+sVqt/zSk3hORMDcu+bgkJY0Vq9VKUwoFFk0pAAAAAADyXZiItMjvQQCm4kLnAAAAAAAAMB1NKQAAAAAAAJiOphQAAAAAAABMR1MKAAAAAAAApqMpBQAAAAAAANPRlAIAAAAAAIDpaEoBAAAAAADAdDSlAAAAAAAAYDqaUgAAAAAAADCdT34PAAAAAACAgiYyMlKsVqtblxkQECAhISFuXSbgzWhKAQAAAABgJzIyUurVC5OkpAS3Lrd4cX+JiDhOYwr4B00pAAAAAADsWK3WfxpS74lImJuWelySksaK1WqlKQX8g6YUAAAAAABZChORFvk9CKDQ4kLnAAAAAAAAMB1NKQAAAAAAAJiOphQAAAAAAABMR1MKAAAAAAAApqMpBQAAAAAAANMV6qbUsmXLpEaNGlK8eHFp2bKlfPvtt/k9JAAAAAAAAEghbkp9+OGHMnXqVJkxY4b897//lVtvvVX69esnkZGR+T00AAAAAACAm16hbUotWrRI7r33XrnvvvskLCxMFi9eLNWqVZPly5fn99AAAAAAAABueoWyKXXt2jU5dOiQ9O7d22F67969Ze/evfk0KgAAAAAAANj45PcAPMFqtUpaWpoEBgY6TA8MDJSoqKhM8ycnJ0tycrLxc3R0tIiIxMTEeHagJoiLi/vn/w6JSFxOszopwli+/fMUFRWV5XPsqqCgIAkKCso03RN5ZmZll1cYnsfs8qjN+7LMzqM292R5Zv+f9b7fzL81Zv9dozb35BXWLLPzqM37sszOozb3ZHkuj+fRk3mFuTZvZBu7quY4n0VvNIcXOn/+vFStWlX27t0r7du3N6Y///zz8u6778qJEycc5g8PD5fZs2ebPUwAAAAAAIBC68yZMxIcHJzt44XySKmAgAApWrRopm+jL168mOnoKRGR6dOny+OPP278nJ6eLn///bdUqFBBLBaLx8dbUMTExEi1atXkzJkzUrp06UKTZXZeYc0yO4/avC/L7Dxq874ss/OozTvzCmuW2XnU5n1ZZudRm3fmFdYss/MKc20FhapKbGysVKlSJcf5CmVT6pZbbpGWLVvKjh07ZNiwYcb0HTt2yJAhQzLN7+vrK76+vg7TypYt6+lhFlilS5c2bUMxM8vsvMKaZXYetXlfltl51OZ9WWbnUZt35hXWLLPzqM37sszOozbvzCusWWbnFebaCoIyZcrccJ5C2ZQSEXn88cdl3Lhx0qpVK2nfvr2sXLlSIiMj5cEHH8zvoQEAAAAAANz0Cm1TauTIkXL58mWZM2eOXLhwQRo1aiRffPGFVK9ePb+HBgAAAAAAcNMrtE0pEZFJkybJpEmT8nsYXsPX11dmzZqV6VRGb88yO6+wZpmdR23el2V2HrV5X5bZedTmnXmFNcvsPGrzviyz86jNO/MKa5bZeYW5Nm9TKO++BwAAAAAAgIKtSH4PAAAAAAAAADcfmlIAAAAAAAAwHU0pAAAAAAAAmI6m1E3A7MuGpaWlmZoHAAAKLtv7EDPej5iZZXZeYc0yO4/avDOvsGaZnUdt3pd1M6ApVYhZrVZJSEgQi8Xi8axffvlFfvnlFxERKVq0qIiwkQIA4A08/ff6xIkTDjmezDMzy+y8wppldh61eWdeYc0yO4/avC/rZsDd9wqpH374QebMmSMXL16Up59+WurVqydhYWFuz1FViY6OlgEDBojFYpH09HR58sknpXXr1hIcHCzp6elSpIh7e58bN26UuLg4qVy5svTs2dOty87PLLPzqM37sszOozbvyzI7j9q8M2/Xrl3y5JNPyogRI6RLly7Svn17j2VFRUVJ+/btpXnz5hIYGCgzZ86UypUre32W2XmFNcvsPGrzzrzCmmV2HrV5X9bNgiOlCqlWrVrJCy+8IEOGDJGFCxfKAw88IK+99prbcywWi5QtW1a++OIL2bp1q4SFhclrr70mo0aNkh9++EGKFCki6enpbs08e/as7NixQyZMmCAjR46UDRs2SGpqqlsz8iPL7Dxq874ss/OozfuyzM6jNu/M69Spk4waNUqioqKka9eu8thjj8mOHTs8khUUFCT79u2TYcOGyblz56Rhw4ayYMECOX78uFdnmZ1XWLPMzqM278wrrFlm51Gb92XdNBSFRlpamqqqpqenO0z/8ccf9YUXXtBbbrlFH330Ub127ZrLWRkzUlNTjf/fuXOnjhkzRn19fXXHjh0OY3Nn5u+//67Dhg3TW2+9VceMGaNJSUkuZ2TH01nU5hmezMrPujydR22ewbaWd9TmubwtW7Zo9+7dtXPnzrp48WK3ZOT0N/+FF17Q1q1b68iRI3X//v1uybPVZP9exFNZhbU2s+tSpTZqy1lh3dZUqc0ba8uPbe1mQlOqkLBtiLGxsXrp0iVVdXzjmZKSops2bdISJUropEmT3JKVlpaWbYPr3LlzOnHiRPX19dXvv/8+03jykme/s7HtGOLi4vStt97SVq1aaefOnV1+824/RluGLdfdWfbLpjbvqc3MulSpzRtrY1ujttwws7as3kzbTzt27JhOmTJFGzVqpC+99JJLWfbP2SeffJJl3vr167Vnz55622236dGjR/Ocld2HBPvn1F1Z9sstbLWZWVfG5WY1DnfmURu13Qj7EWq7EbO3tZsRTalCwLahREdHa/HixXXq1KnZzrt582b19fXVV199NU9Zto0vJiZGb7/9du3Ro4d27txZlyxZoufPn3eYNyoqSseMGaMdOnTQ06dP5ynPvrYuXbrojz/+aDxm+wBx7do13bp1q7Zq1UpHjhypKSkpLmUlJydrZGSk/vzzz5nmcVeWfR61eU9tZtZln0dt3lMb2xq1OZNnZm3x8fH64Ycf6sqVK/X777/XxMREh/kiIyP1iSee0E6dOum2bdtcyoqOjtbAwED997//neXjqqoff/yxtmnTRufNm6fp6elOf3Flez8SGxurjz32mN53331633336a+//prpCzNXswpzbWbWRW3UVtBqYz9CbQWprpsZTSkvZ7+hhISE6G233ZbtvOnp6Zqamqrz58/X1q1b608//ZSnzPj4eK1bt6727dtXX3vtNb399tu1ZcuW2r17d/3999+NLFXVr776Snv06KFr165VVedO47OvLTg42KG2jN9ip6Sk6OrVq/XWW2/V999/3+mabOONjo7Wtm3bauPGjbVIkSLar18/Xb16tcO8rmZRm3fWZmZd1OadtbGtUVtBrS0mJkbr1aunDRs21Lp162qRIkV04sSJumfPHof5T5w4oT179tTJkyc7/L6zdVWvXl2HDBmS5Xz2HxheeOEFLVeunP75559O56le/9a6Ro0a2qNHDx01apS2bt1ay5cvry+//LJeuHDBYV5XsgprbflRlyq1uZpHbd63ralSm6r31ZZf29rNiKZUIRAXF6dVq1bVu+66y5i2b98+/eijj/T777/XyMhIh/mPHDmit956q37wwQeq6vzGsnbtWm3btq3Gx8cb0zZs2KA9e/bUli1bGhuhzUMPPaQtW7Z0KsP+jXS1atX0jjvucHjsypUrmX4nNjZWR4wYocOHD3cqyyY5OVnbtGmjt912m+7bt0+///577d+/v7Zr1y5TV9yVLGpz5A215UddqtTmal5hXR9t41elNnfkqRbu2lJTU3XkyJE6bNgwvXr1qqqqfvLJJ9q6dWsdMGCAbt261WH+bdu2qa+vr3733XdOZ8XGxmrdunW1f//+xrTPP/9cV65cqYsXL9bo6OhMvzN06FC95557nM5SVQ0PD9dOnTqp6v+e2yeeeEJr1Kihc+bM0YsXL7otq7DWZnZdqtTmjjxqc+QN25oqtWXkDbXlx7Z2M6IpVQi8/PLLarFYdPv27aqqOmHCBA0LC9Py5ctrxYoVtW/fvvr11187/M7cuXO1ZcuWmQ7fz43ly5drQECAWq1Wh+nbtm0zzqW9fPmyMT0uLk47derk9IXfkpOTtUuXLhocHGxMe/bZZ7Vfv35atWpVveeeezK9aT59+rRWqlRJt2zZ4nRdR44c0bp16zqctvHXX3/p9OnTtWXLljpr1iy3ZVGb99Vmdl2q1OaOvMK6PqpSG7XlTnp6unbs2FGff/55h+m7d+/Wrl276tChQ43TB21v7B999FF99tlnHablxquvvqoWi0VXrVqlqtffj7Rs2VJr1KihISEhWrlyZaM22zfL69at0379+uXp2+Qnn3xSe/furampqQ7fVM+cOVODg4N1zZo1bssqrLWZXRe1UVtBq439iHuyXnnllUJZW35sazcjmlKFQEREhD7yyCNarlw5bdeunXbo0EF3796t0dHR+sUXX+jAgQN14MCBeunSJePUgBMnTuikSZMyNZZy46uvvtIGDRrotm3bMm1sb775ptavX1/37dunqtdPRYiJidEpU6YY03LLarXquHHj9NZbb9WlS5fq2LFjtVWrVjpjxgx97bXXtG7dutqtWzdjubYdwT333KPvvPOO03X9+uuvGhQUpJ999pmq/u+Qzb///lv/9a9/afv27fWrr75ySxa1eV9tZtdV2GuLiIgwpbZLly7p2LFjPVZbxn2gp+uyz7t48aJHa8vIrNdM9fo6aWZthXUfmZaWprGxsXrrrbfqU089parXm2I2O3fu1Nq1axsNKNt7hJdffllvv/12p2tTVZ08ebLWrVtX27Rpoy1bttRDhw7phQsXNDo6WgcPHqwhISEaExNjzH/lyhXt06dPni4p8Oyzz2q1atWM7cL+gvATJ07UypUrG0eHuZqlqvrII48UytrMrMvs2sxaH221FJbXLasbP3iqtqw+uHuqNjPrMrs2+2sb2XiyNluefY1m7Etsec8880yh24/czGhKFRInT57USZMmaePGjTN9w/rhhx+qv7+/wzfA6enp+tlnnzmcgpdRxh2p7ee0tDTt2LGjtmzZUk+ePJnp90JDQ403vzZRUVFZnpZwo+xz587p5MmTtWrVqtq0aVONiIgwHouMjNRq1arpo48+6vC7n376qb722mu5zrK5dOmShoWF6QMPPGBMs/3BunTpkjZo0CDTnQvzkuXp2rL6A+jJ2rLKO3v2rD788MNury2ra5JZrVZt0KCB22vLKsuT62NWbyY8VVtWWZ6sLavn0jZ+T71u6enpxv97qjb7i2Pb3vh4qq6MebajUc+ePWvafuSvv/4ydT9y5swZj+xH8nMfaft/T+0js/tWduHChVqsWDHjDfK1a9eMeVesWKGlS5fWqKgoh99Zv359ju8RcrpG5KRJk7ROnTq6d+9eh+mnTp3SsmXLGpcPsF28/ejRoxoXF5djbfZsY798+bLWrVvX4dTGhIQEVb1+imSVKlX0vffecynL/ndVVR9++GG31pbda2a1Wt1eW07f2ru7LtXs1xFPvG45rY+eqM22P05LS3P4m+qJ2rLL8nRtiYmJDvsFT9aWMcsTtdmyEhISHC414qn9SHZ5qtebHJ6oLS4uTpcvX26cCeOJ/UhWefZ/K9z9umW3bf/9999ap04d0/Yjnv67drOjKVWI/PHHH7p9+3aNjY1V1f9tWAcPHtSQkBA9fvy4qubuUHz7Dz/2jSfbhvb3339rzZo19dZbb9Vff/3V4XcHDhzo9N39crpd9blz53T69Om6fv36TBeBve+++7Rjx46alpbmsIycTkvMaYezdetWLVq0qL7wwguqqg53Tpg9e7a2adNGk5OTc511o7yzZ896pDbbt+MpKSnG+L/44guP1WbLs/+g4+7abMtNSEjI1Hjdtm2bW2vLKcvd66P971+9elVnz57tMAZ315ZTlidri42N1dmzZ+vx48eNIz88VZst69ixY0aWu2uzz+rTp4/DPs/ddWWV98orrxiPeaq25ORkPXr0qP7+++/GlwpbtmzxWG1Z5Z05c8YjtdmP22bz5s0eqy2rvMjISP33v//tkdctqzsIDho0SCtVqmT8zbYtd/fu3VqnTh3jDrr2X0DdKCvjHf1s7z9Urz+ff//9t8PvHTlyRGvWrKn/93//5zA9p/cltqysmulpaWn63nvvaYMGDfTuu+92eMzWTPz0009znZVTnv3PW7dudWttSUlJunv3bt2yZYv+8ccfqnr9dXz33XfdVltOWe6uyz4vPj5e3333XX3hhReMo/9SUlI8UltWWZ6ozSY2NlZHjx6tW7ZsMd4fp6amun2dzC7LE7XZX9i5UaNGumLFCuMxd29v2WV5Yluzv3t4ixYt9O677zaWa6srLCzMba9Zdnn2tX3xxRdu3Y9ER0drjRo11GKx6H//+1/jMU/tI7PKs3H3PjI2NlafffZZHTNmjL788svGZ1NPrI8Zs2w38XJnXciMplQhk9UtoxcvXqwtWrTQc+fO5WoZto0oNjZWW7durePGjTMaWvYZf/zxh9auXVsbN26sS5cu1d27d+uyZcvUz89Pv/nmm1yP2bbjTkhI0J07dxpdbvvHrl696nAIps2dd96pjz32mMO4c2K/w/nXv/6lo0aN0lGjRumxY8eMeV599VUtUqSIPvfccw5jefTRR/W2227L8o1xXvJs43V3bTExMTp69Gjt3Lmztm7dWjdu3Gg85onacspzV202ycnJ2qRJE23ZsqV+8sknDo+5s7YbZbmzLvs/7tWqVXO4s4dtGa+88opbasspy93bmv18MTExWrduXR0wYIAeP37c4cPu4sWL3VJbbrL+/vtvt25rtruxWCwW7dy5s8M8ntjWcspz1+tm/0a6a9eu2qBBA61evbpOmjTJaBS5s7ac8mxv/DxR2+jRo3XAgAHavXt3XbZsmfH3cdGiRR6pLbs8q9Xqltps82R1B0HbdTVOnjypPXr00ICAAP3222+N0/iWLFmidevWdfo9QnZ39Mt4DUt7K1as0KZNmzq8yc9tVqNGjXTp0qWZHouNjdWlS5dqvXr1tEePHnrq1Cn9/fff9d1339UKFSrooUOHcpV1ozzVrBtjea3Nfv1o3769NmnSRCtXrqzly5c3vomPjo52S205Zd3oep/O1mWfFx0drc2aNdNWrVppgwYNtGjRovrFF18YY1myZInbasuY5ePjk+ki/u6oTfV/68lTTz2lFotFmzVrpjt37jTeH0dHRxvblbvWyYxZN9oX5aW2jO8RBg0alGmeq1ev6tKlS12uLTdZ2cnr6xYfH69hYWE6YsQIPX/+vMO+NTY2VpctW6Z16tRx+TXLTZ67asv4PPbq1Ut79uyp9913n/E3zJ37yOzy7r//fk1KSsryc2hea8v4vq5bt2562223aenSpY0vj2JiYtyyPuaUtWDBghx/N6/rIxzRlCrELl68qCtWrFB/f3/dtGmTU7+blJSkgwYN0tDQUA0JCdFJkybpiRMnjMdtbwISExP1jjvu0GbNmmmlSpW0QYMG+uGHH+Y6x7YTiIuL0zp16mjx4sX1k08+cbjmRXY78bffflsrVaqU6waY/Q6nfv362rdvX3344Ye1YcOG2qBBA+Mb3sTERH399de1WLFiOnToUH3kkUd05syZWqxYMeN6I+7Mc3dtdevW1UGDBumqVau0d+/eWqtWLeMPU1JSki5fvtyttWWVl9MpH87WZu/kyZMaGBio7du314EDB+rGjRuNx2JjY91SW26ysjqCIC912b+ZDgkJ0aFDh2Y5X3p6usu15TYrK668ZteuXdO+ffs65MXFxWlcXJxxFNPSpUvd8rpllRUfH69xcXHGESYZXztna7N/QxYSEqKjR4/WAwcOaNWqVfXdd9815ktOTnbLfiSnPNth6e7aR9rExcVpWFiY3n777Xrw4EGdO3eu1q1bV3/77TdVvf7FxLJly9y2rWWVV69ePYejcDPW6EptdevW1YEDB+rq1at17NixWrt2be3bt6+eOXNGVd23PuaU16dPHz116pRba8vuDoJt2rTRGTNmqOr1I1hHjx6tRYoU0Xbt2mmfPn3Uz89P169f71SWs3f0i4iI0CVLlqifn59u2LDBqazExETt1auXlilTRn18fHTZsmXGY7btOS4uTrdu3aotW7bUcuXKaa1atbRy5crG6RTuysuKK7XFx8dr06ZN9Y477tBTp07pzz//rPfee6+2adPGuOZnfHy8W2rLKSuryyu4Upfq9dekSZMmOmrUKLVarZqYmKjDhw/XKVOmOMyzbds2bd68uUu15SbLnbXZbN68WR988EHt27evBgUF6fbt240P5SkpKbp9+3Zt0aKFy+tkVlk7duzI8r2Iq7XFxsZqaGiojhw50ph24sQJPXTokHFkXWJiom7bts3l2nLKyuryIK7WtmbNGu3Ro4fx3mPTpk26aNEiXbdunXGn8u3bt2uzZs3c8ppll7d+/XqHz1R5rc3+y+0aNWoYd3OdOXOmhoSEONx9zh37yBvlXbp0SVUzv89y5XVLSUnRIUOG6OjRo43ncc6cOTp06FDjs+K1a9fc8rrllJVVs81d+xFcR1OqkDp+/LiOHz9eQ0NDjTebzhyRsm/fPu3bt6/+3//9n3744YcaHBysDz30kMNO1LbBpqen6/nz5zUiIsL4pjWrUxWyk5KSovfcc4/269dPBw8erGXKlNENGzY4NKbs7dixQydNmqRlypTRdevW5bom1etv2vv376/Dhg1z2GmGhITowoULHeb94YcfdMyYMdqpUycdOnSocQios0f2ZJf34osvurW2pKQk7d69u8O3+RcvXtQOHTromTNnNCkpyXjN9u3b53JtOeWdPXtWk5KSHF5DV2qzN27cOF2zZo327NlTe/XqZTRcbW+qv//+e5dryy7Ltiz7Q3ddrSsxMVHr1KmjvXr1MqatXLlSn376ab3nnnt0+/btxoe+/fv3u1RbTln33nuvfvnllw4fTtzxml29elW7dOli3N3riSee0N69e2vDhg11woQJRqNj7969Lr9u2WU1atRI7777biNL9fobz7zWdvXqVQ0JCTEuBG21WrVVq1Z67733ZprXHfuRG+VlXJarr9uiRYu0R48eDm/COnfurHv27NFjx44ZH5bd8ZrllPftt9/qsWPHjDe6qnl/3Wxjeu6553TAgAEOj40bN04tFou2bdvW+CDk6raWm7w2bdo4XGfE1dctpzsINm/eXOfMmWNM/+ijj3TWrFk6Z84c3b17t1O12ebN7R39zp49a3xo+fjjj53Oev/997Vfv366bds2nT9/vlosFodGUcYjRrZs2aLfffed/vLLL05n5SbP3rlz5/TZZ5/NU23p6en63HPPae/evR2Oltu4caOGhoY6rPc2X3zxRZ5qczbr3LlzLr1m6enp+sQTT+iwYcMcbpf+8MMP64MPPqhPPvmkrl271uEaQq7UdqMs+6aDq7XZ+/TTT7Vr166qqtqtWzcNDg7WI0eO6Msvv6wfffSRy7XdKOvnn3/WV155Rd9//31VdX1bS0tL0zvuuENLlSpl7EceeeQRbdGihZYvX15Lliypc+bMcXgPlNfabpRVqlQpnTt3rrGOuFqb6vW7tdm+tBo3bpyGhYVpq1attEKFCtqzZ0+Hu5u64zXLKa9Pnz7Gl52urJPJyclarlw5hy/jrl69qqGhocbRthm5Upuzea5ub9HR0dquXTvjiF9V1Xnz5mmvXr20d+/e+uSTT+qXX35pPObK/j+nrD59+uhTTz2ln3/+uaqqnj9/Ps/7fmSNplQhtm3bNj148KCqOtckUr3+ofurr74yjrCxb0zZn8rn7ClRWTl79qz++9//No4yuOuuu7R06dLZNqYOHz6sgwcPNv54OFPXt99+q+3atdMffvhBVf/XWBsyZIjOnDnTmM/WQLLdycF25I+zz2Nu82x++uknHTJkSJ5q27t3r06ePNnhVMTVq1dr6dKltWnTptq8eXOdPHmy0Th0tbYb5bVo0UIfeeQR4w2FK7WpXn9N0tPTtVOnTvr5559rRESE9ujRQ4cMGaJDhw7VqlWrGhcUtK03ea0tp6xhw4ZpcHCwceTNkSNHXKpr+/btGhYWpoMHD9bk5GSdOHGiNmrUSHv16qWNGzfW+vXr61NPPWVc2NqV1+1GWWFhYfrvf//b+NDi6muWnp6uP/30k5YpU8b4A964cWNdvXq1Pv3009q7d2+HI2Jsz2leartRVp8+fbR+/fpGE+Dw4cN5ru2hhx7SYcOGOUz74IMP1MfHx+EaZLb9iKvrY27zbFxdJ2fPnq1NmjQxGpTr169Xi8VinKbVqFEjY7t35TXLTV69evW0UaNGxjriyuumev00vGHDhmlqaqox9vfee0/79Omj3bt313vvvdf4YOvq63ajvB49eui9995rLN/V1+1GdxBs27atbt++Pdvfd+bDpDN39EtMTNQTJ07o0aNHjRxnajty5Ii+9dZbmpKSoqmpqTpv3rxMjaL09PQsjxrJi9zk2aSlpemvv/7q8AHImdpWrlypjz32mMN7qZiYGA0ODtbDhw8bf4vcUVtusmyuXbumJ06cyHNdqqr/93//p5s2bTJ+b8OGDWqxWLRPnz46bNgwLV68uD700EMOd8zKq9xkTZo0SdPT0zUpKcml9dFefHy8du/e3fi5b9++Wrp0afX19b3hqYPuzNq2bZuqXt8OXa1t48aN2qFDBx0/frz26NFDmzVrpp9++qkeOHBAly5dqj4+Pjpv3jy31JSbrPnz56uquuV1W7FihY4aNUo//vhjbdGihbGsgwcP6pAhQ3TIkCEORxe56kZ5Q4cO1atXr7r8utmaIqrX9/vXrl3Txx57TNu1a2d8ieTKep6XPJtr165pREREnms7e/as1qhRQ2fMmKHHjx/XDRs2aLFixXTSpEk6bdo04/TBI0eOuFxXbrJ69eqlJ06c0NTUVLftR3AdTakCKqsVO7dvSty9Udhy169fr1WrVnU4Ymrt2rV5OqUno2PHjjncoWDs2LFZNqZsb95t8+al2TBr1izj921vzu6//3596KGHjHnsH7Pl5EVu8mzLtr+TRV5qU73eRLAtZ/PmzWqxWPTZZ5/V3bt36/PPP69NmzbVVatWGWNzpTZn81Rd+3Bnm//55583vp0/f/681qpVS4sXL67/+te/jHltR1zktTZnslRdr+ujjz7SLl26aKlSpbRFixYaERFhPK8zZszQmjVrGtf9cOV1y01WrVq19Pvvv3dLbarX1+vu3bvrzJkztV+/fvrVV18Zj+3fv1979Oihs2fPdrirUF5fN2eyXKnNfl9s+9B45swZ7dixo06bNi3Txalty3ZlP+JMniu1qV4/faxVq1Y6ePBgnTVrllosFn3ppZf09OnT+t1332n//v111KhRmpCQ4PJrltu80aNHGzW52iRq0qSJ0eRVVW3SpImGh4friy++qKGhoQ5H/Lpa243yatSoYVxg3NXa8nK3Tldq+89//nPDO/pduHAhz8u3Z//3OCEhIcsjmL777rtMd7jyZN6ePXv09OnTLuVcvXo1U1PGarVqcHCw8WFHVXN9vS93ZNlOY80r+3XK9v9nzpzRnj176muvvWY0Zz/++GO1WCwO2Z7Oynjxf1ddu3ZN69WrZzR7X3jhBS1WrJhWqFBB9+zZ45YvbnObldO1fHLD/rn8/PPPtUGDBtq6dWujMWmzYMECLVeunP7111+mZWW8K19ebdmyRUuWLKl33HGHjh8/3uGxPXv2aLFixTJdIN/TeRnv5OYK++f18OHDWqRIEV29erXblp9feUuWLNHy5ctr9+7dtXz58vqf//zHeOzHH3/UMmXK6Nq1a03Lsh2ZCPeiKVUA2d9B59dff9Xffvst21PZzGC/01m/fr0GBwfr5MmT9YknnlAfHx+HwyZdZTuSSPV/jamPP/5Yk5OT9Y033tDHHntMk5KS8vStYcbfsf/5/vvv1zFjxhg/f/HFF7pp0yaXvp3Ma15emw0Zf/7yyy/1nXfecZjetGlTveuuu5xefn7n2Vu6dKlxCPtLL72kvr6+2qRJEx04cKDD4fLekGX/ofeDDz7QkSNHGkdJ2K8v5cqV0/DwcNOyZs2a5VJWRpMmTdLq1atrpUqVMt2h5bbbbnO44HpBz8ppnzBt2jStVKmSxsTEqKp7viAwO8+W+dJLL+nUqVN1woQJmbbhyZMna4cOHdyS5UyeO+qLjY3V6tWra926dXXEiBEaHBxsbOOq19d/d+5HPJGX091qc3vnx9zK7o53qtffowwdOjRXd/TLa1Z2r3l8fLzRKFqxYoUuXbpUixcv7tS35a7m+fr6Gg25vGRllZuSkqLnz5/XKlWqaEREhKpeb9qWLFky140pM7Nyk6d6/b2drWFoW0d++OEHrVOnjsNp1QUp60Z5tibQ6NGj9fDhw/raa6+pv7+/bt26Vfv06aNlypRx+GLEjCxn9pE5bduqql9//bWuXLky0/UYV69erTVq1MjyBg0FNcv+efn3v/+tFotF27Vr59BYu3LlirZo0cLpppSZebltctqev3vvvVe7dOmS56aemXk3WkeOHz+uZ86c0ZYtWzocDBEXF6dt2rRx6vpRZmYh92hKFTC2HVl0dLR26NBBa9eurSEhIdqsWTPdt2+fWw5zdmVcqte/cSpatKhaLBanLmqeW/Y7i3HjxmmFChX0zjvvVIvF4nCxaXdmPfzwwzpx4kRVVX333XfVYrEYh0N7c55NSkqKJicn6+jRo3Xx4sUey/Fknm0dtF2jZ8GCBern56e7du3SY8eOabt27bRnz55u+UYtP7JUVQ8cOOBwTYyUlBS9dOmStmnTxq1NMDOy7PNSUlK0R48earFY9Mknn3Q4KvKpp57SKVOmaGpqqktNBzOzMrK9mbl8+bLWqVNHn376abct2+y8jA2P8PBwHTFihMO0Z599VkeMGKHx8fEuP49m5tlfNP6RRx7RqVOn6nPPPWc8fuLECa1du7YeOHAgzxmezsvpbrW258Zdd0e0ZcXGxuqMGTOybDD9/PPP2qdPH5fv6JebrIwSExN1wYIFarFYtGjRog43GihIec5mxcTEaJUqVfTPP//Ud955R2+55RaHI44LSlZu87LbZl999VXt0KFDrhuXZmblNk9V9ZlnnlFfX1/19fV1OK2pc+fOunPnzgKXdaM8+31yVp855s2bp/369dOrV6/man9c0LIuXbqkkydPVovFouHh4UYD86233tJq1aoZDdrcMDMvL/ustWvXasWKFfN0NJaZebldR6KiorRevXq6Y8cOY9rbb7+tQUFBevjw4QKXBefQlCqAkpKStE2bNnr77bfr/v37devWrTp06FAtVaqUrly50vhWXPV/G9CVK1fcdj2F7Nj+ICxfvlx9fHx08+bNxnR3nzJo/6a5UaNGarFYjDsbuDPLlvPggw/qU089pRs3btSiRYu67TDQ/MzL+DytXr1ag4OD3XqocH7kWa1WLVOmjBYtWtS4+LDq9UOHb3Rr64KaldM6vXr1aq1Vq1amo368IUv1f+t8SkqKdu/eXYODg/Xee+/VDRs26MKFC9Xf399tR1uamZWVpKQknTBhgrZr187lUykKSt7LL7+szZo10127dunx48f17bff1hIlShi3dfe2vJwaMm+++abWrVvX4a5/BSnPtu3mdLdaVffd+VH1+hFCLVu2VIvFogMHDszy4tsRERE6duxYl+/ol5usjObOnasWi8XhOly5fY9gZp4zWTExMdqkSROdMmWKFilSxDhVpCBmOZuner1Ju3r1avXz83P4u1rQsm6UZ3t+tmzZor169TLWiYz7Ync8j+7Oym2ePdtz6e/v73BBcG/KsomLi9MZM2ZoyZIltWbNmtqhQwctW7as0/sss/Pyss9q06aNduvWTVWd//xkZl5usx566CEtXry43nXXXTp+/HgtV66cx55Hd2Qh92hKFUC//vqr1qtXz7g4ts2UKVO0ZMmSxl0BbBv74cOHtXHjxkb33ZMXWvv111/V19fXYQyeyktNTdVFixapxWJxuPORJ/Ief/xx9ff316JFizrcZt1TtZmZ98MPP+hrr72Wpw8JBS3P9vxs2rRJv/3220zTvTUrK/v379dXXnlFfX193X5aotlZtjfOqamp+vTTT2vXrl01ODhYO3To4PZms5lZ9uyPrrNYLJlu9+yteSkpKdquXTutXLmyhoaGap06dfJ0R9eCmqd6/e/a888/r76+vqbsI13Jc+Zuta7e+TEtLU3nzZunPXv21I0bN2q1atW0d+/e2b6B37BhQ57v6Odslqrqrl27tHTp0nlqpJiZ50xWWlqanjp1Si0Wi1osFmN/XBCznM1TvX5azIQJE7RKlSpOb9dmZjmbl/GIQGf3VWZmOZunev26r6NHj9aAgADjDAlPvW5mZn377be6evVqffPNN43PXJ5aR1zNczbLdqDCihUrnDqKLj/ycpNle54SExN17ty52rVrV73//vuNI5nc+Ty6KwvOoSlVQNhf7+WHH35Qf39/4y539oe02m4Xbbttter1jm+pUqX0ySefNGWsZ8+eNcbqyQ0zNjZWH3jgAeM6RZ7Isy3vkUceyfO3rQU5T/X66TBt2rTJ8+3aC2Kep48KzK8se9OnT9dGjRoZp6x68nUzI8v+iJHU1FSNiooyrhPh7vXfzCx76enpmpiYqH/88YdHlm92nn2D79NPP9WvvvrKuOueJ55Hs/Ns9uzZow8++KBp+0hX8nJ7t1rbNuDK3RGTkpJ09erV+vrrr6vq9SOiqlatmu0b+Ky4O8vesWPH9NChQ07XZXZeXrIeeuihPH0ZZ2ZWXvLi4+P1/fffN77o8WRtrmTlNi/j8vK67zAzK7d59uLj4/Xtt982rq/j6dfN01k5va/zxPrvjry8bNv22c6uL2bm5SUrKSnJ4bOzJ5/HvGbBOTSlCoCVK1fq6tWrHXZarVq10kGDBhkrvv2bzU6dOunYsWM1PT3duDD4pk2bdMqUKQ7Xj8jI9ibVXddTMWOjtNVzo52Aq2NJSUlx+GbX07U5k+fqWGzfhuYmyx2cySvMO3Z3vG62ZoOnXzdns/I6FjNf77xkearpbRZPbGvuvHuUp/Lc8Tzbrq9m1htOV/KcvVutLScvYmNjHW5AcuzYMQ0ODs70Bt4dpzzmNiuri1XnpT4z85zNsn0ZmZf1w8wsZ/J+//13p5edn1nO5Dl7AfX8znImz9tet4L6PBbmdcTM2py55ldByELu0ZTKZ+vXr1eLxaKff/65qv7vm+IPPvhAmzdvrk8++aTxJsG2AT388MPat29fh+WcPXs2x8617Y3+1atX9c4773TqDjV5kd23Ap74gGN/t0Kr1er07zt7Tr6rtTmT52ptzh7l42ptzuS5WpszzFwf7Zdrxutm5mtmv9zC9rqZWZcqtblLYa7tRnJzt1p33bnX/u/U0aNHHd7Av/TSS9q1a1fjKGozss6cOeOWLLPzbpTVpUsXp+58V1Cycptn1jrizqzc5Jm9/ptZm7e+bgXteSzM64i31mb284ic0ZTKRwkJCdq3b1+tX7++0ZSyiYmJ0aefflpbtWqlU6dOdXjsqaee0mHDhmlSUlKuPlDa3wGoatWqOmDAgEzzeOLUmYSEBF23bp2uXbvW4e4F7mTfbAsJCXG4G4kn86jNPVlm1GZmXfZ51OaerMK2PtrnUZt7sgpjbc6OSdXzd6tV/d97hWPHjmloaKiGhISoxWIxrrPkrVlm5xXWLLPzqM078wprltl51OZ9WcgeTal89scff+jgwYO1W7dumVb+K1eu6Jw5c7Rx48baqlUrXbhwof7rX//SYsWKZWpiZce2ocXExGiNGjUcbrWdkJCgcXFxRmMr43/zckc/+7y6detqq1atNDAwUKtWrapDhw7VixcvZvs7zrJvtoWGhmr//v2znM++Bleab9SW9e84y8zazKxLldpUva82tjVqyw2ztzdnmHW32oyefPJJtVgsxh39CkuW2XmFNcvsPGrzzrzCmmV2HrV5XxYc0ZQqAP78808dMGBAlo2p+Ph4/fbbb/W2227Tdu3aaf/+/Z2+OGpSUpJWqVJFmzZtakybPXu2Dho0SFu0aKFDhgzRqKgoVf3fG3hX7uiXlpamw4YN0/79+2tiYqJGRkbqzp07tWbNmtqmTZsszz3+888/jQsROyMmJkZr1qypw4cPN6adPHlS//vf/zqcm27/pj2vWarUlpE31GZmXarUpup9tbGtUVtumL29OcPMu9Wqqr777rtqsVgc7mpWGLLMziusWWbnUZt35hXWLLPzqM37spAZTakCIqfGlE1KSopxfQhnN5Tbb79dK1WqpNu3b9fRo0dro0aNNDw8XJ999llt27atBgcHO3zT68od/VJTU7Vbt266bNkyh+nnzp3T+vXra8eOHY0La6ampqrValU/Pz8NDw93Kic9PV3vuOMOtVgsxvImTpyoHTp00KJFi2rjxo31oYcechjX5cuX85RFbd5bm1l1UZt31sa2Rm0Frba8MONutTapqan60Ucf6bZt2wpVltl5hTXL7Dxq8868wppldh61eV8WskZTqgDJrjFlfzHT3G4gtjv62V/kdMyYMWqxWLR9+/YO3+ieOXNGmzZtqnfffbempzt3R7+spKWlaVhYmD7wwAPGNNs31X/++adWrVpV77//foffeeWVV7R9+/ZOX1Dup59+0pCQEB06dKjeeeed2rx5c920aZPu2LFDly5dquXLl9cpU6a4JYvavLM2M+sys7b09PRCVZv9vi0tLc2jtWXcj3r6Nct4Cpkna8t4yjX7Ee+ozR1vfnN7t1p35Ob2tEhnLwHgSlZGhbU2T9eVcd68ojZH1Jb3LPYj7snKqLDWZsa2BvejKVXAZNeYcmbjyHhHP/vG1PTp0/XFF1/M9KZ1+PDhOnDgQIfl3OiOflmxbdBLly7V+vXrG9e1UP3fXedWrlypTZs2dXiTfvToUX388ceN22Q745dfftEqVapo1apV9dixY8b0hIQEnTt3bp6zMj7ntp89UVt2r69Ztdl4e20Z74BlG7un1seMebafPVlbamqqw3Pq6doy5nmytmvXrjk8p56oLbssT21rtoz4+HiH3/dkbfHx8Q53C/NUbdm94fREbdllFYZ9ZEG4o6Wq+9+E2+qKjY3VH3/80a3Lzkphrc3MulSpzV2ozT3Yj7hPYa3N7G0NnkFTqgDKqjH1xx9/5OqW09nd0c++MWX/5ti2Id9zzz06bdo0h2k3kt0HclXVEydO6KBBg7Rfv366detWh/k+//xzDQoK0sjISIfpMTExecpSVY2IiNC3335b4+LiHKYvX75cg4ODM73RzynLfvkpKSl66dIltVqtDg0HT9Rmy7p06ZJDfZ6qLTk5WX/55Rc9cOCAccqJp2rLKsvdtdn+8MTExOiKFSscHnP3+phTnm37cWdt9ncZu/POO/XIkSMerS2nPHfXZnu+YmJi9LbbbtNly5YZ09xdW8aspUuXOuzvPLWtxcbGapUqVbRx48bGNE/tI7PK8mRtCQkJ+umnn+qKFSv0r7/+UtXrjRhP1JZVlidrS05O1j///FP//PNP42/oiRMndODAgdq3b1+31mbGHQRt63psbKzOmDFDx4wZo88//7zu3LnT7Vn2F6IvUaKEPvzww27PsFdYazOzLlVqcxdqcw/2I+5TWGsze1uD59CUKqBsjakBAwbo7bffrhUqVNDTp0/n6nezu6Of7dvcjNasWaPly5fXb775Jtfjs98JPPjgg3ry5ElVdWwWfffdd9q5c2ft06ePrlmzRlWvf5BfsWKFNm7cWM+dO2dMczUru/rmzJmjgwYNMj4U5KZjbv/Bdfjw4dq8eXNt0qSJTpo0SRMTE1VVdc+ePW6tLWPWww8/bGR5orbo6Gjt1q2bNmrUSKtVq6bdunUzTv349ttv3VpbVlmeqM12WlTr1q3VYrEYTVYbd9WVmzxb7Vk1kp2tzf6Pe9WqVXXAgAGZ5tm9e7fbastNnqr7XjfV69t27dq1dcSIEXrs2DGHZX/zzTfauXNn7d27t1tet4xZ9q9Renq62+qyfx5DQkI0NDRUGzVqpF9//bUxj7vWyeyydu3a5fC4O7c1W55tnxUQEKCVKlXSU6dOubW27LICAwMd/iZ6Yh/ZuXNnbdasmTZo0ECbNm2q+/btU1XV77//3u2vmxl3EFT93/rfq1cvHTJkiHbv3l1LlSqlixYtyjHXGRnXx9tuuy3beW31uOM0j8Jamxl1qVKbDbXdWGHd1lSpzcabajNrW4Nn0ZQqwP7880/t2rWrVqlSxbgTgDO/e6PTAH/88Uf917/+paVKldIPP/zQ6fHFx8drmzZt1GKxaPfu3Y0PI/YfDvbt26djx47VihUratOmTbV///7q5+fndF52WdkdPRYTE6NvvvmmlipVyuGIsRuxPT+xsbFar149HT58uH788cc6c+ZMbd++vS5ZssRttd0oa+nSpR6t7Y477tAffvhBN2zYoLVr19YtW7YY83777bd65513uq22jFlffPGFMa/9H4i81mbvoYce0rFjx2rZsmV10qRJDo8dPHjQpbqczbOXl9rsj8aqUaOGjhgxwngsISFBY2Njje3N1dcsN3lxcXFZNtxced3S09N18uTJOmjQIGPab7/9pvv27dMrV66oquqhQ4f0zjvv1ICAAJdet+yy9u/fn+Ud0vJal31jo3r16jpmzBiNi4vTunXr6oQJExzmdXU/4kyWO2qzSUxM1NatW+tdd92l58+f10uXLmnz5s118eLFDrW543XLLuuVV17xSG0JCQnarFkzHTNmjB46dEh3796tffv21UqVKukbb7yhqqoHDhxwy77E7DsIzp07V9u3b298CXH+/Hn9z3/+o0WLFtXZs2cb89n2Bfv379c9e/aoqnNv5uPi4rRKlSp65513GtN27Nihr7/+um7cuNHh6EtXswp7bWbVRW3UVtBqYz9CbQWpLngWTakC7syZM3rw4ME8/W52jam0tDRNSUnRL774Qu+77z6jGeHMxVFTU1N12rRp2rNnT128eLH27NlTO3fubBzFZN+YOn/+vO7Zs0cnTZqkCxcuNL69d1dWxh3KgQMH9F//+peWK1fO4baeuZWSkqL33HOPDhkyxOEi8yNGjNAhQ4Y4zOtqbc5kuaO2a9eu6eDBg3XEiBEOp3T26tVLN27cqF9//bVxqsu5c+dcqu1GWbt27dK///7bbbXZ5n3wwQf1scce082bN6uvr68+8sgjqqr61Vdf6ZUrV/Svv/5yqa7c5u3cudNYRw8ePJjn2pKSkrRKlSratGlTY9rs2bN10KBB2qJFCx00aJBeuHBBVVUjIyNdru1GeUOGDNGoqCjjMXe8bn379tXly5erquq9996rjRo10goVKmiFChV0+fLlmpaWppcuXXK5tpyyAgICdMWKFcb672pdsbGxWrZsWb399tuNaatWrdLKlSvr//3f/znM6+p+xJksd9Smer3h1KxZM4fGyZ133qkvvviivvDCC/r999+rqurly5d19+7dLr1uOWUtXLhQf/jhB6NJ447aduzYobfeeqvDNRU3bdqkFotFy5cvrx988IGqur69paebfwfBiRMnZjoiKzU1VVesWKEWi0Vff/11Y3pKSoqOHDlSS5cu7bCvzo21a9eqxWLR9957T1VV77rrLm3YsKFWq1bNOJLP/lRFV7IKe21m1UVt1FbQamM/Qm0FqS54Fk2pQi67xpTq9Q3Tdn0pZxpSNm+88YYuWLBAU1NT9fPPP9fu3btn25jKyNm8G2XZN6ZOnjypy5cv12+//dapLNs8Fy9e1AceeMD4RtxWxyeffKK33nqrXrt2zeXanMnK+A15XmqzSUlJ0ZdfftnhWigbNmxQHx8fDQsL03r16mmFChX08OHDea7NmayKFSvqTz/9pKqqv//+u65YsSLPtdnWgQ8//FCnTp2qqqrr1q1TPz8/bdWqlVapUsXhQsh5rSu3eVWrVtXjx4+r6vV10pXabr/9dq1UqZJu375dR48erY0aNdLw8HB99tlntW3btlq1alWHa+y4WtuN8oKDg/XixYuqev10YWfXSfvHExMTtW/fvvrxxx/r22+/rY0bN9Y9e/boH3/8odOmTdOKFSsab2zyUpszWYGBgcZ+Mq/ro22enTt36owZMxweO3LkiIaGhupLL72kqq7vI53Jcsc+0t5nn32mRYsW1T/++ENVVb/44gstWrSoduvWTVu0aKElS5bU1157Lc+1OZNVunRpIysv62NGb775ppYtW9bhNONffvlFJ06cqMOGDdOAgIBsL0jubJ7ZdxBctmyZVqtWTSMiIhymJyYm6rPPPqt16tRxeCwiIkIHDhyo+/fvdyrn6tWrOm/ePC1atKg2a9ZMO3XqpPv27dPExEQ9ePCg3nvvvdq0aVOHOwHnNcvs2qKjo02tzay6CnttZq+TheV1y2p/5qnaMmZ5+jXLz9quXLni0dqyOpPEU7VlzLp8+XKh3dbgOTSlbgI5NaacsXLlSl29erXDByn7N+2bNm3SHj16aOfOnR1Or7t8+bJpWbYPCvZHHeXmA4ItLz09XZOTk/WLL74wDgO1Wb9+vTZq1Mhh52v7oOfMh5C8ZtlffDcvtdn/vu3/9+/fr0FBQfrSSy/pyZMn9erVq9q3b19t165dnq5dktcs2/No/3rfKN+WlfFIud27d2ujRo2M53TkyJHq4+Ojffv2NebJy+G6ruTltTb713rMmDFqsVi0ffv2Dn/Iz5w5o02bNtXx48fn6QO4K3nuet3uvvturVu3rk6dOtXhFFlV1UmTJmmtWrVydaMHd2XZ6nGmLvs8Vcc3afa/++9//1sDAwP1/PnzTtfjzqy81mbLSk9P1w4dOmjJkiV15MiRWqRIEV2+fLnGx8erquqMGTO0YsWKTt/B1ZUsW6PU1dqOHz+uzZo102effVavXr2qf//9t9atW1fvu+8+jYuL08aNG+urr76a6+XfaCyeuINgdvu47777Tlu3bq3Tpk0zrn1lc+jQIQ0KCtIdO3Y4jHnmzJnG0ZjOZMXExOi8efO0QYMGmS46+80332ipUqUcpucmyzZfVv+/f/9+bdOmjVtrs1++fZ0JCQlury279WPv3r1uryunvNjYWLfXlt068n//938eqc3MddJ+P2X/syfWx6zybP/1xDqZ3Z1BPVGbfZb93w1P1GWfl5SU5HB3OE/WlpSUpIcOHTKttpiYGF2wYIExfd++fR6rLSYmRl944QVjenx8vGn7ke+++84j2xrMRVPqJpFVY+rPP//M9Qe99evXq8ViMa7PYf+m334ZtmZRly5d9NSpU/rqq69qw4YNb3i3I3dlNWjQ4Ia3+r5Rnj37N20bNmzQ+vXrG2N45513dMiQIU41OFzJGjx4sKalpTn1IShjXsbf/e233xx21Kqqzz33nLZs2dKhsefpLPtmiCtZqamp+ttvv2nLli1VVXXRokXq5+enTzzxhJYuXVrvv/9+p3LyIy9jlv1zM336dH3xxRczNZ+GDx+uAwcOdEttnszLbtv+/ffftXnz5mqxWHThwoWq+r/G8ueff66NGzd2ah/iapaz+5Cs8jLuF2zP36FDhzQsLMw4hTAvDVIzs7LKsz2X8fHx+tZbb+kHH3ygt956q165csVozn733XdavXp1h4amp7N+/fVXl2tTvX49jJkzZ2rjxo21UqVKGhgY6HBqQMuWLfWJJ55wKienO/qpXv/m9q233nLr3ToTEhJ03bp1unbtWt2+fbvx+MKFC7V69eo6Z84ch4vFJyQkaOPGjXXjxo0Oy8lNXdllXb16Vffu3etwVLbq9b8HtWvXNr6pdvauv9m9L1i4cKGGhoa6tbbssq5evar79u1zS232H1r379+v27dvd9h2XnjhBbfVlZu8v//+2+21JSQk6Jo1a4zrytgsWLDAI7XZ533yySfG41euXHFbbTYxMTHapUsX4xReG3eujznl2WrwxDqZ3Z1BPbGtZZflzrrs54uOjtYOHTroE088oX/++afxuDvXyRtluXt9tG8SNW7cWC0Wi3711VfG45543bLL8sT6GBcXp9OnT9cHH3xQn3zySeNxd+8jYT6aUjeRvN7RLyEhQfv27av169d3eOOe3beVmzZt0t69e2vlypXVx8dHV61alesxmpmVU15WO8ivv/5amzdvrqrXr9dStGhRfffddwtkVk55Gb9dyzh9+vTpevfdd2tycnKuG2AFKUv1+jW5evXqpcWLF9fPPvtMVVXfe+899fHx0aNHj+YqJz/yssuy//Bq3zCxrTv33HOPcfc/Z5qWZuZll2XLe+utt7RGjRraqFEjPXPmjPHYyy+/rB07dtQrV64UyKyc8rJbxsCBA7VNmza5Xn5+ZeWUZ//G7tNPP9VatWo5/N7ixYu1WbNmTh0RZmZWTnmq15tgP/30k7777rsOH6ATExN16NChxinXuZHdHf2aNWum+/fvN5pr7riDoO3xmJgYrVu3rrZq1UoDAwO1atWqOnDgQOPaW7Nnz9Y6deroPffco/v371er1aqvv/66li9f3jil+kZyyho8eHCOR8ktXbpUGzZsaJyCnxv2d+Lt3bu3Pv3008Zj9l+izJo1S+vWretSbTllZXW0tCu12d+Ft3Xr1tqmTRstWrSo9uzZ0+HvvjvqulFexuuPuqu26Ohobdy4sXbo0EFr1qypTZo0cdiGZs6c6dbassp76623jPmy+mCal3XS5rnnnlOLxaIVK1bM9OXbrFmzXN7WcpOX011/na0tt3cGfeaZZ1x+3XKbldUXpa68ZvHx8Vq/fn0dMmSIXr16NdO+debMmW573W6UldW+Py+1Zbx7cvfu3bVhw4YO+y9V9+xLbpRlq9Ed+xH7vzX169fX7t276+23365lypRxuMGQ7VQ9d25rMA9NqZtMXu/o98cff+jgwYNzvJuf/f+PGzdOLRaL8QHdmQ94ZmblNk9VdfPmzdqpUyd94403tGjRorp27VqP1OauLGfybFavXq1ly5Z1+Kbbm7JSUlKMD42VKlXK9ME2r6dMmZmXU1ZW1qxZo+XLl9dv/r+9+w6Pqtrfv38PJVUSSoQkAqF3pCoEDs1AEKSolHhQioKIqIDo0RMEKSqICgIi7VAiKhAUaYogKvVLLJSAotIEQklEBBJqSFnPHzyZH0MKKZOdwvt1XXPpXrP2/qw1szOZ3OyyeXOWa1ldL71axtwICD799FNTo0YNc88995iBAweaZ555xnh4eJhVq1bl61oZ1Uvr9J9ffvnFeHl52U+/y8+1MqqXUuPUqVOmdu3a5pFHHjErV640b731lilRooRDmJMfa2VULy0JCQlm0aJFplSpUiYiIiJLddK7o1+5cuXM/PnzUx2dl5M7CCYlJZlHHnnEdO7c2Vy9etVERUWZ7777zlSpUsU0btzY/o9Rs2bNMsHBwaZIkSKmXr16xsfHxyxbtsxpte67775UR8qdPHnSzJgxw3h4eDgcvZJZV65cMR06dDBeXl4mMDDQTJgwwf7czWH6nDlzcjy3jGql9Yd/TuZ2+fJl06hRI9O7d28TFRVlIiIiTI8ePUzfvn0d/qhzxrxuVy8tOZnbpUuXTIMGDUzv3r3NxYsXzZEjR0xwcLB58803HfrNnDnTKXPLbL2Uz8uc7pPG3DgF+MEHHzQjRowwpUqVSvW9ZuHChaZDhw45nltm6t28b+ZkbhndGfSPP/6wt33wwQc5ft8yqnXzZ4gz3rOUbcydO9e0b9/e3r58+XIze/Zs8/7779vb/ve//+XofbtdrRkzZqQ6UyC7c7v5aLmAgAD73ZNnzpxpSpQokeqaqjn5LMlqrZzOzZgbv387d+5sevToYYy5cZTnW2+9ZYYMGeLQb968eU79WYN1CKXuQNm9o19616a6NSxatGiRsdls5rPPPrO3ZTVMsbJWZut9/vnnxmazGZvN5hAS5cbcnFUrs/UiIyPNf//7X1OyZEn7Lc0Lai1jjPnrr78y3Mfze73MvI67d+82L730kilRokSWb0Ofl/Uyeh0TExNNdHS0efHFF02PHj3MgAED7BfKd/Z75uxaGdW7dXunT582LVq0yHKwkVe1blfv2rVr5pNPPrFf4L9Fixb2cM/ZnyPOrpVRvZv/uDt48KB58sknTcmSJbP1BTejO/rd+qU5J3frTBl3u3btzKxZsxzaT506ZWrVqmWaNWtmDzr++usvs337drN161b7UZ3OrNWyZUv7nQUPHDhghg8fbmrUqOHwOzsrFixYYFq0aGFWr15tXnzxRdOsWbN0g6mzZ8/maG63q3Xz/nHkyJFszy05OdlMnDjRdOjQweE0zbVr1xp3d/dURxPkdF5ZrZfTub322mumY8eODqecDh8+3AwZMsRMnjzZfn02Y4yJiYnJ8dxuV+/DDz+0tztjnzTGmJ9++sl06dLF7N+/3/z73/82pUqVMr/88otZvny5Wb9+vTEm5+9bZup98cUXZu3atSYxMdEcPnw4R+/b7e4MOnjwYHv/nHyOZKbWzXchddZ79vrrr5vevXsbY4zp3bu3uffee03jxo1NmTJlTIMGDew3qsnpZ+TtajVp0sTs27fPGHPj90xO5nbt2jVz7733mm7dutnb9u3bZ+rUqWOmTp1qjHHeZ2Rmat0cqOfkc8SYGzeGat68uf3nyZgbR/y2bNnShISEmMcff9x+WuTff//ttJ81WIdQClmSmT+EZs2aZVavXm1vz80/8JxVK6N6KR+qO3fuNDVr1nQ4IsvZc8uNWrerl5CQYL755hszbNgwhz/Kc2NuVtXKLVbWu93ruG7dOjNo0CDz1VdfGWNyfx9xZr3MBio3n/5ZEGplpV7KaVQ5YWWtjOql1Lx27Zo5fvy4/Q/d3PrZdnatjOrdvM2ZM2eaDRs2ZKve7e7od/fdd9tvCpLTu6wmJSWZ2rVrO/zRmBKg/Pnnn+aee+4xTz31VKa3l9NaN19b74cffjC//vqrMSZ779m5c+fsNyi4cOGCGTFiRKqwKKvXQ8xJrZv/6Nq2bVu25hYfH2/ee+89M2XKFIeg69ixY+aee+4xhw8fTlUrJzJb72bbt2/P9vu2e/du891339nHv2LFCmOz2UyXLl1Mp06dTMmSJR2OkMmpzNTr1auXvX9O90ljbvxjW4MGDczly5fNkSNHzHPPPWfc3d2NzWYzv/zyizHGee/f7erdfMmAnMwtM3cGff75550yn6zehTQn80rp++qrr5rOnTubn376yTRv3twcO3bMXLhwwVy4cMHce++9pnnz5jmeV2ZrtWzZ0r5OREREtud28uTJNO9WPGDAAIcbxjjjukqZrXWznLxvFy5cMOXKlTPPPPOMSUhIMJ988omx2Wxm0KBBZsKECaZOnTrm3nvvTXXjKBQchFLIssz8q7IxOf8jwepaGdUz5sYh4Slf1nJzbrlR63b1EhMTzcWLF51WLz/UcuYXwLyql9HrmJCQ4HDxyNzeR5xdL71aN5826KzX1MpaGdW7uYaz/tXOyloZ1cuNi4daWSujereeypqZ/T8nd/S7tWZWAyljblyzo1atWubzzz9Ptc158+aluqNfdmSlVlRUVI5qGZP26/D333+bF1980dx///0OYVF2TgvPbq2b/+U+u44ePWr/Yyql9sWLF02NGjVS3TbdGTJbL+VokZxISEiw1zh+/LipVq2amTlzpr1tzZo1xsfHx+zYsSPHtbJSb/v27U6plyIoKMi+nw8fPty4uLiYEiVKmC1bthhjnP8d4Xb1nCGrdwbN7VrO+BxJsW/fPlOxYkXTpk0b06NHD3P9+nX75/WxY8dM6dKl7f94akWtlH/wc6aUGr/99pupVKmS+eCDD5xeIzO1cvodJGX9jz76yLi4uJg2bdoYNzc3M3HiRHufK1euGHd3dzN37twc1ULeIZRCtuSHP8ytDh1ultt/UOZGrczWK0y1cutwXSvr3YlHg1n5OhbmfcTquRXmz/+c3mU1N+/ol9byH3/8Ybp27Wo6deqU6g+rtWvXGl9f3yz9gWdlrdvVS5Gyf585c8Z+et2bb75p3n//fWOz2TJ9mQJn1Pr5558z9fN267bTCjxTnDp1ypQsWdJERkYaY4z5+OOPTYUKFbJ0l0kr62XmdTTGpLrO2IYNG0zlypXTPEIrv9TLTK3mzZubb775xkyZMsW4u7ub2bNnm8GDB5tixYqluvh5fqp3u1oHDhwwCxcuzPSdQfNLrdvVi42NNSNHjjSlS5c27dq1s7cnJSWZI0eOmLp165off/wxX9ZKq1561wE15kbg3LFjx2zfpTkva926/Ndff5mjR4+aFi1a2I+6io+PN9HR0aZhw4bZvi4o8h6hFLItrS/vR44csexfzHOrVnr1/vzzT8vmllu1rK6X17Ws3kes3P8L8z5SmD9HmFv+rpXTelbf0e/ixYtmyJAh9usA3TzG7du3m9atW5uOHTuajz76yBhzI4SYM2eOqV+/vjl16lS+q5VRvbSCwZS2s2fPmpdfftn4+PiYIkWKmKVLlxboWsbcuB5c6dKlzfHjx+1BZ1b+ocDKepmpdfMp0jebOXOmad26dZZuDGJlvdvVSvnvqFGjTK1atYy3t7f90gt//PGH6du3b5aO3LOyXmZ+to3J3J1B81OtzNb7/fffTZ8+fYzNZjMvvviiMebGZ/iyZctMtWrVMn2koJW1MqqX1s92yv6/ZcsW4+LikuXQJj/UunUfSTmqc968efa2JUuWmIoVK5o9e/ZkqSbyD0Ip5EjKl/eHHnrI9OrVy5QpU8Z+Z5+CXMvqesyt4NWyuh5zK3i1rK7H3PJHPavu6Hf58mVz//33G5vNZh544AFz7Ngx+zZTREREmCeeeMLcfffdpkGDBqZz587G3d09yzcrsLJWRvUy+kNowoQJqe7Em5mjl/Jrrbi4ONOsWTPzyiuvmCJFitj3pawcAWllvazUSqk3f/584+npma2jG6ysl5laq1evNvfcc0+aYbQxzn/fnFUvvVrphfA5uTOolbUyqnfz59bhw4fNqFGjjIeHh6lcubJp3ry58fb2zpXPSGfVyqheep9bKT/fAwcOtF9QviDWSrmm5HPPPWe/0Pqzzz5rSpQokaW7yiP/IZRCjv3555+mbdu2xt/fP9c/EKysZXU95lbwalldj7kVvFpW12Nu+aNebt/RLzEx0bzyyiumffv2Ztq0aaZ9+/amdevW9n9ZvvkPodOnT5utW7eaoUOHmnfeecds2rTJGJP5P1qtrJWZemn9IZRyJ8Ob7+ia2dPp8mutkydP2u/Cm9VaVtfLaq1du3aZUaNGmXLlymX7DpNW1cvM/n/z6Z05ZWW9rL6OP//8c7bvDGplrczUu/lz6+rVq+bQoUNm0qRJ5qOPPrL/A0FufEbmtFZm6qUXzE6dOjXL18nKr7V+//13M2XKFPOvf/3LPPPMMw43IUHBRCgFpzhx4kSmr99QkGpZXY+5FbxaVtdjbgWvltX1mFv+qJfbd/T73//+ZyZPnmwSExPN2rVrzQMPPJDuH0K3ys+1MlPv1j+Erl69mu27FebXWufOnTO9e/fO9v5hdb2s1Dp+/LgJCwuzX9w8t+eW03o52f+zw8p6WXkdjx49mqM7g1pZKzP1bndKtjPn5sxamal382t562dYQa51676flJRkv+Oqs276g7xBKAUAAJALcuOOfrf+q3uKVatWmaCgINO6dWuH02L++eefLI/bylrOrmfl65hbtVIu6HzhwgV7ncz8sWVlvZzWymqwYmW9grz/51atlNcxJQAwJvf3/6zUykm9O+0zsqDXSkhIyPbriPyLUAoAACCX5MYd/W7+An/zv8CnfIFv06aNOXbsmJkxY4apW7duli4QbGWtwjy3nNSqXbu2iY2NzdK/+ltZLye16tSpY2JjYzM9L6vrsf/n/eto9T6Snz9HCvPcrH4dkb8VEwAAAHJF5cqV9cEHH+iFF17Q/PnzJUl9+vTRsWPHFBAQoKJFi2a4/tWrV7Vw4ULVrFnT3lasWDEZY2Sz2VS0aFH7/3fv3l2SNGvWLAUGBurvv//W//73P5UoUSJTY7WyVmGemzNqeXl5ZaqW1fWY2527/xfmfSQ/fo4U5rlZ/TqiAMjt1AsAAOBOlxt39Lv5yJab/79v376p7g6XWVbWsrpeYa1ldT3mxtzyUy2r6zG3glcL+R+hFAAAgAVy445+t36BX7RokbHZbOazzz6zt2X1y7uVtQrz3HgdmVt+q1dYazG3gjk3q19H5F9F8vpILQAAgDtB5cqV9fHHH2vNmjXq1atXltf94IMP5OHhofnz52vJkiWSJJvNJmOM/f+vXr2qVatWqWfPng7t+bVWYZ4bryNzy2/1Cmst5lYw52b164j8y2ZS3lkAAADka0ePHtULL7ygK1euaNCgQerTp48kKSkpyeH6VM744m5lLavrFdZaVtdjbswtP9Wyuh5zK3i1kD8RSgEAABQg6X2BT05OVpEizj0I3spaVtcrrLWsrsfcCma9wlrL6nrMreDVQv7DOwwAAFCApHfKw7Fjx5SUlFRga1ldr7DWsroecyuY9QprLavrMbeCVwv5D0dKAQAAFEAp/7IsSR4eHvr++++1e/duVaxYsUDXsrpeYa1ldT3mVjDrFdZaVtdjbgWvFvIRp10yHQAAAJbKyR398nMtq+sV1lpW12NuBbNeYa1ldT3mVvBqIX/gSCkAAIAC7OTJk/rrr7/UpEmTQlXL6nqFtZbV9ZhbwaxXWGtZXY+5FbxayHuEUgAAAAAAALAcFzoHAAAAAACA5QilAAAAAAAAYDlCKQAAAAAAAFiOUAoAAAAAAACWI5QCAAAAAACA5QilAAAAkCULFixQcHBwXg9DM2fOVLdu3fJ6GAAAIJsIpQAAQL5ms9kyfAwYMCCvh5hpAwYMsI+7WLFiqlixop599lmdP38+r4eWafHx8Xr99dc1ZswYe9u4ceMc3hNvb2+1atVKW7ZscVi3UqVK9j4eHh6qV6+e5s6da38+LCxMNptNtWvXTlV3+fLlstlsqlSpkr3t6aef1s8//6zt27c7f6IAACDXEUoBAIB8LTo62v6YNm2avLy8HNqmT5+e10PMkgcffFDR0dE6duyY5s+fr7Vr12ro0KF5PaxMW7Fihe666y61atXKob1u3br29yQiIkLVq1dXly5dFBsb69BvwoQJio6O1r59+/Twww9ryJAhCg8Ptz/v6empM2fOKCIiwmG9hQsXqmLFig5trq6u6tOnjz744AMnzxIAAFiBUAoAAORrvr6+9oe3t7dsNptD29atW9WkSRO5ubmpSpUqGj9+vBITE+3r22w2zZ07V126dJGHh4dq166tiIgIHT58WG3btpWnp6cCAwN15MgR+zrjxo1Tw4YNNXfuXFWoUEEeHh7q1auXLly4YO+TnJysCRMmqHz58nJ1dVXDhg21fv36287H1dVVvr6+Kl++vIKDgxUSEqJvvvnG/nxSUpIGDhyoypUry93dXTVr1kwVvA0YMEAPP/yw3nvvPfn5+alMmTJ67rnnlJCQYO8THR2thx56SO7u7qpcubKWLFmiSpUqadq0afY+sbGxGjx4sMqWLSsvLy898MAD2rt3b4bjX7ZsWZqnzBUrVsz+ntSpU0fjx4/XpUuXdPDgQYd+JUqUkK+vr6pVq6Y333xT1atX16pVqxy206dPHy1cuNDedvLkSW3evFl9+vRJVbdbt25atWqVrl69muG4AQBA/kMoBQAACqwNGzboiSee0LBhw/Tbb79p7ty5CgsL01tvveXQ74033lC/fv0UGRmpWrVqqU+fPnrmmWcUGhqqnTt3SpKef/55h3UOHz6s5cuXa+3atVq/fr0iIyP13HPP2Z+fPn26pkyZovfee0/79u1Tx44d1a1bNx06dCjT4//zzz+1fv16FS9e3N6WnJys8uXLa/ny5frtt9/0+uuva9SoUVq+fLnDups2bdKRI0e0adMmffTRRwoLC1NYWJj9+X79+un06dPavHmzVqxYoXnz5unMmTP2540xeuihhxQTE6N169Zp165daty4sYKCgnTu3Ll0x7xt2zY1bdo0w3nFx8crLCxMJUuWVM2aNTPs6+bm5hCmSdLAgQMVHh6uK1euSLpxWt+DDz6ocuXKpVq/adOmSkhI0E8//ZRhHQAAkA8ZAACAAmLRokXG29vbvtyqVSszceJEhz4ff/yx8fPzsy9LMqNHj7YvR0REGElmwYIF9ralS5caNzc3+/LYsWNN0aJFzYkTJ+xtX3/9tSlSpIiJjo42xhjj7+9v3nrrLYfa9913nxk6dGi64+/fv78pWrSo8fT0NG5ubkaSkWSmTp2a4byHDh1qevTo4bCdgIAAk5iYaG/r1auXCQkJMcYY8/vvvxtJ5ueff7Y/f+jQISPJvP/++8YYY7777jvj5eVlrl275lCratWqZu7cuWmO4/z580aS2bp1q0P72LFjTZEiRYynp6fx9PQ0NpvNeHl5ma+//tqhX0BAgL1+QkKCWbRokZFkZs2aZYxxfH8bNmxoPvroI5OcnGyqVq1qVq9ebd5//30TEBCQalylSpUyYWFh6bx6AAAgvyqWd3EYAABAzuzatUs///yzw5FRSUlJunbtmq5cuSIPDw9J0r333mt/PuVom/r16zu0Xbt2TXFxcfLy8pIkVaxYUeXLl7f3CQwMVHJysg4cOCAPDw+dPn1aLVu2dBhPy5Ytb3v6W7t27TR79mxduXJF8+fP18GDB/XCCy849JkzZ47mz5+v48eP6+rVq7p+/boaNmzo0Kdu3boqWrSofdnPz0+//PKLJOnAgQMqVqyYGjdubH++WrVqKlWqlMNrd+nSJZUpU8Zhu1evXnU4lfHW56QbRzfdqmbNmlqzZo0k6eLFiwoPD1evXr20adMmhyOrXn31VY0ePVrx8fFycXHRf/7zHz3zzDOptvfUU09p0aJFqlixoi5duqTOnTtr5syZaY7L3d3dflQVAAAoOAilAABAgZWcnKzx48fr0UcfTfXczcHJzafH2Wy2dNuSk5PTrZXSJ+W/t/6/dOOUuFvbbuXp6alq1apJkmbMmKF27dpp/PjxeuONNyTduMvciy++qClTpigwMFAlSpTQu+++qx9//NFhOzePP2UsKeM3xqRZ++b25ORk+fn5afPmzan6lSxZMs31y5QpI5vNlubdAl1cXOzzkqRGjRpp1apVmjZtmj755BN7+3/+8x8NGDBAHh4e8vPzS/f1evzxx/XKK69o3Lhx6tevn4oVS/9r67lz53T33Xen+zwAAMifCKUAAECB1bhxYx04cMAhDHGWqKgonT59Wv7+/pKkiIgIFSlSRDVq1JCXl5f8/f21fft2tW7d2r7Ojh07dP/992epztixY9WpUyc9++yz8vf317Zt29SiRQuHO/Kld+RSemrVqqXExETt2bNHTZo0kXTjGlk3X6i9cePGiomJUbFixVSpUqVMbdfFxUV16tTRb7/9puDg4Nv2L1q0aKoLkPv4+GTq/SpdurS6deum5cuXa86cOen2O3LkiK5du6ZGjRrdfgIAACBf4ULnAACgwHr99de1ePFijRs3Tvv379fvv/+u8PBwjR49OsfbdnNzU//+/bV3715t27ZNw4YNU+/eveXr6yvpxhE/kydPVnh4uA4cOKD//ve/ioyM1PDhw7NUp23btqpbt64mTpwo6cZpdjt37tSGDRt08OBBjRkzRj///HOWtlmrVi21b99egwcP1k8//aQ9e/Zo8ODBcnd3tx+Z1L59ewUGBurhhx/Whg0bdOzYMe3YsUOjR4+2X/w9LR07dtT27dtTtScmJiomJkYxMTE6dOiQ3nzzTf3222/q3r17lsZ+s7CwMJ09e1a1atVKt8+2bdtUpUoVVa1aNdt1AABA3uBIKQAAUGB17NhRX375pSZMmKB33nlHxYsXV61atTRo0KAcb7tatWp69NFH1blzZ507d06dO3fWrFmz7M8PGzZMcXFxeumll3TmzBnVqVNHa9asUfXq1bNca+TIkXryySf16quvasiQIYqMjFRISIhsNpv+/e9/a+jQofr666+ztM3Fixdr4MCBat26tXx9fTVp0iTt37/fflqjzWbTunXr9Nprr+mpp57S33//LV9fX7Vu3TrNu9ylePrpp9W4cWPFxsbK29vb3r5//375+flJkjw8PFS1alXNnj1b/fr1y/LrkcLd3V3u7u4Z9lm6dKmefvrpbNcAAAB5x2bSu+gAAADAHWrcuHFatWqVIiMj83ooTnPy5ElVqFBB3377rYKCgnK0rd69e6tRo0YKDQ110uiy59dff1VQUJAOHjzoEJABAICCgdP3AAAACqHvv/9ea9as0dGjR7Vjxw499thjqlSpksM1sLLr3Xff1V133eWEUebM6dOntXjxYgIpAAAKKE7fAwAAKIQSEhI0atQo/fnnnypRooRatGihTz/9NNVd+7IjICBAL7zwghNGmTOZudg6AADIvzh9DwAAAAAAAJbj9D0AAAAAAABYjlAKAAAAAAAAliOUAgAAAAAAgOUIpQAAAAAAAGA5QikAAAAAAABYjlAKAAAAAAAAliOUAgAAAAAAgOUIpQAAAAAAAGA5QikAAAAAAABYjlAKAAAAAAAAliOUAgAAAAAAgOUIpQAAAAAAAGA5QikAAAAAAABYjlAKAAAAAAAAliOUAgAgi2w2W6YemzdvzuuhOs24ceMc5ubh4aHy5curY8eO+uCDD3Tx4sVU6wwYMECVKlXKUp3Tp09r3LhxioyMzNJ6adWy2Wx6/vnns7Sd25k1a5bCwsJStR87dkw2my3N5/KT8PBw1a1bV+7u7rLZbGm+zpUqVcrU/h0WFmbfL25dv0uXLumOYcCAAZna/oABA247nwEDBuiuu+7K6stgt2HDBgUHB8vf31+urq7y9/dX27Zt9fbbb2d7mwVVdn/2AADIiWJ5PQAAAAqaiIgIh+U33nhDmzZt0vfff+/QXqdOHSuHZYn169fL29tb169f1+nTp/Xdd9/plVde0bvvvqu1a9eqQYMG9r5jxozR8OHDs7T906dPa/z48apUqZIaNmyY6fWyUys7Zs2aJR8fn1SBiZ+fnyIiIlS1atVcH0N2/f333+rbt68efPBBzZo1S66urqpRo0aqfitXrlR8fLx9ef78+VqwYIH9vU9RtWpVxcfH68EHH8zSOMaMGaMhQ4bYl3fv3q3nnntOEydOVLt27eztd999d5a2m1Vz5szRs88+qx49emjmzJkqXbq0Tpw4oR07dujzzz/Xf//731ytn99k92cPAICcIJQCACCLmjdv7rB89913q0iRIqnaC6MmTZrIx8fHvvzYY4/p+eefV5s2bdStWzcdPHhQrq6ukmRJQHPlyhV5eHjkeRjk6uqa79//gwcPKiEhQU888YTatGmTbr9GjRo5LK9fv15S6vc+Rfny5bM0jqpVqzq8X9euXZMkVa9e3dLXcNKkSWrdurU+//xzh/a+ffsqOTnZsnEAAHAn4/Q9AABywfXr1/Xmm2+qVq1acnV11d13360nn3xSf//9t0O/lFOdvvzySzVq1Eju7u6qXbu2vvzyS0lSWFiYateuLU9PT91///3auXOnw/oppy/t379fQUFB8vT01N13363nn39eV65cceh77do1hYaGqnLlynJxcdE999yj5557ThcuXMjRXBs0aKDXXntNUVFRCg8PdxjbrafUffbZZ2rWrJm8vb3l4eGhKlWq6KmnnpIkbd68Wffdd58k6cknn7SfxjVu3DiHuf7yyy8KDg5WiRIlFBQUlG6tFHPnzlWNGjXk6uqqOnXqaNmyZQ7Pp3UKmnTjtbfZbDp27JikG+/V/v37tWXLFvvYUmqmd/re9u3bFRQUpBIlSsjDw0MtWrTQV199lWadTZs26dlnn5WPj4/KlCmjRx99VKdPn05zTrdas2aNAgMD5eHhoRIlSqhDhw4OR/QNGDBA//rXvyRJISEhstlsatu2baa2nZH0XrtbzZo1S8WKFdPYsWMzve2FCxeqQYMGcnNzU+nSpfXII4/o999/v+16//d//ycfHx916dJFly9fTrffP//8Iz8/vzSfK1LE8SuyMUazZs1Sw4YN5e7urlKlSqlnz576888/U/WbOHGiAgIC5ObmpqZNm2rjxo1q27atw+u9efNm2Ww2LVmyRK+++qr8/Px01113qWvXrvrrr7908eJFDR48WD4+PvLx8dGTTz6pS5cuZWtMbdu2Vb169fTzzz+rVatW9p+7t99+2x6+3e5n788//9Rjjz1mP82xXLlyCgoK4lQ/AECOEUoBAOBkycnJ6t69u95++2316dNHX331ld5++237H6dXr1516L93716Fhobq1Vdf1RdffCFvb289+uijGjt2rObPn6+JEyfq008/VWxsrLp06ZJq/YSEBHXu3FlBQUFatWqVnn/+ec2dO1chISH2PsYYPfzww3rvvffUt29fffXVVxo5cqQ++ugjPfDAAw6na2VHt27dJElbt25Nt09ERIRCQkJUpUoVLVu2TF999ZVef/11JSYmSpIaN26sRYsWSZJGjx6tiIgIRUREaNCgQfZtXL9+Xd26ddMDDzyg1atXa/z48RmOa82aNZoxY4YmTJigzz//XAEBAfr3v/+d6uiYzFi5cqWqVKmiRo0a2ce2cuXKdPtv2bJFDzzwgGJjY7VgwQItXbpUJUqUUNeuXR3CuxSDBg1S8eLFtWTJEr3zzjvavHmznnjiiduOa8mSJerevbu8vLy0dOlSLViwQOfPn1fbtm21fft2STdOmfvwww8lSRMnTlRERIRmzZqV5dcgq4wxevnllzVixAjNnz//tu9XikmTJmngwIGqW7euvvjiC02fPl379u1TYGCgDh06lO56y5cvV1BQkHr37q3Vq1fL09Mz3b6BgYFasWKFxo0bp7179yopKSndvs8884xGjBih9u3ba9WqVZo1a5b279+vFi1a6K+//rL3e+211/Taa6/pwQcf1OrVqzVkyBANGjRIBw8eTHO7o0aN0pkzZxQWFqYpU6Zo8+bN+ve//60ePXrI29tbS5cu1SuvvKKPP/5Yo0aNytaYJCkmJkaPP/64nnjiCa1Zs0adOnVSaGioPvnkE0m3/9nr3Lmzdu3apXfeeUcbN27U7Nmz1ahRoxwH2gAAyAAAgBzp37+/8fT0tC8vXbrUSDIrVqxw6Pfzzz8bSWbWrFn2toCAAOPu7m5Onjxpb4uMjDSSjJ+fn7l8+bK9fdWqVUaSWbNmjUNtSWb69OkOtd566y0jyWzfvt0YY8z69euNJPPOO+849AsPDzeSzLx58zKc49ixY40k8/fff6f5/NWrV40k06lTJ4exBQQE2Jffe+89I8lcuHAh3Topr9GiRYtSPZcy14ULF6b53M21jDFGknF3dzcxMTH2tsTERFOrVi1TrVq1VHO71aJFi4wkc/ToUXtb3bp1TZs2bVL1PXr0aKpxN2/e3JQtW9ZcvHjRoX69evVM+fLlTXJyskOdoUOHOmzznXfeMZJMdHR0qnopkpKSjL+/v6lfv75JSkqyt1+8eNGULVvWtGjRwt62adMmI8l89tln6W4vLRm992m9dgEBAeahhx4yV65cMT169DDe3t7m22+/TXf7t47r/Pnzxt3d3XTu3NmhX1RUlHF1dTV9+vSxt938s/f222+bokWLmsmTJ2dqXocPHzb16tUzkuz7SlBQkJk5c6a5fv26vV9ERISRZKZMmeKw/okTJ4y7u7t55ZVXjDHGnDt3zri6upqQkBCHfinr37zfpMy5a9euDn1HjBhhJJlhw4Y5tD/88MOmdOnSWR6TMca0adPGSDI//vijQ986deqYjh072pfT+9k7e/askWSmTZtmAABwNo6UAgDAyb788kuVLFlSXbt2VWJiov3RsGFD+fr6prorX8OGDXXPPffYl2vXri3pxmk3Hh4eqdqPHz+equbjjz/usNynTx9J0qZNmyTJfhH2Wy/Q3atXL3l6euq7777Lxkz/H2PMbfuknB7Uu3dvLV++XKdOncpWrR49emS6b1BQkMqVK2dfLlq0qEJCQnT48GGdPHkyW/Uz4/Lly/rxxx/Vs2dPh7vDFS1aVH379tXJkyd14MABh3VSjjZLce+990pK+/1OceDAAZ0+fVp9+/Z1OOXsrrvuUo8ePfTDDz+kOo3TCv/8848eeOAB/fTTT/ZTGDMrIiJCV69eTbWvVqhQQQ888ECqfdUYo2eeeUZjx47VkiVL9Morr2SqTtWqVbV3715t2bJF48ePV/v27fXzzz/r+eefV2BgoP1aV19++aVsNpueeOIJh59nX19fNWjQwP7z/MMPPyg+Pl69e/d2qNO8efN0Ty299S6FKT/jDz30UKr2c+fO2U/hy+yYUvj6+ur+++93aLv33nsz3LdSlC5dWlWrVtW7776rqVOnas+ePVxzCwDgNIRSAAA42V9//aULFy7IxcVFxYsXd3jExMTo7NmzDv1Lly7tsOzi4pJhe8ofyymKFSumMmXKOLT5+vpKuhEOpPy3WLFiqe5oZrPZ5Ovra++XXSl/3Pr7+6fbp3Xr1lq1apUSExPVr18/lS9fXvXq1dPSpUszXcfDw0NeXl6Z7p/yOqTVltM5Z+T8+fMyxqR5zaKU1+jW+re+hykXjL/1dM2bpWwjvTrJyck6f/581gbvBAcPHtSPP/6oTp06qV69ella93ZzuvV1u379usLDw1W3bl116tQpS7WKFCmi1q1b6/XXX9eaNWt0+vRphYSEaNeuXVq4cKGkGz/PxhiVK1cu1c/zDz/8YP95ThnXzSFoirTapOz/7Gd2TClu3bekG/tXRvtWCpvNpu+++04dO3bUO++8o8aNG+vuu+/WsGHDdPHixduuDwBARrj7HgAATpZyoeqUu5bdqkSJEk6tl5iYqH/++cfhD8+YmBhJ/++P0TJlyigxMVF///23QzBljFFMTIz9KKbsWrNmjSTd9uLZ3bt3V/fu3RUfH68ffvhBkyZNUp8+fVSpUiUFBgbetk5mLqp9s5TXIa22lNfGzc1NkhQfH28PgiSl+sM+K0qVKqUiRYooOjo61XMpFy9P6052WZUyh/TqFClSRKVKlcpxnawKDAxUr169NHDgQEnS7NmzU108PD23m9Otr5urq6s2bdqkjh07qn379lq/fn225+zp6anQ0FCFh4fr119/lXTjfbLZbNq2bZvD/nFz/ZvHfev1nKQb+1x6R0tlR2bH5CwBAQFasGCBpBuB4/LlyzVu3Dhdv35dc+bMcWotAMCdhSOlAABwsi5duuiff/5RUlKSmjZtmupRs2ZNp9f89NNPHZaXLFki6f+FRCmnT6Vc2DjFihUrdPny5SydXnWrvXv3auLEiapUqVKqU5fS4+rqqjZt2mjy5MmSpD179tjbpYyPDsqK7777ziEkSEpKUnh4uKpWrary5ctLkj0s2Ldvn8O6a9euTXPcmRmbp6enmjVrpi+++MKhf3Jysj755BOVL19eNWrUyM6UHNSsWVP33HOPlixZ4nAK5eXLl7VixQr7HfnyQv/+/bVs2TItWrRI/fr1y/BC4jcLDAyUu7t7qn315MmT+v7779PcVxs1aqQtW7bo5MmTatu2rc6cOXPbOmmFXpLsd/hLOaKtS5cuMsbo1KlTaf48169fX5LUrFkzubq6prqI/Q8//JCp0+SyIrNjyorM/uzVqFFDo0ePVv369bV79+5sjR8AgBQcKQUAgJM99thj+vTTT9W5c2cNHz5c999/v4oXL66TJ09q06ZN6t69ux555BGn1XNxcdGUKVN06dIl3XfffdqxY4fefPNNderUSf/6178kSR06dFDHjh316quvKi4uTi1bttS+ffs0duxYNWrUSH379s1UrV27dsnb21sJCQk6ffq0vvvuO3388ccqW7as1q5daz/NKC2vv/66Tp48qaCgIJUvX14XLlzQ9OnTVbx4cbVp00bSjev8uLu769NPP1Xt2rV11113yd/fP8PTAjPi4+OjBx54QGPGjJGnp6dmzZqlP/74Q8uWLbP36dy5s0qXLq2BAwdqwoQJKlasmMLCwnTixIlU26tfv76WLVum8PBwValSRW5ubukGAJMmTVKHDh3Url07vfzyy3JxcdGsWbP066+/aunSpVk+6istRYoU0TvvvKPHH39cXbp00TPPPKP4+Hi9++67unDhgt5+++0c18iJnj17ysPDQz179tTVq1e1dOnSDPcRSSpZsqTGjBmjUaNGqV+/fvr3v/+tf/75R+PHj5ebm5vGjh2b5nq1a9fWtm3b1L59e7Vu3VrffvutPXhMS926dRUUFKROnTqpatWqunbtmn788UdNmTJF5cqVsx/l1bJlSw0ePFhPPvmkdu7cqdatW8vT01PR0dHavn276tevr2effValS5fWyJEjNWnSJJUqVUqPPPKITp48qfHjx8vPzy/TR4plRmbHlBXp/eydPXtWzz//vHr16qXq1avLxcVF33//vfbt26f//ve/TpsTAODORCgFAICTFS1aVGvWrNH06dP18ccfa9KkSSpWrJjKly+vNm3aZOsohowUL15cX375pYYNG6Y333xT7u7uevrpp/Xuu+/a+9hsNq1atUrjxo3TokWL9NZbb8nHx0d9+/bVxIkTM326z4MPPijpxlEVpUuXVv369TV58mQ9+eSTtz0tsVmzZtq5c6deffVV/f333ypZsqSaNm2q77//XnXr1pV045pRCxcu1Pjx4xUcHKyEhASNHTtW48aNy9Zr061bN9WtW1ejR49WVFSUqlatqk8//VQhISH2Pl5eXlq/fr1GjBihJ554QiVLltSgQYPUqVMnDRo0yGF748ePV3R0tJ5++mldvHhRAQEBOnbsWJq127Rpo++//15jx47VgAEDlJycrAYNGmjNmjWpLnCdE3369JGnp6cmTZqkkJAQFS1aVM2bN9emTZvUokULp9XJrs6dO2vdunXq2rWrunfvri+++ELu7u4ZrhMaGqqyZctqxowZCg8Pl7u7u9q2bauJEyeqevXq6a5XpUoVezDVqlUrfffdd6pSpUqafd9++21t2LBBb731lmJiYpSYmKgKFSqoT58+eu211xyuaTV37lw1b95cc+fO1axZs5ScnCx/f3+1bNnS4QLib731ljw9PTVnzhwtWrRItWrV0uzZs/Xaa6+pZMmSWXvhbiOzY8qs9H72hg4dqqpVq2rWrFk6ceKEbDabqlSpoilTpuiFF15w6pwAAHcem8nM7XIAAEC+NGDAAH3++ef2u3IByF+OHj2qWrVqaezYsRo1alReDwcAgHyFI6UAAAAAJ9i7d6+WLl2qFi1ayMvLSwcOHNA777wjLy8v++mAAADg/yGUAgAAAJzA09NTO3fu1IIFC3ThwgV5e3urbdu2euutt1SuXLm8Hh4AAPkOp+8BAAAAAADAcs67DQgAAAAAAACQSYRSAAAAAAAAsByhFAAAAAAAACxHKAUAAAAAAADLcfe9NCQnJ+v06dMqUaKEbDZbXg8HAAAAAACgwDDG6OLFi/L391eRIukfD0UolYbTp0+rQoUKeT0MAAAAAACAAuvEiRMqX758us8TSqWhRIkSkm68eF5eXnk8GgAAAAAAgIIjLi5OFSpUsOcr6SGUSkPKKXteXl6EUgAAAAAAANlwu0sicaFzAAAAAAAAWI5QCgAAAAAAAJYjlAIAAAAAAIDlCKUAAAAAAABgOUIpAAAAAAAAWI5QCgAAAAAAAJYjlAIAAAAAAIDlCKUAAAAAAABgOUIpAAAAAAAAWI5QCgAAAAAAAJYjlAIAAAAAAIDlCKUAAAAAAABgOUIpAAAAAAAAWI5QCgAAAAAAAJYjlAIAAAAAAIDl8jSUmjRpku677z6VKFFCZcuW1cMPP6wDBw7cdr0tW7aoSZMmcnNzU5UqVTRnzpxUfVasWKE6derI1dVVderU0cqVK3NjCgAAAAAAAMiGPA2ltmzZoueee04//PCDNm7cqMTERAUHB+vy5cvprnP06FF17txZrVq10p49ezRq1CgNGzZMK1assPeJiIhQSEiI+vbtq71796pv377q3bu3fvzxRyumBQAAAAAAgNuwGWNMXg8ixd9//62yZctqy5Ytat26dZp9Xn31Va1Zs0a///67vW3IkCHau3evIiIiJEkhISGKi4vT119/be/z4IMPqlSpUlq6dOltxxEXFydvb2/FxsbKy8srh7MCAAAAAAC4c2Q2V8lX15SKjY2VJJUuXTrdPhEREQoODnZo69ixo3bu3KmEhIQM++zYscPJIwYAAAAAAEB2FMvrAaQwxmjkyJH617/+pXr16qXbLyYmRuXKlXNoK1eunBITE3X27Fn5+fml2ycmJibNbcbHxys+Pt6+HBcXl4OZ5D9RUVE6e/ZsXg8jx3x8fFSxYsW8HgYAAAAAAHCCfBNKPf/889q3b5+2b99+2742m81hOeUMxJvb0+pza1uKSZMmafz48VkdcoEQFRWlmrVq6trVa3k9lBxzc3fTgT8OEEwBAAAAAFAI5ItQ6oUXXtCaNWu0detWlS9fPsO+vr6+qY54OnPmjIoVK6YyZcpk2OfWo6dShIaGauTIkfbluLg4VahQITtTyXfOnj17I5B6VJJPXo8mB85K1764prNnzxJKAQAAAABQCORpKGWM0QsvvKCVK1dq8+bNqly58m3XCQwM1Nq1ax3avvnmGzVt2lTFixe399m4caNefPFFhz4tWrRIc5uurq5ydXXNwUwKAB9J/nk9CAAAAAAAgBvy9ELnzz33nD755BMtWbJEJUqUUExMjGJiYnT16lV7n9DQUPXr18++PGTIEB0/flwjR47U77//roULF2rBggV6+eWX7X2GDx+ub775RpMnT9Yff/yhyZMn69tvv9WIESOsnB4AAAAAAADSkaeh1OzZsxUbG6u2bdvKz8/P/ggPD7f3iY6OVlRUlH25cuXKWrdunTZv3qyGDRvqjTfe0IwZM9SjRw97nxYtWmjZsmVatGiR7r33XoWFhSk8PFzNmjWzdH4AAAAAAABIW56fvnc7YWFhqdratGmj3bt3Z7hez5491bNnz+wODQAAAAAAALkoT4+UAgAAAAAAwJ2JUAoAAAAAAACWI5QCAAAAAACA5QilAAAAAAAAYDlCKQAAAAAAAFiOUAoAAAAAAACWI5QCAAAAAACA5QilAAAAAAAAYDlCKQAAAAAAAFiOUAoAAAAAAACWI5QCAAAAAACA5QilAAAAAAAAYDlCKQAAAAAAAFiOUAoAAAAAAACWI5QCAAAAAACA5QilAAAAAAAAYDlCKQAAAAAAAFiOUAoAAAAAAACWI5QCAAAAAACA5QilAAAAAAAAYDlCKQAAAAAAAFiOUAoAAAAAAACWI5QCAAAAAACA5QilAAAAAAAAYDlCKQAAAAAAAFiOUAoAAAAAAACWI5QCAAAAAACA5QilAAAAAAAAYDlCKQAAAAAAAFiOUAoAAAAAAACWI5QCAAAAAACA5QilAAAAAAAAYDlCKQAAAAAAAFiOUAoAAAAAAACWI5QCAAAAAACA5QilAAAAAAAAYDlCKQAAAAAAAFiOUAoAAAAAAACWI5QCAAAAAACA5QilAAAAAAAAYDlCKQAAAAAAAFiOUAoAAAAAAACWI5QCAAAAAACA5QilAAAAAAAAYDlCKQAAAAAAAFiOUAoAAAAAAACWI5QCAAAAAACA5QilAAAAAAAAYLk8DaW2bt2qrl27yt/fXzabTatWrcqw/4ABA2Sz2VI96tata+8TFhaWZp9r167l8mwAAAAAAACQWXkaSl2+fFkNGjTQzJkzM9V/+vTpio6Otj9OnDih0qVLq1evXg79vLy8HPpFR0fLzc0tN6YAAAAAAACAbCiWl8U7deqkTp06Zbq/t7e3vL297curVq3S+fPn9eSTTzr0s9ls8vX1ddo4AQAAAAAA4FwF+ppSCxYsUPv27RUQEODQfunSJQUEBKh8+fLq0qWL9uzZk+F24uPjFRcX5/AAAAAAAABA7imwoVR0dLS+/vprDRo0yKG9Vq1aCgsL05o1a7R06VK5ubmpZcuWOnToULrbmjRpkv0oLG9vb1WoUCG3hw8AAAAAAHBHK7ChVFhYmEqWLKmHH37Yob158+Z64okn1KBBA7Vq1UrLly9XjRo19MEHH6S7rdDQUMXGxtofJ06cyOXRAwAAAAAA3Nny9JpS2WWM0cKFC9W3b1+5uLhk2LdIkSK67777MjxSytXVVa6urs4eJgAAAAAAANJRII+U2rJliw4fPqyBAwfetq8xRpGRkfLz87NgZAAAAAAAAMiMPD1S6tKlSzp8+LB9+ejRo4qMjFTp0qVVsWJFhYaG6tSpU1q8eLHDegsWLFCzZs1Ur169VNscP368mjdvrurVqysuLk4zZsxQZGSkPvzww1yfDwAAAAAAADInT0OpnTt3ql27dvblkSNHSpL69++vsLAwRUdHKyoqymGd2NhYrVixQtOnT09zmxcuXNDgwYMVExMjb29vNWrUSFu3btX999+fexMBAAAAAABAltiMMSavB5HfxMXFydvbW7GxsfLy8srr4eTI7t271aRJE2mwJP+8Hk0OnJY0T9q1a5caN26c16MBAAAAAADpyGyuUiCvKQUAAAAAAICCjVAKAAAAAAAAliOUAgAAAAAAgOUIpQAAAAAAAGA5QikAAAAAAABYjlAKAAAAAAAAliOUAgAAAAAAgOUIpQAAAAAAAGA5QikAAAAAAABYjlAKAAAAAAAAliOUAgAAAAAAgOUIpQAAAAAAAGA5QikAAAAAAABYjlAKAAAAAAAAliOUAgAAAAAAgOUIpQAAAAAAAGA5QikAAAAAAABYjlAKAAAAAAAAliOUAgAAAAAAgOUIpQAAAAAAAGA5QikAAAAAAABYjlAKAAAAAAAAliOUAgAAAAAAgOUIpQAAAAAAAGA5QikAAAAAAABYjlAKAAAAAAAAliOUAgAAAAAAgOUIpQAAAAAAAGA5QikAAAAAAABYjlAKAAAAAAAAliOUAgAAAAAAgOUIpQAAAAAAAGA5QikAAAAAAABYjlAKAAAAAAAAliOUAgAAAAAAgOUIpQAAAAAAAGA5QikAAAAAAABYjlAKAAAAAAAAliOUAgAAAAAAgOUIpQAAAAAAAGA5QikAAAAAAABYjlAKAAAAAAAAliOUAgAAAAAAgOUIpQAAAAAAAGA5QikAAAAAAABYjlAKAAAAAAAAliOUAgAAAAAAgOXyNJTaunWrunbtKn9/f9lsNq1atSrD/ps3b5bNZkv1+OOPPxz6rVixQnXq1JGrq6vq1KmjlStX5uIsAAAAAAAAkFV5GkpdvnxZDRo00MyZM7O03oEDBxQdHW1/VK9e3f5cRESEQkJC1LdvX+3du1d9+/ZV79699eOPPzp7+AAAAAAAAMimYnlZvFOnTurUqVOW1ytbtqxKliyZ5nPTpk1Thw4dFBoaKkkKDQ3Vli1bNG3aNC1dujQnwwUAAAAAAICTFMhrSjVq1Eh+fn4KCgrSpk2bHJ6LiIhQcHCwQ1vHjh21Y8cOK4cIAAAAAACADOTpkVJZ5efnp3nz5qlJkyaKj4/Xxx9/rKCgIG3evFmtW7eWJMXExKhcuXIO65UrV04xMTHpbjc+Pl7x8fH25bi4uNyZAAAAAAAAACQVsFCqZs2aqlmzpn05MDBQJ06c0HvvvWcPpSTJZrM5rGeMSdV2s0mTJmn8+PHOHzAAAAAAAADSVCBP37tZ8+bNdejQIfuyr69vqqOizpw5k+roqZuFhoYqNjbW/jhx4kSujRcAAAAAAACFIJTas2eP/Pz87MuBgYHauHGjQ59vvvlGLVq0SHcbrq6u8vLycngAAAAAAAAg9+Tp6XuXLl3S4cOH7ctHjx5VZGSkSpcurYoVKyo0NFSnTp3S4sWLJd24s16lSpVUt25dXb9+XZ988olWrFihFStW2LcxfPhwtW7dWpMnT1b37t21evVqffvtt9q+fbvl8wMAAAAAAEDa8jSU2rlzp9q1a2dfHjlypCSpf//+CgsLU3R0tKKiouzPX79+XS+//LJOnTold3d31a1bV1999ZU6d+5s79OiRQstW7ZMo0eP1pgxY1S1alWFh4erWbNm1k0MAAAAAAAAGbIZY0xeDyK/iYuLk7e3t2JjYwv8qXy7d+9WkyZNpMGS/PN6NDlwWtI8adeuXWrcuHFejwYAAAAAAKQjs7lKgb+mFAAAAAAAAAoeQikAAAAAAABYjlAKAAAAAAAAliOUAgAAAAAAgOUIpQAAAAAAAGA5QikAAAAAAABYjlAKAAAAAAAAliOUAgAAAAAAgOUIpQAAAAAAAGA5QikAAAAAAABYjlAKAAAAAAAAliOUAgAAAAAAgOUIpQAAAAAAAGA5QikAAAAAAABYjlAKAAAAAAAAliOUAgAAAAAAgOUIpQAAAAAAAGA5QikAAAAAAABYjlAKAAAAAAAAliOUAgAAAAAAgOUIpQAAAAAAAGA5QikAAAAAAABYjlAKAAAAAAAAliOUAgAAAAAAgOUIpQAAAAAAAGA5QikAAAAAAABYjlAKAAAAAAAAliOUAgAAAAAAgOUIpQAAAAAAAGA5QikAAAAAAABYjlAKAAAAAAAAliOUAgAAAAAAgOUIpQAAAAAAAGA5QikAAAAAAABYjlAKAAAAAAAAliOUAgAAAAAAgOUIpQAAAAAAAGA5QikAAAAAAABYjlAKAAAAAAAAliOUAgAAAAAAgOUIpQAAAAAAAGA5QikAAAAAAABYjlAKAAAAAAAAliOUAgAAAAAAgOUIpQAAAAAAAGA5QikAAAAAAABYjlAKAAAAAAAAlsvTUGrr1q3q2rWr/P39ZbPZtGrVqgz7f/HFF+rQoYPuvvtueXl5KTAwUBs2bHDoExYWJpvNlupx7dq1XJwJAAAAAAAAsiJPQ6nLly+rQYMGmjlzZqb6b926VR06dNC6deu0a9cutWvXTl27dtWePXsc+nl5eSk6Otrh4ebmlhtTAAAAAAAAQDYUy8vinTp1UqdOnTLdf9q0aQ7LEydO1OrVq7V27Vo1atTI3m6z2eTr6+usYQIAAAAAAMDJCvQ1pZKTk3Xx4kWVLl3aof3SpUsKCAhQ+fLl1aVLl1RHUgEAAAAAACBvFehQasqUKbp8+bJ69+5tb6tVq5bCwsK0Zs0aLV26VG5ubmrZsqUOHTqU7nbi4+MVFxfn8AAAAAAAAEDuydPT93Ji6dKlGjdunFavXq2yZcva25s3b67mzZvbl1u2bKnGjRvrgw8+0IwZM9Lc1qRJkzR+/PhcHzMAAAAAAABuKJBHSoWHh2vgwIFavny52rdvn2HfIkWK6L777svwSKnQ0FDFxsbaHydOnHD2kAEAAAAAAHCTAnek1NKlS/XUU09p6dKleuihh27b3xijyMhI1a9fP90+rq6ucnV1deYwAQAAAAAAkIE8DaUuXbqkw4cP25ePHj2qyMhIlS5dWhUrVlRoaKhOnTqlxYsXS7oRSPXr10/Tp09X8+bNFRMTI0lyd3eXt7e3JGn8+PFq3ry5qlevrri4OM2YMUORkZH68MMPrZ8gAAAAAAAA0pSnp+/t3LlTjRo1UqNGjSRJI0eOVKNGjfT6669LkqKjoxUVFWXvP3fuXCUmJuq5556Tn5+f/TF8+HB7nwsXLmjw4MGqXbu2goODderUKW3dulX333+/tZMDAAAAAABAumzGGJPXg8hv4uLi5O3trdjYWHl5eeX1cHJk9+7datKkiTRYkn9ejyYHTkuaJ+3atUuNGzfO69EAAAAAAIB0ZDZXKZAXOgcAAAAAAEDBRigFAAAAAAAAyxFKAQAAAAAAwHKEUgAAAAAAALAcoRQAAAAAAAAsRygFAAAAAAAAyxFKAQAAAAAAwHKEUgAAAAAAALBctkKpo0ePOnscAAAAAAAAuINkK5SqVq2a2rVrp08++UTXrl1z9pgAAAAAAABQyGUrlNq7d68aNWqkl156Sb6+vnrmmWf0008/OXtsAAAAAAAAKKSyFUrVq1dPU6dO1alTp7Ro0SLFxMToX//6l+rWraupU6fq77//dvY4AQAAAAAAUIjk6ELnxYoV0yOPPKLly5dr8uTJOnLkiF5++WWVL19e/fr1U3R0tLPGCQAAAAAAgEIkR6HUzp07NXToUPn5+Wnq1Kl6+eWXdeTIEX3//fc6deqUunfv7qxxAgAAAAAAoBAplp2Vpk6dqkWLFunAgQPq3LmzFi9erM6dO6tIkRsZV+XKlTV37lzVqlXLqYMFAAAAAABA4ZCtUGr27Nl66qmn9OSTT8rX1zfNPhUrVtSCBQtyNDgAAAAAAAAUTtkKpQ4dOnTbPi4uLurfv392Ng8AAAAAAIBCLlvXlFq0aJE+++yzVO2fffaZPvrooxwPCgAAAAAAAIVbtkKpt99+Wz4+Pqnay5Ytq4kTJ+Z4UAAAAAAAACjcshVKHT9+XJUrV07VHhAQoKioqBwPCgAAAAAAAIVbtkKpsmXLat++fana9+7dqzJlyuR4UAAAAAAAACjcshVKPfbYYxo2bJg2bdqkpKQkJSUl6fvvv9fw4cP12GOPOXuMAAAAAAAAKGSydfe9N998U8ePH1dQUJCKFbuxieTkZPXr149rSgEAAAAAAOC2shVKubi4KDw8XG+88Yb27t0rd3d31a9fXwEBAc4eHwAAAAAAAAqhbIVSKWrUqKEaNWo4aywAAAAAAAC4Q2QrlEpKSlJYWJi+++47nTlzRsnJyQ7Pf//9904ZHAAAAAAAAAqnbIVSw4cPV1hYmB566CHVq1dPNpvN2eMCAAAAAABAIZatUGrZsmVavny5Onfu7OzxAAAAAAAA4A5QJDsrubi4qFq1as4eCwAAAAAAAO4Q2QqlXnrpJU2fPl3GGGePBwAAAAAAAHeAbJ2+t337dm3atElff/216tatq+LFizs8/8UXXzhlcAAAAAAAACicshVKlSxZUo888oizxwIAAAAAAIA7RLZCqUWLFjl7HAAAAAAAALiDZOuaUpKUmJiob7/9VnPnztXFixclSadPn9alS5ecNjgAAAAAAAAUTtk6Uur48eN68MEHFRUVpfj4eHXo0EElSpTQO++8o2vXrmnOnDnOHicAAAAAAAAKkWwdKTV8+HA1bdpU58+fl7u7u739kUce0Xfffee0wQEAAAAAAKBwyvbd9/7v//5PLi4uDu0BAQE6deqUUwYGAAAAAACAwitbR0olJycrKSkpVfvJkydVokSJHA8KAAAAAAAAhVu2QqkOHTpo2rRp9mWbzaZLly5p7Nix6ty5s7PGBgAAAAAAgEIqW6fvvf/++2rXrp3q1Kmja9euqU+fPjp06JB8fHy0dOlSZ48RAAAAAAAAhUy2Qil/f39FRkZq6dKl2r17t5KTkzVw4EA9/vjjDhc+BwAAAAAAANKSrVBKktzd3fXUU0/pqaeecuZ4AAAAAAAAcAfIVii1ePHiDJ/v169ftgYDAAAAAACAO0O2Qqnhw4c7LCckJOjKlStycXGRh4cHoRQAAAAAAAAylK27750/f97hcenSJR04cED/+te/uNA5AAAAAAAAbitboVRaqlevrrfffjvVUVQAAAAAAADArZwWSklS0aJFdfr0aWduEgAAAAAAAIVQtq4ptWbNGodlY4yio6M1c+ZMtWzZ0ikDAwAAAAAAQOGVrSOlHn74YYfHo48+qnHjxunee+/VwoULM72drVu3qmvXrvL395fNZtOqVatuu86WLVvUpEkTubm5qUqVKpozZ06qPitWrFCdOnXk6uqqOnXqaOXKlVmZHgAAAAAAAHJZtkKp5ORkh0dSUpJiYmK0ZMkS+fn5ZXo7ly9fVoMGDTRz5sxM9T969Kg6d+6sVq1aac+ePRo1apSGDRumFStW2PtEREQoJCREffv21d69e9W3b1/17t1bP/74Y5bnCQAAAAAAgNxhM8aYvB6EJNlsNq1cuVIPP/xwun1effVVrVmzRr///ru9bciQIdq7d68iIiIkSSEhIYqLi9PXX39t7/Pggw+qVKlSmb4zYFxcnLy9vRUbGysvL6/sTSif2L17t5o0aSINluSf16PJgdOS5km7du1S48aN83o0AAAAAAAgHZnNVbJ1TamRI0dmuu/UqVOzUyJNERERCg4Odmjr2LGjFixYoISEBBUvXlwRERF68cUXU/WZNm1autuNj49XfHy8fTkuLs5pYwYAAMgNUVFROnv2bF4Pwyl8fHxUsWLFvB4GANyRCsvvk/j4eLm6uub1MJziTvq9mK1Qas+ePdq9e7cSExNVs2ZNSdLBgwdVtGhRh6NYbDabc0b5/4uJiVG5cuUc2sqVK6fExESdPXtWfn5+6faJiYlJd7uTJk3S+PHjnTpWAACA3BIVFaWatWrq2tVreT0Up3Bzd9OBPw7cMV/AASC/KFS/T2yS8sV5YDl3J/1ezFYo1bVrV5UoUUIfffSRSpUqJUk6f/68nnzySbVq1UovvfSSUwd5s1uDrpSzD29uT6tPRgFZaGiow9FfcXFxqlChgjOGCwAA4HRnz5698QfEo5J88no0OXRWuvbFNZ09e/aO+PINAPlJofl9ckjSJhX8eUh33O/FbIVSU6ZM0TfffGMPpCSpVKlSevPNNxUcHJxroZSvr2+qI57OnDmjYsWKqUyZMhn2ufXoqZu5uroWmsP8AADAHcRHBfuakQCA/KGg/z5JOfuwoM/jDpStu+/FxcXpr7/+StV+5swZXbx4MceDSk9gYKA2btzo0PbNN9+oadOmKl68eIZ9WrRokWvjAgAAAAAAQNZkK5R65JFH9OSTT+rzzz/XyZMndfLkSX3++ecaOHCgHn300Uxv59KlS4qMjFRkZKQk6ejRo4qMjFRUVJSkG6fV9evXz95/yJAhOn78uEaOHKnff/9dCxcu1IIFC/Tyyy/b+wwfPlzffPONJk+erD/++EOTJ0/Wt99+qxEjRmRnqgAAAAAAAMgF2Tp9b86cOXr55Zf1xBNPKCEh4caGihXTwIED9e6772Z6Ozt37lS7du3syynXderfv7/CwsIUHR1tD6gkqXLlylq3bp1efPFFffjhh/L399eMGTPUo0cPe58WLVpo2bJlGj16tMaMGaOqVasqPDxczZo1y85UAQAAAAAAkAuyFUp5eHho1qxZevfdd3XkyBEZY1StWjV5enpmaTtt27a1X6g8LWFhYana2rRpo927d2e43Z49e6pnz55ZGgsAAAAAAACsk63T91JER0crOjpaNWrUkKenZ4YBEwAAAAAAAJAiW6HUP//8o6CgINWoUUOdO3dWdHS0JGnQoEG5duc9AAAAAAAAFB7ZCqVefPFFFS9eXFFRUfLw8LC3h4SEaP369U4bHAAAAAAAAAqnbF1T6ptvvtGGDRtUvnx5h/bq1avr+PHjThkYAAAAAAAACq9sHSl1+fJlhyOkUpw9e1aurq45HhQAAAAAAAAKt2yFUq1bt9bixYvtyzabTcnJyXr33XfVrl07pw0OAAAAAAAAhVO2Tt9799131bZtW+3cuVPXr1/XK6+8ov379+vcuXP6v//7P2ePEQAAAAAAAIVMto6UqlOnjvbt26f7779fHTp00OXLl/Xoo49qz549qlq1qrPHCAAAAAAAgEImy0dKJSQkKDg4WHPnztX48eNzY0wAAAAAAAAo5LJ8pFTx4sX166+/ymaz5cZ4AAAAAAAAcAfI1ul7/fr104IFC5w9FgAAAAAAANwhsnWh8+vXr2v+/PnauHGjmjZtKk9PT4fnp06d6pTBAQAAAAAAoHDKUij1559/qlKlSvr111/VuHFjSdLBgwcd+nBaHwAAAAAAAG4nS6FU9erVFR0drU2bNkmSQkJCNGPGDJUrVy5XBgcAAAAAAIDCKUvXlDLGOCx//fXXunz5slMHBAAAAAAAgMIvWxc6T3FrSAUAAAAAAABkRpZCKZvNluqaUVxDCgAAAAAAAFmVpWtKGWM0YMAAubq6SpKuXbumIUOGpLr73hdffOG8EQIAAAAAAKDQyVIo1b9/f4flJ554wqmDAQAAAAAAwJ0hS6HUokWLcmscAAAAAAAAuIPk6ELnAAAAAAAAQHYQSgEAAAAAAMByhFIAAAAAAACwHKEUAAAAAAAALEcoBQAAAAAAAMsRSgEAAAAAAMByhFIAAAAAAACwHKEUAAAAAAAALEcoBQAAAAAAAMsRSgEAAAAAAMByhFIAAAAAAACwHKEUAAAAAAAALEcoBQAAAAAAAMsRSgEAAAAAAMByhFIAAAAAAACwHKEUAAAAAAAALEcoBQAAAAAAAMsRSgEAAAAAAMByhFIAAAAAAACwHKEUAAAAAAAALEcoBQAAAAAAAMsRSgEAAAAAAMByhFIAAAAAAACwHKEUAAAAAAAALEcoBQAAAAAAAMsRSgEAAAAAAMByhFIAAAAAAACwXJ6HUrNmzVLlypXl5uamJk2aaNu2ben2HTBggGw2W6pH3bp17X3CwsLS7HPt2jUrpgMAAAAAAIBMyNNQKjw8XCNGjNBrr72mPXv2qFWrVurUqZOioqLS7D99+nRFR0fbHydOnFDp0qXVq1cvh35eXl4O/aKjo+Xm5mbFlAAAAAAAAJAJeRpKTZ06VQMHDtSgQYNUu3ZtTZs2TRUqVNDs2bPT7O/t7S1fX1/7Y+fOnTp//ryefPJJh342m82hn6+vrxXTAQAAAAAAQCblWSh1/fp17dq1S8HBwQ7twcHB2rFjR6a2sWDBArVv314BAQEO7ZcuXVJAQIDKly+vLl26aM+ePU4bNwAAAAAAAHKuWF4VPnv2rJKSklSuXDmH9nLlyikmJua260dHR+vrr7/WkiVLHNpr1aqlsLAw1a9fX3FxcZo+fbpatmypvXv3qnr16mluKz4+XvHx8fbluLi4bMwIAAAAAAAAmZXnFzq32WwOy8aYVG1pCQsLU8mSJfXwww87tDdv3lxPPPGEGjRooFatWmn58uWqUaOGPvjgg3S3NWnSJHl7e9sfFSpUyNZcAAAAAAAAkDl5Fkr5+PioaNGiqY6KOnPmTKqjp25ljNHChQvVt29fubi4ZNi3SJEiuu+++3To0KF0+4SGhio2Ntb+OHHiROYnAgAAAAAAgCzLs1DKxcVFTZo00caNGx3aN27cqBYtWmS47pYtW3T48GENHDjwtnWMMYqMjJSfn1+6fVxdXeXl5eXwAAAAAAAAQO7Js2tKSdLIkSPVt29fNW3aVIGBgZo3b56ioqI0ZMgQSTeOYDp16pQWL17ssN6CBQvUrFkz1atXL9U2x48fr+bNm6t69eqKi4vTjBkzFBkZqQ8//NCSOQEAAAAAAOD28jSUCgkJ0T///KMJEyYoOjpa9erV07p16+x304uOjlZUVJTDOrGxsVqxYoWmT5+e5jYvXLigwYMHKyYmRt7e3mrUqJG2bt2q+++/P9fnAwAAAAAAgMzJ01BKkoYOHaqhQ4em+VxYWFiqNm9vb125ciXd7b3//vt6//33nTU8AAAAAAAA5II8v/seAAAAAAAA7jyEUgAAAAAAALAcoRQAAAAAAAAsRygFAAAAAAAAyxFKAQAAAAAAwHKEUgAAAAAAALAcoRQAAAAAAAAsRygFAAAAAAAAyxFKAQAAAAAAwHKEUgAAAAAAALAcoRQAAAAAAAAsRygFAAAAAAAAyxFKAQAAAAAAwHKEUgAAAAAAALAcoRQAAAAAAAAsRygFAAAAAAAAyxFKAQAAAAAAwHKEUgAAAAAAALAcoRQAAAAAAAAsRygFAAAAAAAAyxFKAQAAAAAAwHKEUgAAAAAAALAcoRQAAAAAAAAsRygFAAAAAAAAyxFKAQAAAAAAwHKEUgAAAAAAALAcoRQAAAAAAAAsRygFAAAAAAAAyxFKAQAAAAAAwHKEUgAAAAAAALAcoRQAAAAAAAAsRygFAAAAAAAAyxFKAQAAAAAAwHKEUgAAAAAAALAcoRQAAAAAAAAsRygFAAAAAAAAyxFKAQAAAAAAwHKEUgAAAAAAALAcoRQAAAAAAAAsRygFAAAAAAAAyxFKAQAAAAAAwHKEUgAAAAAAALAcoRQAAAAAAAAsRygFAAAAAAAAyxFKAQAAAAAAwHKEUgAAAAAAALAcoRQAAAAAAAAsRygFAAAAAAAAy+V5KDVr1ixVrlxZbm5uatKkibZt25Zu382bN8tms6V6/PHHHw79VqxYoTp16sjV1VV16tTRypUrc3saAAAAAAAAyII8DaXCw8M1YsQIvfbaa9qzZ49atWqlTp06KSoqKsP1Dhw4oOjoaPujevXq9uciIiIUEhKivn37au/everbt6969+6tH3/8MbenAwAAAAAAgEzK01Bq6tSpGjhwoAYNGqTatWtr2rRpqlChgmbPnp3hemXLlpWvr6/9UbRoUftz06ZNU4cOHRQaGqpatWopNDRUQUFBmjZtWi7PBgAAAAAAAJmVZ6HU9evXtWvXLgUHBzu0BwcHa8eOHRmu26hRI/n5+SkoKEibNm1yeC4iIiLVNjt27JjhNuPj4xUXF+fwAAAAAAAAQO7Js1Dq7NmzSkpKUrly5Rzay5Urp5iYmDTX8fPz07x587RixQp98cUXqlmzpoKCgrR161Z7n5iYmCxtU5ImTZokb29v+6NChQo5mBkAAAAAAABup1heD8BmszksG2NStaWoWbOmatasaV8ODAzUiRMn9N5776l169bZ2qYkhYaGauTIkfbluLg4gikAAAAAAIBclGdHSvn4+Kho0aKpjmA6c+ZMqiOdMtK8eXMdOnTIvuzr65vlbbq6usrLy8vhAQAAAAAAgNyTZ6GUi4uLmjRpoo0bNzq0b9y4US1atMj0dvbs2SM/Pz/7cmBgYKptfvPNN1naJgAAAAAAAHJXnp6+N3LkSPXt21dNmzZVYGCg5s2bp6ioKA0ZMkTSjdPqTp06pcWLF0u6cWe9SpUqqW7durp+/bo++eQTrVixQitWrLBvc/jw4WrdurUmT56s7t27a/Xq1fr222+1ffv2PJkjAAAAAAAAUsvTUCokJET//POPJkyYoOjoaNWrV0/r1q1TQECAJCk6OlpRUVH2/tevX9fLL7+sU6dOyd3dXXXr1tVXX32lzp072/u0aNFCy5Yt0+jRozVmzBhVrVpV4eHhatasmeXzAwAAAAAAQNry/ELnQ4cO1dChQ9N8LiwszGH5lVde0SuvvHLbbfbs2VM9e/Z0xvAAAAAAAACQC/LsmlIAAAAAAAC4cxFKAQAAAAAAwHKEUgAAAAAAALAcoRQAAAAAAAAsRygFAAAAAAAAyxFKAQAAAAAAwHKEUgAAAAAAALAcoRQAAAAAAAAsRygFAAAAAAAAyxFKAQAAAAAAwHKEUgAAAAAAALAcoRQAAAAAAAAsRygFAAAAAAAAyxFKAQAAAAAAwHKEUgAAAAAAALAcoRQAAAAAAAAsRygFAAAAAAAAyxFKAQAAAAAAwHKEUgAAAAAAALAcoRQAAAAAAAAsRygFAAAAAAAAyxFKAQAAAAAAwHKEUgAAAAAAALAcoRQAAAAAAAAsRygFAAAAAAAAyxFKAQAAAAAAwHKEUgAAAAAAALAcoRQAAAAAAAAsRygFAAAAAAAAyxFKAQAAAAAAwHKEUgAAAAAAALAcoRQAAAAAAAAsRygFAAAAAAAAyxFKAQAAAAAAwHKEUgAAAAAAALAcoRQAAAAAAAAsRygFAAAAAAAAyxFKAQAAAAAAwHKEUgAAAAAAALAcoRQAAAAAAAAsRygFAAAAAAAAyxFKAQAAAAAAwHKEUgAAAAAAALAcoRQAAAAAAAAsRygFAAAAAAAAyxFKAQAAAAAAwHKEUgAAAAAAALBcnodSs2bNUuXKleXm5qYmTZpo27Zt6fb94osv1KFDB919993y8vJSYGCgNmzY4NAnLCxMNpst1ePatWu5PRUAAAAAAABkUp6GUuHh4RoxYoRee+017dmzR61atVKnTp0UFRWVZv+tW7eqQ4cOWrdunXbt2qV27dqpa9eu2rNnj0M/Ly8vRUdHOzzc3NysmBIAAAAAAAAyoVheFp86daoGDhyoQYMGSZKmTZumDRs2aPbs2Zo0aVKq/tOmTXNYnjhxolavXq21a9eqUaNG9nabzSZfX99cHTsAAAAAAACyL8+OlLp+/bp27dql4OBgh/bg4GDt2LEjU9tITk7WxYsXVbp0aYf2S5cuKSAgQOXLl1eXLl1SHUl1q/j4eMXFxTk8AAAAAAAAkHvyLJQ6e/askpKSVK5cOYf2cuXKKSYmJlPbmDJlii5fvqzevXvb22rVqqWwsDCtWbNGS5culZubm1q2bKlDhw6lu51JkybJ29vb/qhQoUL2JgUAAAAAAIBMyfMLndtsNodlY0yqtrQsXbpU48aNU3h4uMqWLWtvb968uZ544gk1aNBArVq10vLly1WjRg198MEH6W4rNDRUsbGx9seJEyeyPyEAAAAAAADcVp5dU8rHx0dFixZNdVTUmTNnUh09davw8HANHDhQn332mdq3b59h3yJFiui+++7L8EgpV1dXubq6Zn7wAAAAAAAAyJE8O1LKxcVFTZo00caNGx3aN27cqBYtWqS73tKlSzVgwAAtWbJEDz300G3rGGMUGRkpPz+/HI8ZAAAAAAAAzpGnd98bOXKk+vbtq6ZNmyowMFDz5s1TVFSUhgwZIunGaXWnTp3S4sWLJd0IpPr166fp06erefPm9qOs3N3d5e3tLUkaP368mjdvrurVqysuLk4zZsxQZGSkPvzww7yZJAAAAAAAAFLJ01AqJCRE//zzjyZMmKDo6GjVq1dP69atU0BAgCQpOjpaUVFR9v5z585VYmKinnvuOT333HP29v79+yssLEySdOHCBQ0ePFgxMTHy9vZWo0aNtHXrVt1///2Wzg0AAAAAAADpy9NQSpKGDh2qoUOHpvlcStCUYvPmzbfd3vvvv6/333/fCSMDAAAAAABAbsnzu+8BAAAAAADgzkMoBQAAAAAAAMsRSgEAAAAAAMByhFIAAAAAAACwHKEUAAAAAAAALEcoBQAAAAAAAMsRSgEAAAAAAMByhFIAAAAAAACwHKEUAAAAAAAALEcoBQAAAAAAAMsRSgEAAAAAAMByhFIAAAAAAACwHKEUAAAAAAAALEcoBQAAAAAAAMsRSgEAAAAAAMByhFIAAAAAAACwHKEUAAAAAAAALEcoBQAAAAAAAMsRSgEAAAAAAMByhFIAAAAAAACwHKEUAAAAAAAALEcoBQAAAAAAAMsRSgEAAAAAAMByhFIAAAAAAACwHKEUAAAAAAAALEcoBQAAAAAAAMsRSgEAAAAAAMByhFIAAAAAAACwHKEUAAAAAAAALEcoBQAAAAAAAMsRSgEAAAAAAMByhFIAAAAAAACwHKEUAAAAAAAALEcoBQAAAAAAAMsRSgEAAAAAAMByhFIAAAAAAACwHKEUAAAAAAAALEcoBQAAAAAAAMsRSgEAAAAAAMByhFIAAAAAAACwHKEUAAAAAAAALEcoBQAAAAAAAMsRSgEAAAAAAMByhFIAAAAAAACwHKEUAAAAAAAALEcoBQAAAAAAAMsRSgEAAAAAAMByeR5KzZo1S5UrV5abm5uaNGmibdu2Zdh/y5YtatKkidzc3FSlShXNmTMnVZ8VK1aoTp06cnV1VZ06dbRy5crcGj4AAAAAAACyIU9DqfDwcI0YMUKvvfaa9uzZo1atWqlTp06KiopKs//Ro0fVuXNntWrVSnv27NGoUaM0bNgwrVixwt4nIiJCISEh6tu3r/bu3au+ffuqd+/e+vHHH62aFgAAAAAAAG4jT0OpqVOnauDAgRo0aJBq166tadOmqUKFCpo9e3aa/efMmaOKFStq2rRpql27tgYNGqSnnnpK7733nr3PtGnT1KFDB4WGhqpWrVoKDQ1VUFCQpk2bZtGsAAAAAAAAcDt5Fkpdv35du3btUnBwsEN7cHCwduzYkeY6ERERqfp37NhRO3fuVEJCQoZ90tsmAAAAAAAArFcsrwqfPXtWSUlJKleunEN7uXLlFBMTk+Y6MTExafZPTEzU2bNn5efnl26f9LYpSfHx8YqPj7cvx8bGSpLi4uKyNKf86NKlSzf+J1rS9TwdSs78c+M/u3bt+n9zKsCKFCmi5OTkvB5GjjGP/KewzKWwzEMqPHMpLPOQCsdcDhw4cON/Cvrvd6lQ/Y4vDPuWVHjmIRWeuRSWeUiFZy6FZR6F5vfJ3///fwv6PCT778VLly4V6EwiZezGmAz75VkolcJmszksG2NStd2u/63tWd3mpEmTNH78+FTtFSpUSH/gBc3avB6AcwwePDivhwAAQP5RSH6/S/yOB4A8VVh+nxSWeUhq06ZNXg/BKS5evChvb+90n8+zUMrHx0dFixZNdQTTmTNnUh3plMLX1zfN/sWKFVOZMmUy7JPeNiUpNDRUI0eOtC8nJyfr3LlzKlOmTIZhFpCRuLg4VahQQSdOnJCXl1deDwcFFPsRnIV9Cc7AfgRnYV+CM7AfwVnYl5zPGKOLFy/K398/w355Fkq5uLioSZMm2rhxox555BF7+8aNG9W9e/c01wkMDNTatY7R5zfffKOmTZuqePHi9j4bN27Uiy++6NCnRYsW6Y7F1dVVrq6uDm0lS5bM6pSANHl5efHBhhxjP4KzsC/BGdiP4CzsS3AG9iM4C/uSc2V0hFSKPD19b+TIkerbt6+aNm2qwMBAzZs3T1FRURoyZIikG0cwnTp1SosXL5YkDRkyRDNnztTIkSP19NNPKyIiQgsWLNDSpUvt2xw+fLhat26tyZMnq3v37lq9erW+/fZbbd++PU/mCAAAAAAAgNTyNJQKCQnRP//8owkTJig6Olr16tXTunXrFBAQIEmKjo5WVFSUvX/lypW1bt06vfjii/rwww/l7++vGTNmqEePHvY+LVq00LJlyzR69GiNGTNGVatWVXh4uJo1a2b5/AAAAAAAAJC2PL/Q+dChQzV06NA0nwsLC0vV1qZNG+3evTvDbfbs2VM9e/Z0xvCAbHN1ddXYsWNTnRoKZAX7EZyFfQnOwH4EZ2FfgjOwH8FZ2Jfyjs3c7v58AAAAAAAAgJMVyesBAAAAAAAA4M5DKAUAAAAAAADLEUoBAAAAAADAcoRSwC22bt2qrl27yt/fXzabTatWrXJ4/osvvlDHjh3l4+Mjm82myMhIh+fPnTunF154QTVr1pSHh4cqVqyoYcOGKTY2NsO648aNk81mc3j4+vo6eXawUk73JUlq27Ztqv3iscceu23tWbNmqXLlynJzc1OTJk20bds2J80KVsvpfnTs2LFU+1DK47PPPku3Lp9JhU9G+1JCQoJeffVV1a9fX56envL391e/fv10+vRph23Ex8frhRdekI+Pjzw9PdWtWzedPHnytrX5TCo8crof8T0JKZzxmcT3JOR0P+J7Ut4jlAJucfnyZTVo0EAzZ85M9/mWLVvq7bffTvP506dP6/Tp03rvvff0yy+/KCwsTOvXr9fAgQNvW7tu3bqKjo62P3755ZcczQV5K6f7Uoqnn37aYb+YO3duhv3Dw8M1YsQIvfbaa9qzZ49atWqlTp06KSoqKttzQd7J6X5UoUIFh/0nOjpa48ePl6enpzp16pRhbT6TCpeM9qUrV65o9+7dGjNmjHbv3q0vvvhCBw8eVLdu3Rz6jRgxQitXrtSyZcu0fft2Xbp0SV26dFFSUlK6dflMKlxyuh/xPQkpnPGZJPE96U6X0/2I70n5gAGQLklm5cqVaT539OhRI8ns2bPntttZvny5cXFxMQkJCen2GTt2rGnQoEH2Bop8L7v7Ups2bczw4cOzVOv+++83Q4YMcWirVauW+e9//5ul7SD/cdZnUsOGDc1TTz2VYR8+kwq3jPalFD/99JORZI4fP26MMebChQumePHiZtmyZfY+p06dMkWKFDHr169Pdzt8JhVe2dmP0sL3JGR3X+J7Em7mrM8kvidZiyOlAAvExsbKy8tLxYoVy7DfoUOH5O/vr8qVK+uxxx7Tn3/+adEIkZ99+umn8vHxUd26dfXyyy/r4sWL6fa9fv26du3apeDgYIf24OBg7dixI7eHigJg165dioyMzNRRCXwm3dliY2Nls9lUsmRJSTf2nYSEBIfPF39/f9WrVy/dzxc+k3DrfpReH74n4XbS25f4noSsuN1nEt+TrJfxJz+AHPvnn3/0xhtv6JlnnsmwX7NmzbR48WLVqFFDf/31l9588021aNFC+/fvV5kyZSwaLfKbxx9/XJUrV5avr69+/fVXhYaGau/evdq4cWOa/c+ePaukpCSVK1fOob1cuXKKiYmxYsjI5xYsWKDatWurRYsWGfbjM+nOdu3aNf33v/9Vnz595OXlJUmKiYmRi4uLSpUq5dA3o88XPpPubGntR7fiexIyI719ie9JyIrMfCbxPcl6hFJALoqLi9NDDz2kOnXqaOzYsRn2vfmc5fr16yswMFBVq1bVRx99pJEjR+b2UJFPPf300/b/r1evnqpXr66mTZtq9+7daty4cbrr2Ww2h2VjTKo23HmuXr2qJUuWaMyYMbfty2fSnSshIUGPPfaYkpOTNWvWrNv2z8znC59Jd57M7Ed8T0JmZLQv8T0JmZWZzyS+J+UNTt8DcsnFixf14IMP6q677tLKlStVvHjxLK3v6emp+vXr69ChQ7k0QhREjRs3VvHixdPdL3x8fFS0aNFU/9p35syZVP8qiDvP559/ritXrqhfv35ZXpfPpDtDQkKCevfuraNHj2rjxo0O/5Ls6+ur69ev6/z58w7rZPT5wmfSnSmj/SgF35OQGZnZl27G9ySkJbP7Ed+T8gahFJAL4uLiFBwcLBcXF61Zs0Zubm5Z3kZ8fLx+//13+fn55cIIUVDt379fCQkJ6e4XLi4uatKkSarD1jdu3Hjbw5BR+C1YsEDdunXT3XffneV1+Uwq/FK+tB86dEjffvttqtMPmjRpouLFizt8vkRHR+vXX39N9/OFz6Q7z+32I4nvSciczOxLt+J7Em6Vlf2I70l5g9P3gFtcunRJhw8fti8fPXpUkZGRKl26tCpWrKhz584pKipKp0+fliQdOHBA0o1/Qfb19dXFixcVHBysK1eu6JNPPlFcXJzi4uIkSXfffbeKFi0qSQoKCtIjjzyi559/XpL08ssvq2vXrqpYsaLOnDmjN998U3Fxcerfv7+V04cT5XRfOnLkiD799FN17txZPj4++u233/TSSy+pUaNGatmypX27t+5LI0eOVN++fdW0aVMFBgZq3rx5ioqK0pAhQyycPZwlp/tRisOHD2vr1q1at25dmnX4TCr8MtqX/P391bNnT+3evVtffvmlkpKS7EcSlC5dWi4uLvL29tbAgQP10ksvqUyZMipdurRefvll1a9fX+3bt7dvl8+kwi2n+xHfk5Aip/sS35Mg5Xw/SsH3pDyUtzf/A/KfTZs2GUmpHv379zfGGLNo0aI0nx87dmyG60syR48etdcJCAiwr2OMMSEhIcbPz88UL17c+Pv7m0cffdTs37/fuonD6XK6L0VFRZnWrVub0qVLGxcXF1O1alUzbNgw888//zjUuXVfMsaYDz/80AQEBBgXFxfTuHFjs2XLFgtmjNyQ0/0oRWhoqClfvrxJSkpKsw6fSYVfRvvS0aNH0/3dtWnTJvs2rl69ap5//nlTunRp4+7ubrp06WKioqIc6vCZVLjldD/iexJS5HRf4nsSjHHO7zZj+J6Ul2zGGJOVEAsAAAAAAADIKa4pBQAAAAAAAMsRSgEAAAAAAMByhFIAAAAAAACwHKEUAAAAAAAALEcoBQAAAAAAAMsRSgEAAAAAAMByhFIAAAAAAACwHKEUAAAAAAAALEcoBQAAgCxZsGCBgoOD83oYmjlzprp165bXwwAAANlEKAUAAPI1m82W4WPAgAF5PcRMGzBggH3cxYoVU8WKFfXss8/q/PnzeT20TIuPj9frr7+uMWPG2NvGjRvn8J54e3urVatW2rJli8O6lSpVsvfx8PBQvXr1NHfuXPvzYWFhstlsql27dqq6y5cvl81mU6VKlextTz/9tH7++Wdt377d+RMFAAC5jlAKAADka9HR0fbHtGnT5OXl5dA2ffr0vB5iljz44IOKjo7WsWPHNH/+fK1du1ZDhw7N62Fl2ooVK3TXXXepVatWDu1169a1vycRERGqXr26unTpotjYWId+EyZMUHR0tPbt26eHH35YQ4YMUXh4uP15T09PnTlzRhEREQ7rLVy4UBUrVnRoc3V1VZ8+ffTBBx84eZYAAMAKhFIAACBf8/X1tT+8vb1ls9kc2rZu3aomTZrIzc1NVapU0fjx45WYmGhf32azae7cuerSpYs8PDxUu3ZtRURE6PDhw2rbtq08PT0VGBioI0eO2NcZN26cGjZsqLlz56pChQry8PBQr169dOHCBXuf5ORkTZgwQeXLl5erq6saNmyo9evX33Y+rq6u8vX1Vfny5RUcHKyQkBB988039ueTkpI0cOBAVa5cWe7u7qpZs2aq4G3AgAF6+OGH9d5778nPz09lypTRc889p4SEBHuf6OhoPfTQQ3J3d1flypW1ZMkSVapUSdOmTbP3iY2N1eDBg1W2bFl5eXnpgQce0N69ezMc/7Jly9I8Za5YsWL296ROnToaP368Ll26pIMHDzr0K1GihHx9fVWtWjW9+eabql69ulatWuWwnT59+mjhwoX2tpMnT2rz5s3q06dPqrrdunXTqlWrdPXq1QzHDQAA8h9CKQAAUGBt2LBBTzzxhIYNG6bffvtNc+fOVVhYmN566y2Hfm+88Yb69eunyMhI1apVS3369NEzzzyj0NBQ7dy5U5L0/PPPO6xz+PBhLV++XGvXrtX69esVGRmp5557zv789OnTNWXKFL333nvat2+fOnbsqG7duunQoUOZHv+ff/6p9evXq3jx4va25ORklS9fXsuXL9dvv/2m119/XaNGjdLy5csd1t20aZOOHDmiTZs26aOPPlJYWJjCwsLsz/fr10+nT5/W5s2btWLFCs2bN09nzpyxP2+M0UMPPaSYmBitW7dOu3btUuPGjRUUFKRz586lO+Zt27apadOmGc4rPj5eYWFhKlmypGrWrJlhXzc3N4cwTZIGDhyo8PBwXblyRdKN0/oefPBBlStXLtX6TZs2VUJCgn766acM6wAAgHzIAAAAFBCLFi0y3t7e9uVWrVqZiRMnOvT5+OOPjZ+fn31Zkhk9erR9OSIiwkgyCxYssLctXbrUuLm52ZfHjh1rihYtak6cOGFv+/rrr02RIkVMdHS0McYYf39/89ZbbznUvu+++8zQoUPTHX///v1N0aJFjaenp3FzczOSjCQzderUDOc9dOhQ06NHD4ftBAQEmMTERHtbr169TEhIiDHGmN9//91IMj///LP9+UOHDhlJ5v333zfGGPPdd98ZLy8vc+3aNYdaVatWNXPnzk1zHOfPnzeSzNatWx3ax44da4oUKWI8PT2Np6ensdlsxsvLy3z99dcO/QICAuz1ExISzKJFi4wkM2vWLGOM4/vbsGFD89FHH5nk5GRTtWpVs3r1avP++++bgICAVOMqVaqUCQsLS+fVAwAA+VWxvIvDAAAAcmbXrl36+eefHY6MSkpK0rVr13TlyhV5eHhIku6991778ylH29SvX9+h7dq1a4qLi5OXl5ckqWLFiipfvry9T2BgoJKTk3XgwAF5eHjo9OnTatmypcN4WrZsedvT39q1a6fZs2frypUrmj9/vg4ePKgXXnjBoc+cOXM0f/58HT9+XFevXtX169fVsGFDhz5169ZV0aJF7ct+fn765ZdfJEkHDhxQsWLF1LhxY/vz1apVU6lSpRxeu0uXLqlMmTIO27169arDqYy3PifdOLrpVjVr1tSaNWskSRcvXlR4eLh69eqlTZs2ORxZ9eqrr2r06NGKj4+Xi4uL/vOf/+iZZ55Jtb2nnnpKixYtUsWKFXXp0iV17txZM2fOTHNc7u7u9qOqAABAwUEoBQAACqzk5GSNHz9ejz76aKrnbg5Obj49zmazpduWnJycbq2UPin/vfX/pRunxN3aditPT09Vq1ZNkjRjxgy1a9dO48eP1xtvvCHpxl3mXnzxRU2ZMkWBgYEqUaKE3n33Xf34448O27l5/CljSRm/MSbN2je3Jycny8/PT5s3b07Vr2TJkmmuX6ZMGdlstjTvFuji4mKflyQ1atRIq1at0rRp0/TJJ5/Y2//zn/9owIAB8vDwkJ+fX7qv1+OPP65XXnlF48aNU79+/VSsWPpfW8+dO6e777473ecBAED+RCgFAAAKrMaNG+vAgQMOYYizREVF6fTp0/L395ckRUREqEiRIqpRo4a8vLzk7++v7du3q3Xr1vZ1duzYofvvvz9LdcaOHatOnTrp2Weflb+/v7Zt26YWLVo43JEvvSOX0lOrVi0lJiZqz549atKkiaQb18i6+ULtjRs3VkxMjIoVK6ZKlSplarsuLi6qU6eOfvvtNwUHB9+2f9GiRVNdgNzHxydT71fp0qXVrVs3LV++XHPmzEm335EjR3Tt2jU1atTo9hMAAAD5Chc6BwAABdbrr7+uxYsXa9y4cdq/f79+//13hYeHa/To0Tnetpubm/r376+9e/dq27ZtGjZsmHr37i1fX19JN474mTx5ssLDw3XgwAH997//VWRkpIYPH56lOm3btlXdunU1ceJESTdOs9u5c6c2bNiggwcPasyYMfr555+ztM1atWqpffv2Gjx4sH766Sft2bNHgwcPlru7u/3IpPbt2yswMFAPP/ywNmzYoGPHjmnHjh0aPXq0/eLvaenYsaO2b9+eqj0xMVExMTGKiYnRoUOH9Oabb+q3335T9+7dszT2m4WFhens2bOqVatWun22bdumKlWqqGrVqtmuAwAA8gZHSgEAgAKrY8eO+vLLLzVhwgS98847Kl68uGrVqqVBgwbleNvVqlXTo48+qs6dO+vcuXPq3LmzZs2aZX9+2LBhiouL00svvaQzZ86oTp06WrNmjapXr57lWiNHjtSTTz6pV199VUOGDFFkZKRCQkJks9n073//W0OHDtXXX3+dpW0uXrxYAwcOVOvWreXr66tJkyZp//799tMabTab1q1bp9dee01PPfWU/v77b/n6+qp169Zp3uUuxdNPP63GjRsrNjZW3t7e9vb9+/fLz89PkuTh4aGqVatq9uzZ6tevX5ZfjxTu7u5yd3fPsM/SpUv19NNPZ7sGAADIOzaT3kUHAAAA7lDjxo3TqlWrFBkZmddDcZqTJ0+qQoUK+vbbbxUUFJSjbfXu3VuNGjVSaGiok0aXPb/++quCgoJ08OBBh4AMAAAUDJy+BwAAUAh9//33WrNmjY4ePaodO3boscceU6VKlRyugZVd7777ru666y4njDJnTp8+rcWLFxNIAQBQQHH6HgAAQCGUkJCgUaNG6c8//1SJEiXUokULffrpp6nu2pcdAQEBeuGFF5wwypzJzMXWAQBA/sXpewAAAAAAALAcp+8BAAAAAADAcoRSAAAAAAAAsByhFAAAAAAAACxHKAUAAAAAAADLEUoBAAAAAADAcoRSAAAAAAAAsByhFAAAAAAAACxHKAUAAAAAAADLEUoBAAAAAADAcv8fkAGk7UpUfaMAAAAASUVORK5CYII=",
      "text/plain": [
       "<Figure size 1200x1200 with 2 Axes>"
      ]
     },
     "metadata": {},
     "output_type": "display_data"
    }
   ],
   "source": [
    "# Reset the index of tempo_df to use the bins as a column\n",
    "tempo_df_reset = tempo_df.reset_index()\n",
    "\n",
    "# Extract the bin labels (e.g., \"0-5\", \"5-10\") as strings for display\n",
    "tempo_df_reset['tempo_bin'] = tempo_df_reset['tempo_bin'].astype(str)\n",
    "\n",
    "# Create subplots (2 rows, 1 column)\n",
    "fig, ax = plt.subplots(2, 1, figsize=(12, 12))\n",
    "\n",
    "# First bar chart (Tempo Distribution by increments of 5 in Playlist)\n",
    "ax[0].bar(tempo_df_reset['tempo_bin'], tempo_df_reset['tempo'], color='blue', edgecolor='black')\n",
    "ax[0].set_title(\"Tempo Distribution by increments of 5 in Playlist\")\n",
    "ax[0].set_xlabel(\"Tempo Range (BPM)\")\n",
    "ax[0].set_ylabel(\"Count\")\n",
    "ax[0].set_xticks(range(len(tempo_df_reset['tempo_bin'])))\n",
    "ax[0].set_xticklabels(tempo_df_reset['tempo_bin'], rotation=45, ha='right')\n",
    "\n",
    "# Second histogram (Tempo Distribution of TikTok Segments)\n",
    "ax[1].hist(combined_tt_sections['tempo'], bins=20, color='green', edgecolor='black')  # You can adjust the number of bins\n",
    "ax[1].set_title(\"Tempo Distribution of TikTok Segments\")\n",
    "ax[1].set_xlabel(\"Tempo Range (BPM)\")\n",
    "ax[1].set_ylabel(\"Frequency\")\n",
    "\n",
    "# Adjust layout and display the figure\n",
    "plt.tight_layout()\n",
    "plt.show()\n"
   ]
  },
  {
   "cell_type": "markdown",
   "id": "2ece7dee-3831-4279-88f5-8a5879afb9bd",
   "metadata": {},
   "source": [
    "There are clear spikes and drop offs in these charts that indicate having similar audio features such as being in the key of B, being in 4/4 time signature (which is the most common to be fair), and a high tempo between in the low 100's are best for being a good song to become popular on Tik Tok. For best practice, this should be compared to a control of the most common audio features for music in general. Interesting, some songs only become popular as sounds when then they are edited to be sped up or slowed down, it would be interesting to see how those edits could effect their popularity. A larger sample size for the specific selected segements would help prove the results more, but as it stands, the slected top 5 most popular songs on the playlist match the findings from all segments quite well."
   ]
  }
 ],
 "metadata": {
  "kernelspec": {
   "display_name": "Python 3 (ipykernel)",
   "language": "python",
   "name": "python3"
  },
  "language_info": {
   "codemirror_mode": {
    "name": "ipython",
    "version": 3
   },
   "file_extension": ".py",
   "mimetype": "text/x-python",
   "name": "python",
   "nbconvert_exporter": "python",
   "pygments_lexer": "ipython3",
   "version": "3.12.4"
  }
 },
 "nbformat": 4,
 "nbformat_minor": 5
}

   "source": [
    "def api_call(endpoint_url, api_header):\n",
    "    response = requests.get(endpoint_url, headers = api_header)\n",
    "    print(response.status_code)\n",
    "    return response.json()"
   ]
  },
  {
   "cell_type": "code",
   "execution_count": 131,
   "id": "37b4e01e-4c1a-4c6f-9ded-54f474ae891d",
   "metadata": {},
   "outputs": [],
   "source": [
    "session_header = {'Authorization' : 'Bearer {}'.format(access_token)}"
   ]
  },
  {
   "cell_type": "markdown",
   "id": "c12a17b2-ea82-4cdd-bce4-91ddf682c8be",
   "metadata": {},
   "source": [
    "<h5>The songs analyzed in this report will be found in this playlist:</h5>"
   ]
  },
  {
   "cell_type": "code",
   "execution_count": 132,
   "id": "e7b48195-8d4d-4795-9d39-b27086d63236",
   "metadata": {},
   "outputs": [],
   "source": [
    "playlist_id = '1H3AmBXPtLgPOwwf1WvUYb'"
   ]
  },
  {
   "cell_type": "code",
   "execution_count": 133,
   "id": "18b594e6-ffa5-4a2a-8dea-ed2031e53527",
   "metadata": {},
   "outputs": [
    {
     "data": {
      "text/plain": [
       "'https://api.spotify.com/v1/playlists/1H3AmBXPtLgPOwwf1WvUYb/tracks'"
      ]
     },
     "execution_count": 133,
     "metadata": {},
     "output_type": "execute_result"
    }
   ],
   "source": [
    "playlist_items_ep.format(playlist_id)"
   ]
  },
  {
   "cell_type": "code",
   "execution_count": 134,
   "id": "d70120eb-aaef-4eb1-bd71-fd72ccde6659",
   "metadata": {},
   "outputs": [
    {
     "name": "stdout",
     "output_type": "stream",
     "text": [
      "200\n"
     ]
    }
   ],
   "source": [
    "playlist_response = api_call(playlist_items_ep.format(playlist_id), session_header)"
   ]
  },
  {
   "cell_type": "code",
   "execution_count": 135,
   "id": "2b2d6a27-3bf1-4e55-84d8-f2651aa84a41",
   "metadata": {},
   "outputs": [
    {
     "name": "stdout",
     "output_type": "stream",
     "text": [
      "dict_keys(['href', 'items', 'limit', 'next', 'offset', 'previous', 'total'])\n"
     ]
    }
   ],
   "source": [
    "print(playlist_response.keys())"
   ]
  },
  {
   "cell_type": "code",
   "execution_count": 136,
   "id": "cbcbe5b6-077e-4de1-8189-d36ae7337d12",
   "metadata": {},
   "outputs": [],
   "source": [
    "playlist_df= pd.DataFrame(playlist_response['items'])\n",
    "#playlist_df.head()"
   ]
  },
  {
   "cell_type": "code",
   "execution_count": 137,
   "id": "f096cb7a-555e-4dc5-b707-dd41fd97193f",
   "metadata": {},
   "outputs": [],
   "source": [
    "playlist_df2 = pd.DataFrame(playlist_response['items']).drop(columns = ['added_at', 'added_by', 'is_local', 'primary_color', 'video_thumbnail'])\n",
    "#playlist_df2.head()"
   ]
  },
  {
   "cell_type": "code",
   "execution_count": 138,
   "id": "83055a96-fb99-4b9e-ac6a-61c56fb8f73e",
   "metadata": {},
   "outputs": [],
   "source": [
    "#playlist_df2.columns"
   ]
  },
  {
   "cell_type": "code",
   "execution_count": 139,
   "id": "504daac1-b753-4fa3-beb3-d8b67f9f2c7c",
   "metadata": {},
   "outputs": [],
   "source": [
    "songs_ids_df = pd.DataFrame({\n",
    "    'Song Title': [track['name'] for track in playlist_df2['track']],\n",
    "    'Song ID': [track['id'] for track in playlist_df2['track']],\n",
    "    'Popularity': [track['popularity'] for track in playlist_df2['track']],\n",
    "    'Song Artist': [', '.join([artist['name'] for artist in track['artists']]) for track in playlist_df2['track']],\n",
    "})"
   ]
  },
  {
   "cell_type": "markdown",
   "id": "b594d907-8c03-4a24-bebb-bdf26f76d02d",
   "metadata": {},
   "source": [
    "<h4>Below I breifly tried to create a dataframe using every single song from this playlist, but I had trouble getting the dataframe to function</h4>"
   ]
  },
  {
   "cell_type": "code",
   "execution_count": 155,
   "id": "ebfcba21-f070-4e8b-a194-593895e4537b",
   "metadata": {},
   "outputs": [],
   "source": [
    "song_ids = songs_ids_df['Song ID'].tolist()\n",
    "limited_song_ids = song_ids[:50]\n",
    "ids_string = ','.join(limited_song_ids)\n",
    "#ids_string"
   ]
  },
  {
   "cell_type": "code",
   "execution_count": 156,
   "id": "158033c2-71a3-4a60-a662-f4590080a08e",
   "metadata": {},
   "outputs": [],
   "source": [
    "song_ids = songs_ids_df['Song ID'].tolist()\n",
    "limited_song_ids = song_ids[:50]\n",
    "ids_string = ','.join(limited_song_ids)"
   ]
  },
  {
   "cell_type": "code",
   "execution_count": 157,
   "id": "c513764a-9469-4a81-96b1-c53e8d296fc9",
   "metadata": {},
   "outputs": [],
   "source": [
    "song_ids_df2 = pd.DataFrame({'Song ID': limited_song_ids})\n",
    "#song_ids_df2"
   ]
  },
  {
   "cell_type": "code",
   "execution_count": 158,
   "id": "2b409143-c7f6-41eb-815c-68211090e148",
   "metadata": {},
   "outputs": [
    {
     "name": "stdout",
     "output_type": "stream",
     "text": [
      "400\n"
     ]
    },
    {
     "ename": "KeyError",
     "evalue": "'sections'",
     "output_type": "error",
     "traceback": [
      "\u001b[0;31m---------------------------------------------------------------------------\u001b[0m",
      "\u001b[0;31mKeyError\u001b[0m                                  Traceback (most recent call last)",
      "Cell \u001b[0;32mIn[158], line 2\u001b[0m\n\u001b[1;32m      1\u001b[0m song_ids_response \u001b[38;5;241m=\u001b[39m api_call(tracks_AA_ep\u001b[38;5;241m.\u001b[39mformat(ids_string), session_header)\n\u001b[0;32m----> 2\u001b[0m songids_df \u001b[38;5;241m=\u001b[39m pd\u001b[38;5;241m.\u001b[39mDataFrame(\u001b[43msong_ids_response\u001b[49m\u001b[43m[\u001b[49m\u001b[38;5;124;43m'\u001b[39;49m\u001b[38;5;124;43msections\u001b[39;49m\u001b[38;5;124;43m'\u001b[39;49m\u001b[43m]\u001b[49m)\n\u001b[1;32m      3\u001b[0m songids_df\u001b[38;5;241m.\u001b[39mhead(\u001b[38;5;241m100\u001b[39m)\n",
      "\u001b[0;31mKeyError\u001b[0m: 'sections'"
     ]
    }
   ],
   "source": [
    "song_ids_response = api_call(tracks_AA_ep.format(ids_string), session_header)\n",
    "songids_df = pd.DataFrame(song_ids_response['sections'])\n",
    "songids_df.head(100)"
   ]
  },
  {
   "cell_type": "markdown",
   "id": "ea2211cc-9633-4e22-bda9-ed57e554879b",
   "metadata": {},
   "source": [
    "<h4>I decided to insted just work with the top 5 most popular songs</h4>"
   ]
  },
  {
   "cell_type": "code",
   "execution_count": 144,
   "id": "1673baf7-82ea-4bea-bf18-08557236a791",
   "metadata": {},
   "outputs": [
    {
     "data": {
      "text/html": [
       "<div>\n",
       "<style scoped>\n",
       "    .dataframe tbody tr th:only-of-type {\n",
       "        vertical-align: middle;\n",
       "    }\n",
       "\n",
       "    .dataframe tbody tr th {\n",
       "        vertical-align: top;\n",
       "    }\n",
       "\n",
       "    .dataframe thead th {\n",
       "        text-align: right;\n",
       "    }\n",
       "</style>\n",
       "<table border=\"1\" class=\"dataframe\">\n",
       "  <thead>\n",
       "    <tr style=\"text-align: right;\">\n",
       "      <th></th>\n",
       "      <th>Song Title</th>\n",
       "      <th>Song ID</th>\n",
       "      <th>Popularity</th>\n",
       "      <th>Song Artist</th>\n",
       "    </tr>\n",
       "  </thead>\n",
       "  <tbody>\n",
       "    <tr>\n",
       "      <th>0</th>\n",
       "      <td>Alibi (with Pabllo Vittar &amp; Yseult)</td>\n",
       "      <td>5496lks6V3fh1mZAB6IAap</td>\n",
       "      <td>89</td>\n",
       "      <td>Sevdaliza, Pabllo Vittar, Yseult</td>\n",
       "    </tr>\n",
       "    <tr>\n",
       "      <th>1</th>\n",
       "      <td>Move</td>\n",
       "      <td>1BJJbSX6muJVF2AK7uH1x4</td>\n",
       "      <td>89</td>\n",
       "      <td>Adam Port, Stryv, Keinemusik, Orso, Malachiii</td>\n",
       "    </tr>\n",
       "    <tr>\n",
       "      <th>13</th>\n",
       "      <td>greedy</td>\n",
       "      <td>3rUGC1vUpkDG9CZFHMur1t</td>\n",
       "      <td>87</td>\n",
       "      <td>Tate McRae</td>\n",
       "    </tr>\n",
       "    <tr>\n",
       "      <th>5</th>\n",
       "      <td>Beautiful Things</td>\n",
       "      <td>6tNQ70jh4OwmPGpYy6R2o9</td>\n",
       "      <td>87</td>\n",
       "      <td>Benson Boone</td>\n",
       "    </tr>\n",
       "    <tr>\n",
       "      <th>33</th>\n",
       "      <td>I'm Good (Blue)</td>\n",
       "      <td>4uUG5RXrOk84mYEfFvj3cK</td>\n",
       "      <td>86</td>\n",
       "      <td>David Guetta, Bebe Rexha</td>\n",
       "    </tr>\n",
       "  </tbody>\n",
       "</table>\n",
       "</div>"
      ],
      "text/plain": [
       "                             Song Title                 Song ID  Popularity  \\\n",
       "0   Alibi (with Pabllo Vittar & Yseult)  5496lks6V3fh1mZAB6IAap          89   \n",
       "1                                  Move  1BJJbSX6muJVF2AK7uH1x4          89   \n",
       "13                               greedy  3rUGC1vUpkDG9CZFHMur1t          87   \n",
       "5                      Beautiful Things  6tNQ70jh4OwmPGpYy6R2o9          87   \n",
       "33                      I'm Good (Blue)  4uUG5RXrOk84mYEfFvj3cK          86   \n",
       "\n",
       "                                      Song Artist  \n",
       "0                Sevdaliza, Pabllo Vittar, Yseult  \n",
       "1   Adam Port, Stryv, Keinemusik, Orso, Malachiii  \n",
       "13                                     Tate McRae  \n",
       "5                                    Benson Boone  \n",
       "33                       David Guetta, Bebe Rexha  "
      ]
     },
     "execution_count": 144,
     "metadata": {},
     "output_type": "execute_result"
    }
   ],
   "source": [
    "sorted_songs_ids_df = songs_ids_df.sort_values(by='Popularity', ascending=False)\n",
    "sorted_songs_ids_df.head()"
   ]
  },
  {
   "cell_type": "code",
   "execution_count": 145,
   "id": "9052b05d-d3b9-4618-9b8d-04c24f8bff33",
   "metadata": {},
   "outputs": [],
   "source": [
    "track1_id = '5496lks6V3fh1mZAB6IAap'\n",
    "track2_id = '1BJJbSX6muJVF2AK7uH1x4'\n",
    "track3_id = '3rUGC1vUpkDG9CZFHMur1t'\n",
    "track4_id = '6tNQ70jh4OwmPGpYy6R'\n",
    "track5_id = '4uUG5RXrOk84mYEfFvj3cK'"
   ]
  },
  {
   "cell_type": "markdown",
   "id": "6de12e86-f2bd-4f09-bf9a-770e6845b9eb",
   "metadata": {},
   "source": [
    "<P>With these songs, I will find the segments for each of them and comapare </P>"
   ]
  },
  {
   "cell_type": "code",
   "execution_count": 146,
   "id": "f36a1cae-f59e-42a1-8fff-0ece95edb163",
   "metadata": {},
   "outputs": [
    {
     "name": "stdout",
     "output_type": "stream",
     "text": [
      "200\n"
     ]
    },
    {
     "data": {
      "text/html": [
       "<div>\n",
       "<style scoped>\n",
       "    .dataframe tbody tr th:only-of-type {\n",
       "        vertical-align: middle;\n",
       "    }\n",
       "\n",
       "    .dataframe tbody tr th {\n",
       "        vertical-align: top;\n",
       "    }\n",
       "\n",
       "    .dataframe thead th {\n",
       "        text-align: right;\n",
       "    }\n",
       "</style>\n",
       "<table border=\"1\" class=\"dataframe\">\n",
       "  <thead>\n",
       "    <tr style=\"text-align: right;\">\n",
       "      <th></th>\n",
       "      <th>start</th>\n",
       "      <th>duration</th>\n",
       "      <th>confidence</th>\n",
       "      <th>loudness</th>\n",
       "      <th>tempo</th>\n",
       "      <th>tempo_confidence</th>\n",
       "      <th>key</th>\n",
       "      <th>key_confidence</th>\n",
       "      <th>mode</th>\n",
       "      <th>mode_confidence</th>\n",
       "      <th>time_signature</th>\n",
       "      <th>time_signature_confidence</th>\n",
       "    </tr>\n",
       "  </thead>\n",
       "  <tbody>\n",
       "    <tr>\n",
       "      <th>0</th>\n",
       "      <td>0.00000</td>\n",
       "      <td>13.80644</td>\n",
       "      <td>1.000</td>\n",
       "      <td>-11.107</td>\n",
       "      <td>127.141</td>\n",
       "      <td>0.607</td>\n",
       "      <td>2</td>\n",
       "      <td>0.000</td>\n",
       "      <td>1</td>\n",
       "      <td>0.000</td>\n",
       "      <td>4</td>\n",
       "      <td>1.0</td>\n",
       "    </tr>\n",
       "    <tr>\n",
       "      <th>1</th>\n",
       "      <td>13.80644</td>\n",
       "      <td>17.00820</td>\n",
       "      <td>1.000</td>\n",
       "      <td>-5.526</td>\n",
       "      <td>127.236</td>\n",
       "      <td>0.737</td>\n",
       "      <td>11</td>\n",
       "      <td>0.678</td>\n",
       "      <td>0</td>\n",
       "      <td>0.676</td>\n",
       "      <td>4</td>\n",
       "      <td>1.0</td>\n",
       "    </tr>\n",
       "    <tr>\n",
       "      <th>2</th>\n",
       "      <td>30.81464</td>\n",
       "      <td>13.21864</td>\n",
       "      <td>0.629</td>\n",
       "      <td>-7.306</td>\n",
       "      <td>126.817</td>\n",
       "      <td>0.444</td>\n",
       "      <td>11</td>\n",
       "      <td>0.818</td>\n",
       "      <td>0</td>\n",
       "      <td>0.709</td>\n",
       "      <td>4</td>\n",
       "      <td>1.0</td>\n",
       "    </tr>\n",
       "    <tr>\n",
       "      <th>3</th>\n",
       "      <td>44.03328</td>\n",
       "      <td>13.22499</td>\n",
       "      <td>0.356</td>\n",
       "      <td>-4.701</td>\n",
       "      <td>126.996</td>\n",
       "      <td>0.528</td>\n",
       "      <td>4</td>\n",
       "      <td>0.294</td>\n",
       "      <td>0</td>\n",
       "      <td>0.379</td>\n",
       "      <td>4</td>\n",
       "      <td>1.0</td>\n",
       "    </tr>\n",
       "    <tr>\n",
       "      <th>4</th>\n",
       "      <td>57.25827</td>\n",
       "      <td>19.38321</td>\n",
       "      <td>0.148</td>\n",
       "      <td>-5.471</td>\n",
       "      <td>126.978</td>\n",
       "      <td>0.730</td>\n",
       "      <td>11</td>\n",
       "      <td>0.036</td>\n",
       "      <td>0</td>\n",
       "      <td>0.380</td>\n",
       "      <td>4</td>\n",
       "      <td>1.0</td>\n",
       "    </tr>\n",
       "    <tr>\n",
       "      <th>5</th>\n",
       "      <td>76.64148</td>\n",
       "      <td>12.74938</td>\n",
       "      <td>0.488</td>\n",
       "      <td>-6.484</td>\n",
       "      <td>127.134</td>\n",
       "      <td>0.380</td>\n",
       "      <td>11</td>\n",
       "      <td>0.598</td>\n",
       "      <td>0</td>\n",
       "      <td>0.590</td>\n",
       "      <td>4</td>\n",
       "      <td>1.0</td>\n",
       "    </tr>\n",
       "    <tr>\n",
       "      <th>6</th>\n",
       "      <td>89.39086</td>\n",
       "      <td>13.69380</td>\n",
       "      <td>0.301</td>\n",
       "      <td>-4.418</td>\n",
       "      <td>127.074</td>\n",
       "      <td>0.537</td>\n",
       "      <td>11</td>\n",
       "      <td>0.662</td>\n",
       "      <td>0</td>\n",
       "      <td>0.605</td>\n",
       "      <td>4</td>\n",
       "      <td>1.0</td>\n",
       "    </tr>\n",
       "    <tr>\n",
       "      <th>7</th>\n",
       "      <td>103.08466</td>\n",
       "      <td>25.98935</td>\n",
       "      <td>0.086</td>\n",
       "      <td>-5.506</td>\n",
       "      <td>126.924</td>\n",
       "      <td>0.502</td>\n",
       "      <td>4</td>\n",
       "      <td>0.216</td>\n",
       "      <td>0</td>\n",
       "      <td>0.058</td>\n",
       "      <td>4</td>\n",
       "      <td>1.0</td>\n",
       "    </tr>\n",
       "    <tr>\n",
       "      <th>8</th>\n",
       "      <td>129.07400</td>\n",
       "      <td>32.58195</td>\n",
       "      <td>0.315</td>\n",
       "      <td>-4.602</td>\n",
       "      <td>127.062</td>\n",
       "      <td>0.503</td>\n",
       "      <td>11</td>\n",
       "      <td>0.730</td>\n",
       "      <td>0</td>\n",
       "      <td>0.743</td>\n",
       "      <td>4</td>\n",
       "      <td>1.0</td>\n",
       "    </tr>\n",
       "  </tbody>\n",
       "</table>\n",
       "</div>"
      ],
      "text/plain": [
       "       start  duration  confidence  loudness    tempo  tempo_confidence  key  \\\n",
       "0    0.00000  13.80644       1.000   -11.107  127.141             0.607    2   \n",
       "1   13.80644  17.00820       1.000    -5.526  127.236             0.737   11   \n",
       "2   30.81464  13.21864       0.629    -7.306  126.817             0.444   11   \n",
       "3   44.03328  13.22499       0.356    -4.701  126.996             0.528    4   \n",
       "4   57.25827  19.38321       0.148    -5.471  126.978             0.730   11   \n",
       "5   76.64148  12.74938       0.488    -6.484  127.134             0.380   11   \n",
       "6   89.39086  13.69380       0.301    -4.418  127.074             0.537   11   \n",
       "7  103.08466  25.98935       0.086    -5.506  126.924             0.502    4   \n",
       "8  129.07400  32.58195       0.315    -4.602  127.062             0.503   11   \n",
       "\n",
       "   key_confidence  mode  mode_confidence  time_signature  \\\n",
       "0           0.000     1            0.000               4   \n",
       "1           0.678     0            0.676               4   \n",
       "2           0.818     0            0.709               4   \n",
       "3           0.294     0            0.379               4   \n",
       "4           0.036     0            0.380               4   \n",
       "5           0.598     0            0.590               4   \n",
       "6           0.662     0            0.605               4   \n",
       "7           0.216     0            0.058               4   \n",
       "8           0.730     0            0.743               4   \n",
       "\n",
       "   time_signature_confidence  \n",
       "0                        1.0  \n",
       "1                        1.0  \n",
       "2                        1.0  \n",
       "3                        1.0  \n",
       "4                        1.0  \n",
       "5                        1.0  \n",
       "6                        1.0  \n",
       "7                        1.0  \n",
       "8                        1.0  "
      ]
     },
     "execution_count": 146,
     "metadata": {},
     "output_type": "execute_result"
    }
   ],
   "source": [
    "tracks_AA_response = api_call(tracks_AA_ep.format(track1_id), session_header)\n",
    "tracks1_df = pd.DataFrame(tracks_AA_response['sections'])\n",
    "tracks1_df.head(100)"
   ]
  },
  {
   "cell_type": "code",
   "execution_count": 147,
   "id": "cadb18a5-6abd-43d4-a055-e4ef4deb2737",
   "metadata": {},
   "outputs": [
    {
     "name": "stdout",
     "output_type": "stream",
     "text": [
      "200\n"
     ]
    }
   ],
   "source": [
    "tracks_AA_response2 = api_call(tracks_AA_ep.format(track2_id), session_header)\n",
    "tracks2_df = pd.DataFrame(tracks_AA_response2['sections'])\n",
    "#tracks2_df.head(100)"
   ]
  },
  {
   "cell_type": "code",
   "execution_count": 148,
   "id": "a5ecdeae-759c-4674-b41a-27f750912b42",
   "metadata": {},
   "outputs": [
    {
     "name": "stdout",
     "output_type": "stream",
     "text": [
      "200\n"
     ]
    }
   ],
   "source": [
    "tracks_AA_response3 = api_call(tracks_AA_ep.format(track3_id), session_header)\n",
    "tracks3_df = pd.DataFrame(tracks_AA_response3['sections'])\n",
    "#tracks3_df.head(100)"
   ]
  },
  {
   "cell_type": "code",
   "execution_count": 153,
   "id": "8e29860c-0d83-451e-a65f-6b694df7b744",
   "metadata": {},
   "outputs": [
    {
     "name": "stdout",
     "output_type": "stream",
     "text": [
      "400\n"
     ]
    }
   ],
   "source": [
    "tracks_AA_response4 = api_call(tracks_AA_ep.format(track4_id), session_header)\n",
    "tracks4_df = pd.DataFrame(tracks_AA_response3['sections'])\n",
    "#tracks4_df.head(100)"
   ]
  },
  {
   "cell_type": "code",
   "execution_count": 150,
   "id": "bd9763ef-a53c-4eaa-83b8-afbeefe94c78",
   "metadata": {},
   "outputs": [
    {
     "name": "stdout",
     "output_type": "stream",
     "text": [
      "200\n"
     ]
    }
   ],
   "source": [
    "tracks_AA_response5 = api_call(tracks_AA_ep.format(track5_id), session_header)\n",
    "tracks5_df = pd.DataFrame(tracks_AA_response5['sections'])\n",
    "#tracks5_df.head(100)"
   ]
  },
  {
   "cell_type": "markdown",
   "id": "d99c3fbf-94ee-42a5-9ee8-7881c3db231c",
   "metadata": {},
   "source": [
    "<H3>After listening to these songs I can connect them to the parts on tik tok that are popular by the start seconds</H3>"
   ]
  },
  {
   "cell_type": "code",
   "execution_count": 152,
   "id": "b9dfc50f-44e5-40c5-99f0-dd12e604ca96",
   "metadata": {},
   "outputs": [],
   "source": [
    "track1_tt_section = tracks1_df.iloc[8]\n",
    "track2_tt_section = tracks2_df.iloc[2]\n",
    "track3_tt_section = tracks3_df.iloc[2]\n",
    "track4_tt_section = tracks4_df.iloc[5]\n",
    "track5_tt_section = tracks5_df.iloc[2]"
   ]
  },
  {
   "cell_type": "code",
   "execution_count": 37,
   "id": "90aa0c1d-1254-4eb6-b4e6-7a590b2b879b",
   "metadata": {},
   "outputs": [
    {
     "data": {
      "text/html": [
       "<div>\n",
       "<style scoped>\n",
       "    .dataframe tbody tr th:only-of-type {\n",
       "        vertical-align: middle;\n",
       "    }\n",
       "\n",
       "    .dataframe tbody tr th {\n",
       "        vertical-align: top;\n",
       "    }\n",
       "\n",
       "    .dataframe thead th {\n",
       "        text-align: right;\n",
       "    }\n",
       "</style>\n",
       "<table border=\"1\" class=\"dataframe\">\n",
       "  <thead>\n",
       "    <tr style=\"text-align: right;\">\n",
       "      <th></th>\n",
       "      <th>start</th>\n",
       "      <th>duration</th>\n",
       "      <th>confidence</th>\n",
       "      <th>loudness</th>\n",
       "      <th>tempo</th>\n",
       "      <th>tempo_confidence</th>\n",
       "      <th>key</th>\n",
       "      <th>key_confidence</th>\n",
       "      <th>mode</th>\n",
       "      <th>mode_confidence</th>\n",
       "      <th>time_signature</th>\n",
       "      <th>time_signature_confidence</th>\n",
       "    </tr>\n",
       "  </thead>\n",
       "  <tbody>\n",
       "    <tr>\n",
       "      <th>8</th>\n",
       "      <td>129.07400</td>\n",
       "      <td>32.58195</td>\n",
       "      <td>0.315</td>\n",
       "      <td>-4.602</td>\n",
       "      <td>127.062</td>\n",
       "      <td>0.503</td>\n",
       "      <td>11.0</td>\n",
       "      <td>0.730</td>\n",
       "      <td>0.0</td>\n",
       "      <td>0.743</td>\n",
       "      <td>4.0</td>\n",
       "      <td>1.000</td>\n",
       "    </tr>\n",
       "    <tr>\n",
       "      <th>2</th>\n",
       "      <td>57.09579</td>\n",
       "      <td>52.99827</td>\n",
       "      <td>0.418</td>\n",
       "      <td>-8.718</td>\n",
       "      <td>119.995</td>\n",
       "      <td>0.769</td>\n",
       "      <td>8.0</td>\n",
       "      <td>0.578</td>\n",
       "      <td>0.0</td>\n",
       "      <td>0.577</td>\n",
       "      <td>4.0</td>\n",
       "      <td>1.000</td>\n",
       "    </tr>\n",
       "    <tr>\n",
       "      <th>2</th>\n",
       "      <td>21.64304</td>\n",
       "      <td>17.29808</td>\n",
       "      <td>0.474</td>\n",
       "      <td>-2.547</td>\n",
       "      <td>110.881</td>\n",
       "      <td>0.396</td>\n",
       "      <td>6.0</td>\n",
       "      <td>0.407</td>\n",
       "      <td>0.0</td>\n",
       "      <td>0.539</td>\n",
       "      <td>1.0</td>\n",
       "      <td>0.857</td>\n",
       "    </tr>\n",
       "    <tr>\n",
       "      <th>5</th>\n",
       "      <td>76.24325</td>\n",
       "      <td>15.66488</td>\n",
       "      <td>0.828</td>\n",
       "      <td>-5.430</td>\n",
       "      <td>111.064</td>\n",
       "      <td>0.743</td>\n",
       "      <td>11.0</td>\n",
       "      <td>0.549</td>\n",
       "      <td>0.0</td>\n",
       "      <td>0.551</td>\n",
       "      <td>4.0</td>\n",
       "      <td>1.000</td>\n",
       "    </tr>\n",
       "    <tr>\n",
       "      <th>2</th>\n",
       "      <td>31.51323</td>\n",
       "      <td>14.53210</td>\n",
       "      <td>0.863</td>\n",
       "      <td>-2.721</td>\n",
       "      <td>128.093</td>\n",
       "      <td>0.341</td>\n",
       "      <td>7.0</td>\n",
       "      <td>0.166</td>\n",
       "      <td>0.0</td>\n",
       "      <td>0.516</td>\n",
       "      <td>4.0</td>\n",
       "      <td>1.000</td>\n",
       "    </tr>\n",
       "  </tbody>\n",
       "</table>\n",
       "</div>"
      ],
      "text/plain": [
       "       start  duration  confidence  loudness    tempo  tempo_confidence   key  \\\n",
       "8  129.07400  32.58195       0.315    -4.602  127.062             0.503  11.0   \n",
       "2   57.09579  52.99827       0.418    -8.718  119.995             0.769   8.0   \n",
       "2   21.64304  17.29808       0.474    -2.547  110.881             0.396   6.0   \n",
       "5   76.24325  15.66488       0.828    -5.430  111.064             0.743  11.0   \n",
       "2   31.51323  14.53210       0.863    -2.721  128.093             0.341   7.0   \n",
       "\n",
       "   key_confidence  mode  mode_confidence  time_signature  \\\n",
       "8           0.730   0.0            0.743             4.0   \n",
       "2           0.578   0.0            0.577             4.0   \n",
       "2           0.407   0.0            0.539             1.0   \n",
       "5           0.549   0.0            0.551             4.0   \n",
       "2           0.166   0.0            0.516             4.0   \n",
       "\n",
       "   time_signature_confidence  \n",
       "8                      1.000  \n",
       "2                      1.000  \n",
       "2                      0.857  \n",
       "5                      1.000  \n",
       "2                      1.000  "
      ]
     },
     "execution_count": 37,
     "metadata": {},
     "output_type": "execute_result"
    }
   ],
   "source": [
    "combined_tt_sections = pd.DataFrame([track1_tt_section, track2_tt_section, track3_tt_section, track4_tt_section, track5_tt_section,])\n",
    "combined_tt_sections.head(5)"
   ]
  },
  {
   "cell_type": "code",
   "execution_count": 154,
   "id": "784319c5-233b-4fe8-8371-5c93d0d749c3",
   "metadata": {},
   "outputs": [
    {
     "name": "stderr",
     "output_type": "stream",
     "text": [
      "Matplotlib is building the font cache; this may take a moment.\n"
     ]
    },
    {
     "data": {
      "image/png": "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",
      "text/plain": [
       "<Figure size 640x480 with 1 Axes>"
      ]
     },
     "metadata": {},
     "output_type": "display_data"
    }
   ],
   "source": [
    "tt_sections_plot = pd.DataFrame({'keys':['6', '7', '8', '11'], 'val':[1, 1, 1, 2]})\n",
    "ax = tt_sections_plot.plot.bar(x='keys', y='val', rot=0)"
   ]
  },
  {
   "cell_type": "markdown",
   "id": "927ed872-9775-4b10-9c60-daa25da33b54",
   "metadata": {},
   "source": [
    "They are potential trends that can be seen within these collected song sections, such as repeated keys, time signatures, and tempos, however in order to draw better conclusions, we would need to see a larger sample size, hopefully from the enitre playlist. This could be done be indidually going through and finding the proper sections of each song, or possibly being able to connect all the song ids into one dataframe and sorting them by the section attributes. If i could get data from Tik Tok, I could possibly sort through that data frame and grab only the sections of the song that are popular on tik tok."
   ]
  }
 ],
 "metadata": {
  "kernelspec": {
   "display_name": "Python 3 (ipykernel)",
   "language": "python",
   "name": "python3"
  },
  "language_info": {
   "codemirror_mode": {
    "name": "ipython",
    "version": 3
   },
   "file_extension": ".py",
   "mimetype": "text/x-python",
   "name": "python",
   "nbconvert_exporter": "python",
   "pygments_lexer": "ipython3",
   "version": "3.12.4"
  }
 },
 "nbformat": 4,
 "nbformat_minor": 5
}
