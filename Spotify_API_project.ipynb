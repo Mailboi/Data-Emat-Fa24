{
 "cells": [
  {
   "cell_type": "markdown",
   "id": "0e1452a4-27a9-47ee-84fe-c75dc1357413",
   "metadata": {},
   "source": [
    "<h2>API Data Report: What makes tik tok sounds so popular?</h2>\n",
    "<h4>Jacob Nicholson</h4>\n",
    "<h4>10/11/24</h4>\n",
    "<p><b>Theoretical Hypothesis:</b> The sections of songs popular on tik tok share similar audiofeatures.</p>\n",
    "<p><b>Statistical Hypothesis:</b> Of the top 5 songs found on a spotify playlist of the most popular tik tok songs of the past 5 years, more than 50% of them have the same audio analysis features within their sections</p>"
   ]
  },
  {
   "cell_type": "code",
   "execution_count": 124,
   "id": "4dc6496e-8ba6-4b0b-898c-3ddd07bd56e5",
   "metadata": {},
   "outputs": [],
   "source": [
    "import urllib\n",
    "import requests\n",
    "import pandas as pd\n",
    "import json\n",
    "import base64\n",
    "from functools import reduce"
   ]
  },
  {
   "cell_type": "code",
   "execution_count": 125,
   "id": "d07347ab-2065-41d0-b8be-6bc65f386a09",
   "metadata": {},
   "outputs": [],
   "source": [
    "def get_session_token(SessionID, SessionKey):\n",
    "    url= 'https://accounts.spotify.com/api/token'\n",
    "    data= {'grant_type': 'client_credentials'}\n",
    "    encoded_key = base64.b64encode(str(SessionID + \":\" + SessionKey).\\\n",
    "                                   encode(\"ascii\"))\n",
    "    header = {'Authorization' : 'Basic {}'.format(encoded_key.decode(\"ascii\"))}\n",
    "    response = requests.post(url, \n",
    "                            data = data, \n",
    "                            headers = header)\n",
    "    print (response.status_code)\n",
    "    return response.json()['access_token']"
   ]
  },
  {
   "cell_type": "code",
   "execution_count": 126,
   "id": "53646a22-965c-407f-b221-0db725abaffb",
   "metadata": {},
   "outputs": [],
   "source": [
    "keys = pd.read_csv(\"/Users/jacobnicholson/DataInEmergingMediaAndTech/SpotifyAPIClientID.txt\")"
   ]
  },
  {
   "cell_type": "code",
   "execution_count": 127,
   "id": "5d9bc2de-7e90-4670-9e9a-46e54a26bbd7",
   "metadata": {},
   "outputs": [],
   "source": [
    "#keys"
   ]
  },
  {
   "cell_type": "code",
   "execution_count": 128,
   "id": "c78a5f79-214e-49d5-8784-43814f3c3671",
   "metadata": {},
   "outputs": [
    {
     "name": "stdout",
     "output_type": "stream",
     "text": [
      "200\n"
     ]
    }
   ],
   "source": [
    "access_token = get_session_token(keys['Client_ID'].iloc[0],keys['Client_Secret'].iloc[0])"
   ]
  },
  {
   "cell_type": "markdown",
   "id": "c73ee657-5ddd-4774-9844-1a596b08d4d7",
   "metadata": {},
   "source": [
    "I'm using these endpoints to call in the playlist, call in the tracks from those playlists, and analyze each of those tracks. I will be using the reponse items, get playlist items, get track id, and get track audio anaylisis from which i will extract the sections of the track. The possibility of this data being innacurate comes from the human in error in whoever made this playlist, the varying confidence in which the spotify API is able to label the audio analysis features, the length of the spotify sections not mathcing up with the length of their respective tik tok sounds, and the unfortunately small sample size in the end."
   ]
  },
  {
   "cell_type": "code",
   "execution_count": 129,
   "id": "07e96a8e-17e2-459a-9a91-077e053176d4",
   "metadata": {},
   "outputs": [],
   "source": [
    "playlist_items_ep = 'https://api.spotify.com/v1/playlists/{}/tracks'\n",
    "tracks_ep = 'https://api.spotify.com/v1/tracks'\n",
    "tracks_AA_ep = 'https://api.spotify.com/v1/audio-analysis/{}'"
   ]
  },
  {
   "cell_type": "code",
   "execution_count": 130,
   "id": "4508c4c2-d507-4aa5-8328-9b6bc675ba61",
   "metadata": {},
   "outputs": [],
   "source": [
    "def api_call(endpoint_url, api_header):\n",
    "    response = requests.get(endpoint_url, headers = api_header)\n",
    "    print(response.status_code)\n",
    "    return response.json()"
   ]
  },
  {
   "cell_type": "code",
   "execution_count": 131,
   "id": "37b4e01e-4c1a-4c6f-9ded-54f474ae891d",
   "metadata": {},
   "outputs": [],
   "source": [
    "session_header = {'Authorization' : 'Bearer {}'.format(access_token)}"
   ]
  },
  {
   "cell_type": "markdown",
   "id": "c12a17b2-ea82-4cdd-bce4-91ddf682c8be",
   "metadata": {},
   "source": [
    "<h5>The songs analyzed in this report will be found in this playlist:</h5>"
   ]
  },
  {
   "cell_type": "code",
   "execution_count": 132,
   "id": "e7b48195-8d4d-4795-9d39-b27086d63236",
   "metadata": {},
   "outputs": [],
   "source": [
    "playlist_id = '1H3AmBXPtLgPOwwf1WvUYb'"
   ]
  },
  {
   "cell_type": "code",
   "execution_count": 133,
   "id": "18b594e6-ffa5-4a2a-8dea-ed2031e53527",
   "metadata": {},
   "outputs": [
    {
     "data": {
      "text/plain": [
       "'https://api.spotify.com/v1/playlists/1H3AmBXPtLgPOwwf1WvUYb/tracks'"
      ]
     },
     "execution_count": 133,
     "metadata": {},
     "output_type": "execute_result"
    }
   ],
   "source": [
    "playlist_items_ep.format(playlist_id)"
   ]
  },
  {
   "cell_type": "code",
   "execution_count": 134,
   "id": "d70120eb-aaef-4eb1-bd71-fd72ccde6659",
   "metadata": {},
   "outputs": [
    {
     "name": "stdout",
     "output_type": "stream",
     "text": [
      "200\n"
     ]
    }
   ],
   "source": [
    "playlist_response = api_call(playlist_items_ep.format(playlist_id), session_header)"
   ]
  },
  {
   "cell_type": "code",
   "execution_count": 135,
   "id": "2b2d6a27-3bf1-4e55-84d8-f2651aa84a41",
   "metadata": {},
   "outputs": [
    {
     "name": "stdout",
     "output_type": "stream",
     "text": [
      "dict_keys(['href', 'items', 'limit', 'next', 'offset', 'previous', 'total'])\n"
     ]
    }
   ],
   "source": [
    "print(playlist_response.keys())"
   ]
  },
  {
   "cell_type": "code",
   "execution_count": 136,
   "id": "cbcbe5b6-077e-4de1-8189-d36ae7337d12",
   "metadata": {},
   "outputs": [],
   "source": [
    "playlist_df= pd.DataFrame(playlist_response['items'])\n",
    "#playlist_df.head()"
   ]
  },
  {
   "cell_type": "code",
   "execution_count": 137,
   "id": "f096cb7a-555e-4dc5-b707-dd41fd97193f",
   "metadata": {},
   "outputs": [],
   "source": [
    "playlist_df2 = pd.DataFrame(playlist_response['items']).drop(columns = ['added_at', 'added_by', 'is_local', 'primary_color', 'video_thumbnail'])\n",
    "#playlist_df2.head()"
   ]
  },
  {
   "cell_type": "code",
   "execution_count": 138,
   "id": "83055a96-fb99-4b9e-ac6a-61c56fb8f73e",
   "metadata": {},
   "outputs": [],
   "source": [
    "#playlist_df2.columns"
   ]
  },
  {
   "cell_type": "code",
   "execution_count": 139,
   "id": "504daac1-b753-4fa3-beb3-d8b67f9f2c7c",
   "metadata": {},
   "outputs": [],
   "source": [
    "songs_ids_df = pd.DataFrame({\n",
    "    'Song Title': [track['name'] for track in playlist_df2['track']],\n",
    "    'Song ID': [track['id'] for track in playlist_df2['track']],\n",
    "    'Popularity': [track['popularity'] for track in playlist_df2['track']],\n",
    "    'Song Artist': [', '.join([artist['name'] for artist in track['artists']]) for track in playlist_df2['track']],\n",
    "})"
   ]
  },
  {
   "cell_type": "markdown",
   "id": "b594d907-8c03-4a24-bebb-bdf26f76d02d",
   "metadata": {},
   "source": [
    "<h4>Below I breifly tried to create a dataframe using every single song from this playlist, but I had trouble getting the dataframe to function</h4>"
   ]
  },
  {
   "cell_type": "code",
   "execution_count": 155,
   "id": "ebfcba21-f070-4e8b-a194-593895e4537b",
   "metadata": {},
   "outputs": [],
   "source": [
    "song_ids = songs_ids_df['Song ID'].tolist()\n",
    "limited_song_ids = song_ids[:50]\n",
    "ids_string = ','.join(limited_song_ids)\n",
    "#ids_string"
   ]
  },
  {
   "cell_type": "code",
   "execution_count": 156,
   "id": "158033c2-71a3-4a60-a662-f4590080a08e",
   "metadata": {},
   "outputs": [],
   "source": [
    "song_ids = songs_ids_df['Song ID'].tolist()\n",
    "limited_song_ids = song_ids[:50]\n",
    "ids_string = ','.join(limited_song_ids)"
   ]
  },
  {
   "cell_type": "code",
   "execution_count": 157,
   "id": "c513764a-9469-4a81-96b1-c53e8d296fc9",
   "metadata": {},
   "outputs": [],
   "source": [
    "song_ids_df2 = pd.DataFrame({'Song ID': limited_song_ids})\n",
    "#song_ids_df2"
   ]
  },
  {
   "cell_type": "code",
   "execution_count": 158,
   "id": "2b409143-c7f6-41eb-815c-68211090e148",
   "metadata": {},
   "outputs": [
    {
     "name": "stdout",
     "output_type": "stream",
     "text": [
      "400\n"
     ]
    },
    {
     "ename": "KeyError",
     "evalue": "'sections'",
     "output_type": "error",
     "traceback": [
      "\u001b[0;31m---------------------------------------------------------------------------\u001b[0m",
      "\u001b[0;31mKeyError\u001b[0m                                  Traceback (most recent call last)",
      "Cell \u001b[0;32mIn[158], line 2\u001b[0m\n\u001b[1;32m      1\u001b[0m song_ids_response \u001b[38;5;241m=\u001b[39m api_call(tracks_AA_ep\u001b[38;5;241m.\u001b[39mformat(ids_string), session_header)\n\u001b[0;32m----> 2\u001b[0m songids_df \u001b[38;5;241m=\u001b[39m pd\u001b[38;5;241m.\u001b[39mDataFrame(\u001b[43msong_ids_response\u001b[49m\u001b[43m[\u001b[49m\u001b[38;5;124;43m'\u001b[39;49m\u001b[38;5;124;43msections\u001b[39;49m\u001b[38;5;124;43m'\u001b[39;49m\u001b[43m]\u001b[49m)\n\u001b[1;32m      3\u001b[0m songids_df\u001b[38;5;241m.\u001b[39mhead(\u001b[38;5;241m100\u001b[39m)\n",
      "\u001b[0;31mKeyError\u001b[0m: 'sections'"
     ]
    }
   ],
   "source": [
    "song_ids_response = api_call(tracks_AA_ep.format(ids_string), session_header)\n",
    "songids_df = pd.DataFrame(song_ids_response['sections'])\n",
    "songids_df.head(100)"
   ]
  },
  {
   "cell_type": "markdown",
   "id": "ea2211cc-9633-4e22-bda9-ed57e554879b",
   "metadata": {},
   "source": [
    "<h4>I decided to insted just work with the top 5 most popular songs</h4>"
   ]
  },
  {
   "cell_type": "code",
   "execution_count": 144,
   "id": "1673baf7-82ea-4bea-bf18-08557236a791",
   "metadata": {},
   "outputs": [
    {
     "data": {
      "text/html": [
       "<div>\n",
       "<style scoped>\n",
       "    .dataframe tbody tr th:only-of-type {\n",
       "        vertical-align: middle;\n",
       "    }\n",
       "\n",
       "    .dataframe tbody tr th {\n",
       "        vertical-align: top;\n",
       "    }\n",
       "\n",
       "    .dataframe thead th {\n",
       "        text-align: right;\n",
       "    }\n",
       "</style>\n",
       "<table border=\"1\" class=\"dataframe\">\n",
       "  <thead>\n",
       "    <tr style=\"text-align: right;\">\n",
       "      <th></th>\n",
       "      <th>Song Title</th>\n",
       "      <th>Song ID</th>\n",
       "      <th>Popularity</th>\n",
       "      <th>Song Artist</th>\n",
       "    </tr>\n",
       "  </thead>\n",
       "  <tbody>\n",
       "    <tr>\n",
       "      <th>0</th>\n",
       "      <td>Alibi (with Pabllo Vittar &amp; Yseult)</td>\n",
       "      <td>5496lks6V3fh1mZAB6IAap</td>\n",
       "      <td>89</td>\n",
       "      <td>Sevdaliza, Pabllo Vittar, Yseult</td>\n",
       "    </tr>\n",
       "    <tr>\n",
       "      <th>1</th>\n",
       "      <td>Move</td>\n",
       "      <td>1BJJbSX6muJVF2AK7uH1x4</td>\n",
       "      <td>89</td>\n",
       "      <td>Adam Port, Stryv, Keinemusik, Orso, Malachiii</td>\n",
       "    </tr>\n",
       "    <tr>\n",
       "      <th>13</th>\n",
       "      <td>greedy</td>\n",
       "      <td>3rUGC1vUpkDG9CZFHMur1t</td>\n",
       "      <td>87</td>\n",
       "      <td>Tate McRae</td>\n",
       "    </tr>\n",
       "    <tr>\n",
       "      <th>5</th>\n",
       "      <td>Beautiful Things</td>\n",
       "      <td>6tNQ70jh4OwmPGpYy6R2o9</td>\n",
       "      <td>87</td>\n",
       "      <td>Benson Boone</td>\n",
       "    </tr>\n",
       "    <tr>\n",
       "      <th>33</th>\n",
       "      <td>I'm Good (Blue)</td>\n",
       "      <td>4uUG5RXrOk84mYEfFvj3cK</td>\n",
       "      <td>86</td>\n",
       "      <td>David Guetta, Bebe Rexha</td>\n",
       "    </tr>\n",
       "  </tbody>\n",
       "</table>\n",
       "</div>"
      ],
      "text/plain": [
       "                             Song Title                 Song ID  Popularity  \\\n",
       "0   Alibi (with Pabllo Vittar & Yseult)  5496lks6V3fh1mZAB6IAap          89   \n",
       "1                                  Move  1BJJbSX6muJVF2AK7uH1x4          89   \n",
       "13                               greedy  3rUGC1vUpkDG9CZFHMur1t          87   \n",
       "5                      Beautiful Things  6tNQ70jh4OwmPGpYy6R2o9          87   \n",
       "33                      I'm Good (Blue)  4uUG5RXrOk84mYEfFvj3cK          86   \n",
       "\n",
       "                                      Song Artist  \n",
       "0                Sevdaliza, Pabllo Vittar, Yseult  \n",
       "1   Adam Port, Stryv, Keinemusik, Orso, Malachiii  \n",
       "13                                     Tate McRae  \n",
       "5                                    Benson Boone  \n",
       "33                       David Guetta, Bebe Rexha  "
      ]
     },
     "execution_count": 144,
     "metadata": {},
     "output_type": "execute_result"
    }
   ],
   "source": [
    "sorted_songs_ids_df = songs_ids_df.sort_values(by='Popularity', ascending=False)\n",
    "sorted_songs_ids_df.head()"
   ]
  },
  {
   "cell_type": "code",
   "execution_count": 145,
   "id": "9052b05d-d3b9-4618-9b8d-04c24f8bff33",
   "metadata": {},
   "outputs": [],
   "source": [
    "track1_id = '5496lks6V3fh1mZAB6IAap'\n",
    "track2_id = '1BJJbSX6muJVF2AK7uH1x4'\n",
    "track3_id = '3rUGC1vUpkDG9CZFHMur1t'\n",
    "track4_id = '6tNQ70jh4OwmPGpYy6R'\n",
    "track5_id = '4uUG5RXrOk84mYEfFvj3cK'"
   ]
  },
  {
   "cell_type": "markdown",
   "id": "6de12e86-f2bd-4f09-bf9a-770e6845b9eb",
   "metadata": {},
   "source": [
    "<P>With these songs, I will find the segments for each of them and comapare </P>"
   ]
  },
  {
   "cell_type": "code",
   "execution_count": 146,
   "id": "f36a1cae-f59e-42a1-8fff-0ece95edb163",
   "metadata": {},
   "outputs": [
    {
     "name": "stdout",
     "output_type": "stream",
     "text": [
      "200\n"
     ]
    },
    {
     "data": {
      "text/html": [
       "<div>\n",
       "<style scoped>\n",
       "    .dataframe tbody tr th:only-of-type {\n",
       "        vertical-align: middle;\n",
       "    }\n",
       "\n",
       "    .dataframe tbody tr th {\n",
       "        vertical-align: top;\n",
       "    }\n",
       "\n",
       "    .dataframe thead th {\n",
       "        text-align: right;\n",
       "    }\n",
       "</style>\n",
       "<table border=\"1\" class=\"dataframe\">\n",
       "  <thead>\n",
       "    <tr style=\"text-align: right;\">\n",
       "      <th></th>\n",
       "      <th>start</th>\n",
       "      <th>duration</th>\n",
       "      <th>confidence</th>\n",
       "      <th>loudness</th>\n",
       "      <th>tempo</th>\n",
       "      <th>tempo_confidence</th>\n",
       "      <th>key</th>\n",
       "      <th>key_confidence</th>\n",
       "      <th>mode</th>\n",
       "      <th>mode_confidence</th>\n",
       "      <th>time_signature</th>\n",
       "      <th>time_signature_confidence</th>\n",
       "    </tr>\n",
       "  </thead>\n",
       "  <tbody>\n",
       "    <tr>\n",
       "      <th>0</th>\n",
       "      <td>0.00000</td>\n",
       "      <td>13.80644</td>\n",
       "      <td>1.000</td>\n",
       "      <td>-11.107</td>\n",
       "      <td>127.141</td>\n",
       "      <td>0.607</td>\n",
       "      <td>2</td>\n",
       "      <td>0.000</td>\n",
       "      <td>1</td>\n",
       "      <td>0.000</td>\n",
       "      <td>4</td>\n",
       "      <td>1.0</td>\n",
       "    </tr>\n",
       "    <tr>\n",
       "      <th>1</th>\n",
       "      <td>13.80644</td>\n",
       "      <td>17.00820</td>\n",
       "      <td>1.000</td>\n",
       "      <td>-5.526</td>\n",
       "      <td>127.236</td>\n",
       "      <td>0.737</td>\n",
       "      <td>11</td>\n",
       "      <td>0.678</td>\n",
       "      <td>0</td>\n",
       "      <td>0.676</td>\n",
       "      <td>4</td>\n",
       "      <td>1.0</td>\n",
       "    </tr>\n",
       "    <tr>\n",
       "      <th>2</th>\n",
       "      <td>30.81464</td>\n",
       "      <td>13.21864</td>\n",
       "      <td>0.629</td>\n",
       "      <td>-7.306</td>\n",
       "      <td>126.817</td>\n",
       "      <td>0.444</td>\n",
       "      <td>11</td>\n",
       "      <td>0.818</td>\n",
       "      <td>0</td>\n",
       "      <td>0.709</td>\n",
       "      <td>4</td>\n",
       "      <td>1.0</td>\n",
       "    </tr>\n",
       "    <tr>\n",
       "      <th>3</th>\n",
       "      <td>44.03328</td>\n",
       "      <td>13.22499</td>\n",
       "      <td>0.356</td>\n",
       "      <td>-4.701</td>\n",
       "      <td>126.996</td>\n",
       "      <td>0.528</td>\n",
       "      <td>4</td>\n",
       "      <td>0.294</td>\n",
       "      <td>0</td>\n",
       "      <td>0.379</td>\n",
       "      <td>4</td>\n",
       "      <td>1.0</td>\n",
       "    </tr>\n",
       "    <tr>\n",
       "      <th>4</th>\n",
       "      <td>57.25827</td>\n",
       "      <td>19.38321</td>\n",
       "      <td>0.148</td>\n",
       "      <td>-5.471</td>\n",
       "      <td>126.978</td>\n",
       "      <td>0.730</td>\n",
       "      <td>11</td>\n",
       "      <td>0.036</td>\n",
       "      <td>0</td>\n",
       "      <td>0.380</td>\n",
       "      <td>4</td>\n",
       "      <td>1.0</td>\n",
       "    </tr>\n",
       "    <tr>\n",
       "      <th>5</th>\n",
       "      <td>76.64148</td>\n",
       "      <td>12.74938</td>\n",
       "      <td>0.488</td>\n",
       "      <td>-6.484</td>\n",
       "      <td>127.134</td>\n",
       "      <td>0.380</td>\n",
       "      <td>11</td>\n",
       "      <td>0.598</td>\n",
       "      <td>0</td>\n",
       "      <td>0.590</td>\n",
       "      <td>4</td>\n",
       "      <td>1.0</td>\n",
       "    </tr>\n",
       "    <tr>\n",
       "      <th>6</th>\n",
       "      <td>89.39086</td>\n",
       "      <td>13.69380</td>\n",
       "      <td>0.301</td>\n",
       "      <td>-4.418</td>\n",
       "      <td>127.074</td>\n",
       "      <td>0.537</td>\n",
       "      <td>11</td>\n",
       "      <td>0.662</td>\n",
       "      <td>0</td>\n",
       "      <td>0.605</td>\n",
       "      <td>4</td>\n",
       "      <td>1.0</td>\n",
       "    </tr>\n",
       "    <tr>\n",
       "      <th>7</th>\n",
       "      <td>103.08466</td>\n",
       "      <td>25.98935</td>\n",
       "      <td>0.086</td>\n",
       "      <td>-5.506</td>\n",
       "      <td>126.924</td>\n",
       "      <td>0.502</td>\n",
       "      <td>4</td>\n",
       "      <td>0.216</td>\n",
       "      <td>0</td>\n",
       "      <td>0.058</td>\n",
       "      <td>4</td>\n",
       "      <td>1.0</td>\n",
       "    </tr>\n",
       "    <tr>\n",
       "      <th>8</th>\n",
       "      <td>129.07400</td>\n",
       "      <td>32.58195</td>\n",
       "      <td>0.315</td>\n",
       "      <td>-4.602</td>\n",
       "      <td>127.062</td>\n",
       "      <td>0.503</td>\n",
       "      <td>11</td>\n",
       "      <td>0.730</td>\n",
       "      <td>0</td>\n",
       "      <td>0.743</td>\n",
       "      <td>4</td>\n",
       "      <td>1.0</td>\n",
       "    </tr>\n",
       "  </tbody>\n",
       "</table>\n",
       "</div>"
      ],
      "text/plain": [
       "       start  duration  confidence  loudness    tempo  tempo_confidence  key  \\\n",
       "0    0.00000  13.80644       1.000   -11.107  127.141             0.607    2   \n",
       "1   13.80644  17.00820       1.000    -5.526  127.236             0.737   11   \n",
       "2   30.81464  13.21864       0.629    -7.306  126.817             0.444   11   \n",
       "3   44.03328  13.22499       0.356    -4.701  126.996             0.528    4   \n",
       "4   57.25827  19.38321       0.148    -5.471  126.978             0.730   11   \n",
       "5   76.64148  12.74938       0.488    -6.484  127.134             0.380   11   \n",
       "6   89.39086  13.69380       0.301    -4.418  127.074             0.537   11   \n",
       "7  103.08466  25.98935       0.086    -5.506  126.924             0.502    4   \n",
       "8  129.07400  32.58195       0.315    -4.602  127.062             0.503   11   \n",
       "\n",
       "   key_confidence  mode  mode_confidence  time_signature  \\\n",
       "0           0.000     1            0.000               4   \n",
       "1           0.678     0            0.676               4   \n",
       "2           0.818     0            0.709               4   \n",
       "3           0.294     0            0.379               4   \n",
       "4           0.036     0            0.380               4   \n",
       "5           0.598     0            0.590               4   \n",
       "6           0.662     0            0.605               4   \n",
       "7           0.216     0            0.058               4   \n",
       "8           0.730     0            0.743               4   \n",
       "\n",
       "   time_signature_confidence  \n",
       "0                        1.0  \n",
       "1                        1.0  \n",
       "2                        1.0  \n",
       "3                        1.0  \n",
       "4                        1.0  \n",
       "5                        1.0  \n",
       "6                        1.0  \n",
       "7                        1.0  \n",
       "8                        1.0  "
      ]
     },
     "execution_count": 146,
     "metadata": {},
     "output_type": "execute_result"
    }
   ],
   "source": [
    "tracks_AA_response = api_call(tracks_AA_ep.format(track1_id), session_header)\n",
    "tracks1_df = pd.DataFrame(tracks_AA_response['sections'])\n",
    "tracks1_df.head(100)"
   ]
  },
  {
   "cell_type": "code",
   "execution_count": 147,
   "id": "cadb18a5-6abd-43d4-a055-e4ef4deb2737",
   "metadata": {},
   "outputs": [
    {
     "name": "stdout",
     "output_type": "stream",
     "text": [
      "200\n"
     ]
    }
   ],
   "source": [
    "tracks_AA_response2 = api_call(tracks_AA_ep.format(track2_id), session_header)\n",
    "tracks2_df = pd.DataFrame(tracks_AA_response2['sections'])\n",
    "#tracks2_df.head(100)"
   ]
  },
  {
   "cell_type": "code",
   "execution_count": 148,
   "id": "a5ecdeae-759c-4674-b41a-27f750912b42",
   "metadata": {},
   "outputs": [
    {
     "name": "stdout",
     "output_type": "stream",
     "text": [
      "200\n"
     ]
    }
   ],
   "source": [
    "tracks_AA_response3 = api_call(tracks_AA_ep.format(track3_id), session_header)\n",
    "tracks3_df = pd.DataFrame(tracks_AA_response3['sections'])\n",
    "#tracks3_df.head(100)"
   ]
  },
  {
   "cell_type": "code",
   "execution_count": 153,
   "id": "8e29860c-0d83-451e-a65f-6b694df7b744",
   "metadata": {},
   "outputs": [
    {
     "name": "stdout",
     "output_type": "stream",
     "text": [
      "400\n"
     ]
    }
   ],
   "source": [
    "tracks_AA_response4 = api_call(tracks_AA_ep.format(track4_id), session_header)\n",
    "tracks4_df = pd.DataFrame(tracks_AA_response3['sections'])\n",
    "#tracks4_df.head(100)"
   ]
  },
  {
   "cell_type": "code",
   "execution_count": 150,
   "id": "bd9763ef-a53c-4eaa-83b8-afbeefe94c78",
   "metadata": {},
   "outputs": [
    {
     "name": "stdout",
     "output_type": "stream",
     "text": [
      "200\n"
     ]
    }
   ],
   "source": [
    "tracks_AA_response5 = api_call(tracks_AA_ep.format(track5_id), session_header)\n",
    "tracks5_df = pd.DataFrame(tracks_AA_response5['sections'])\n",
    "#tracks5_df.head(100)"
   ]
  },
  {
   "cell_type": "markdown",
   "id": "d99c3fbf-94ee-42a5-9ee8-7881c3db231c",
   "metadata": {},
   "source": [
    "<H3>After listening to these songs I can connect them to the parts on tik tok that are popular by the start seconds</H3>"
   ]
  },
  {
   "cell_type": "code",
   "execution_count": 152,
   "id": "b9dfc50f-44e5-40c5-99f0-dd12e604ca96",
   "metadata": {},
   "outputs": [],
   "source": [
    "track1_tt_section = tracks1_df.iloc[8]\n",
    "track2_tt_section = tracks2_df.iloc[2]\n",
    "track3_tt_section = tracks3_df.iloc[2]\n",
    "track4_tt_section = tracks4_df.iloc[5]\n",
    "track5_tt_section = tracks5_df.iloc[2]"
   ]
  },
  {
   "cell_type": "code",
   "execution_count": 37,
   "id": "90aa0c1d-1254-4eb6-b4e6-7a590b2b879b",
   "metadata": {},
   "outputs": [
    {
     "data": {
      "text/html": [
       "<div>\n",
       "<style scoped>\n",
       "    .dataframe tbody tr th:only-of-type {\n",
       "        vertical-align: middle;\n",
       "    }\n",
       "\n",
       "    .dataframe tbody tr th {\n",
       "        vertical-align: top;\n",
       "    }\n",
       "\n",
       "    .dataframe thead th {\n",
       "        text-align: right;\n",
       "    }\n",
       "</style>\n",
       "<table border=\"1\" class=\"dataframe\">\n",
       "  <thead>\n",
       "    <tr style=\"text-align: right;\">\n",
       "      <th></th>\n",
       "      <th>start</th>\n",
       "      <th>duration</th>\n",
       "      <th>confidence</th>\n",
       "      <th>loudness</th>\n",
       "      <th>tempo</th>\n",
       "      <th>tempo_confidence</th>\n",
       "      <th>key</th>\n",
       "      <th>key_confidence</th>\n",
       "      <th>mode</th>\n",
       "      <th>mode_confidence</th>\n",
       "      <th>time_signature</th>\n",
       "      <th>time_signature_confidence</th>\n",
       "    </tr>\n",
       "  </thead>\n",
       "  <tbody>\n",
       "    <tr>\n",
       "      <th>8</th>\n",
       "      <td>129.07400</td>\n",
       "      <td>32.58195</td>\n",
       "      <td>0.315</td>\n",
       "      <td>-4.602</td>\n",
       "      <td>127.062</td>\n",
       "      <td>0.503</td>\n",
       "      <td>11.0</td>\n",
       "      <td>0.730</td>\n",
       "      <td>0.0</td>\n",
       "      <td>0.743</td>\n",
       "      <td>4.0</td>\n",
       "      <td>1.000</td>\n",
       "    </tr>\n",
       "    <tr>\n",
       "      <th>2</th>\n",
       "      <td>57.09579</td>\n",
       "      <td>52.99827</td>\n",
       "      <td>0.418</td>\n",
       "      <td>-8.718</td>\n",
       "      <td>119.995</td>\n",
       "      <td>0.769</td>\n",
       "      <td>8.0</td>\n",
       "      <td>0.578</td>\n",
       "      <td>0.0</td>\n",
       "      <td>0.577</td>\n",
       "      <td>4.0</td>\n",
       "      <td>1.000</td>\n",
       "    </tr>\n",
       "    <tr>\n",
       "      <th>2</th>\n",
       "      <td>21.64304</td>\n",
       "      <td>17.29808</td>\n",
       "      <td>0.474</td>\n",
       "      <td>-2.547</td>\n",
       "      <td>110.881</td>\n",
       "      <td>0.396</td>\n",
       "      <td>6.0</td>\n",
       "      <td>0.407</td>\n",
       "      <td>0.0</td>\n",
       "      <td>0.539</td>\n",
       "      <td>1.0</td>\n",
       "      <td>0.857</td>\n",
       "    </tr>\n",
       "    <tr>\n",
       "      <th>5</th>\n",
       "      <td>76.24325</td>\n",
       "      <td>15.66488</td>\n",
       "      <td>0.828</td>\n",
       "      <td>-5.430</td>\n",
       "      <td>111.064</td>\n",
       "      <td>0.743</td>\n",
       "      <td>11.0</td>\n",
       "      <td>0.549</td>\n",
       "      <td>0.0</td>\n",
       "      <td>0.551</td>\n",
       "      <td>4.0</td>\n",
       "      <td>1.000</td>\n",
       "    </tr>\n",
       "    <tr>\n",
       "      <th>2</th>\n",
       "      <td>31.51323</td>\n",
       "      <td>14.53210</td>\n",
       "      <td>0.863</td>\n",
       "      <td>-2.721</td>\n",
       "      <td>128.093</td>\n",
       "      <td>0.341</td>\n",
       "      <td>7.0</td>\n",
       "      <td>0.166</td>\n",
       "      <td>0.0</td>\n",
       "      <td>0.516</td>\n",
       "      <td>4.0</td>\n",
       "      <td>1.000</td>\n",
       "    </tr>\n",
       "  </tbody>\n",
       "</table>\n",
       "</div>"
      ],
      "text/plain": [
       "       start  duration  confidence  loudness    tempo  tempo_confidence   key  \\\n",
       "8  129.07400  32.58195       0.315    -4.602  127.062             0.503  11.0   \n",
       "2   57.09579  52.99827       0.418    -8.718  119.995             0.769   8.0   \n",
       "2   21.64304  17.29808       0.474    -2.547  110.881             0.396   6.0   \n",
       "5   76.24325  15.66488       0.828    -5.430  111.064             0.743  11.0   \n",
       "2   31.51323  14.53210       0.863    -2.721  128.093             0.341   7.0   \n",
       "\n",
       "   key_confidence  mode  mode_confidence  time_signature  \\\n",
       "8           0.730   0.0            0.743             4.0   \n",
       "2           0.578   0.0            0.577             4.0   \n",
       "2           0.407   0.0            0.539             1.0   \n",
       "5           0.549   0.0            0.551             4.0   \n",
       "2           0.166   0.0            0.516             4.0   \n",
       "\n",
       "   time_signature_confidence  \n",
       "8                      1.000  \n",
       "2                      1.000  \n",
       "2                      0.857  \n",
       "5                      1.000  \n",
       "2                      1.000  "
      ]
     },
     "execution_count": 37,
     "metadata": {},
     "output_type": "execute_result"
    }
   ],
   "source": [
    "combined_tt_sections = pd.DataFrame([track1_tt_section, track2_tt_section, track3_tt_section, track4_tt_section, track5_tt_section,])\n",
    "combined_tt_sections.head(5)"
   ]
  },
  {
   "cell_type": "code",
   "execution_count": 154,
   "id": "784319c5-233b-4fe8-8371-5c93d0d749c3",
   "metadata": {},
   "outputs": [
    {
     "name": "stderr",
     "output_type": "stream",
     "text": [
      "Matplotlib is building the font cache; this may take a moment.\n"
     ]
    },
    {
     "data": {
      "image/png": "[encoded data removed]",
      "text/plain": [
       "<Figure size 640x480 with 1 Axes>"
      ]
     },
     "metadata": {},
     "output_type": "display_data"
    }
   ],
   "source": [
    "tt_sections_plot = pd.DataFrame({'keys':['6', '7', '8', '11'], 'val':[1, 1, 1, 2]})\n",
    "ax = tt_sections_plot.plot.bar(x='keys', y='val', rot=0)"
   ]
  },
  {
   "cell_type": "markdown",
   "id": "927ed872-9775-4b10-9c60-daa25da33b54",
   "metadata": {},
   "source": [
    "They are potential trends that can be seen within these collected song sections, such as repeated keys, time signatures, and tempos, however in order to draw better conclusions, we would need to see a larger sample size, hopefully from the enitre playlist. This could be done be indidually going through and finding the proper sections of each song, or possibly being able to connect all the song ids into one dataframe and sorting them by the section attributes. If i could get data from Tik Tok, I could possibly sort through that data frame and grab only the sections of the song that are popular on tik tok."
   ]
  }
 ],
 "metadata": {
  "kernelspec": {
   "display_name": "Python 3 (ipykernel)",
   "language": "python",
   "name": "python3"
  },
  "language_info": {
   "codemirror_mode": {
    "name": "ipython",
    "version": 3
   },
   "file_extension": ".py",
   "mimetype": "text/x-python",
   "name": "python",
   "nbconvert_exporter": "python",
   "pygments_lexer": "ipython3",
   "version": "3.12.4"
  }
 },
 "nbformat": 4,
 "nbformat_minor": 5
}
